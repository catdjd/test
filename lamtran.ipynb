{
 "cells": [
  {
   "cell_type": "code",
   "execution_count": 1,
   "id": "2481f60c-2382-44a1-83f9-b4809259476c",
   "metadata": {},
   "outputs": [],
   "source": [
    "import pyspark \n",
    "from pyspark.sql  import SparkSession \n",
    "from pyspark.sql.functions import collect_list, col, lit \n",
    "from pyspark.sql.types import StructType, StructField, IntegerType, StringType, DoubleType, TimestampType, DateType, ArrayType\n",
    "import os \n",
    "import json \n",
    "from pyspark.sql.functions import to_date, when\n",
    "from urllib.parse import urlparse\n",
    "import boto3\n"
   ]
  },
  {
   "cell_type": "code",
   "execution_count": 10,
   "id": "cdd05b5a",
   "metadata": {},
   "outputs": [
    {
     "name": "stdout",
     "output_type": "stream",
     "text": [
      "Collecting prettytable\n",
      "  Downloading prettytable-3.12.0-py3-none-any.whl.metadata (30 kB)\n",
      "Requirement already satisfied: wcwidth in c:\\users\\acer\\appdata\\local\\programs\\python\\python39\\lib\\site-packages (from prettytable) (0.2.6)\n",
      "Downloading prettytable-3.12.0-py3-none-any.whl (31 kB)\n",
      "Installing collected packages: prettytable\n",
      "Successfully installed prettytable-3.12.0\n",
      "Note: you may need to restart the kernel to use updated packages.\n"
     ]
    },
    {
     "name": "stderr",
     "output_type": "stream",
     "text": [
      "\n",
      "[notice] A new release of pip is available: 23.3.1 -> 24.3.1\n",
      "[notice] To update, run: python.exe -m pip install --upgrade pip\n"
     ]
    }
   ],
   "source": [
    "pip install prettytable"
   ]
  },
  {
   "cell_type": "code",
   "execution_count": 2,
   "id": "56261d87-86ab-42c7-8eac-ab53dc788d13",
   "metadata": {},
   "outputs": [],
   "source": [
    "with open(\"credentials.json\") as f: \n",
    "    credentials = json.load(f)\n",
    "    \n",
    "aws_access_key = credentials[\"accessKey\"] \n",
    "aws_secret_key = credentials[\"secretKey\"] \n",
    "aws_s3_endpoint = \"http://18.138.236.177:9000\" \n",
    "aws_s3_region = \"us-east-1\" \n",
    "nessi_warehouse = \"s3a://standardize\"\n",
    "nessi_uri = \"http://18.138.236.177:19120/api/v1\"\n",
    "raw_csv_path = \"s3a://raw/CRMUSER_ACCOUNTS.csv\""
   ]
  },
  {
   "cell_type": "code",
   "execution_count": 3,
   "id": "b8b37e4d-5ba3-4586-b827-57cfe749bedf",
   "metadata": {},
   "outputs": [],
   "source": [
    "conf = (\n",
    "    pyspark.SparkConf()\n",
    "        .setAppName('raw_to_standard_etl')\n",
    "\n",
    "        .set('spark.jars.packages', \n",
    "             'org.apache.iceberg:iceberg-spark-runtime-3.5_2.12:1.5.0,'\n",
    "             'org.projectnessie.nessie-integrations:nessie-spark-extensions-3.5_2.12:0.77.1,'\n",
    "             'software.amazon.awssdk:bundle:2.24.8,'\n",
    "             'org.apache.iceberg:iceberg-nessie:1.4.0,'\n",
    "             'org.apache.hadoop:hadoop-aws:3.3.4,'  \n",
    "             'org.apache.hadoop:hadoop-common:3.3.4,'  \n",
    "             'io.minio:minio:8.5.0,'\n",
    "             'org.apache.spark:spark-hadoop-cloud_2.13:3.2.1,'\n",
    "             'software.amazon.awssdk:url-connection-client:2.24.8,'\n",
    "             'com.amazonaws:aws-java-sdk-bundle:1.12.207,'\n",
    "             '')\n",
    "        .set('spark.sql.extensions', 'org.apache.iceberg.spark.extensions.IcebergSparkSessionExtensions,org.projectnessie.spark.extensions.NessieSparkSessionExtensions')\n",
    "        .set('spark.sql.catalog.nessie', 'org.apache.iceberg.spark.SparkCatalog')\n",
    "        .set('spark.sql.catalog.nessie.uri', nessi_uri)\n",
    "        .set('spark.sql.catalog.nessie.ref', 'main')\n",
    "        .set('spark.sql.catalog.nessie.authentication.type', 'NONE')\n",
    "        .set('spark.sql.catalog.nessie.catalog-impl', 'org.apache.iceberg.nessie.NessieCatalog')\n",
    "        .set('spark.sql.catalog.nessie.s3.endpoint', aws_s3_endpoint)\n",
    "        .set('spark.sql.catalog.nessie.warehouse', nessi_warehouse)\n",
    "        .set('spark.sql.catalog.nessie.io-impl', 'org.apache.iceberg.aws.s3.S3FileIO')\n",
    "        .set('spark.hadoop.fs.s3a.access.key', aws_access_key)\n",
    "        .set('spark.hadoop.fs.s3a.secret.key', aws_secret_key)\n",
    "        .set('spark.hadoop.fs.s3a.endpoint', aws_s3_endpoint)\n",
    "        .set('spark.hadoop.fs.s3a.region', aws_s3_region)\n",
    "        .set('spark.hadoop.fs.s3a.path.style.access', 'true')\n",
    "        .set('spark.hadoop.fs.s3a.impl', 'org.apache.hadoop.fs.s3a.S3AFileSystem')\n",
    "        .set('spark.hadoop.fs.s3a.aws.credentials.provider', 'org.apache.hadoop.fs.s3a.SimpleAWSCredentialsProvider')\n",
    "        .set('spark.hadoop.fs.s3a.connection.ssl.enabled', 'false')\n",
    "        .set('spark.driver.memory', '512m')\n",
    "        .set('spark.executor.memory', '512m')\n",
    "        .set('spark.executor.cores', '1')\n",
    ")"
   ]
  },
  {
   "cell_type": "code",
   "execution_count": 4,
   "id": "cebb829c-e019-4379-a7fd-69662b88e569",
   "metadata": {
    "scrolled": true
   },
   "outputs": [
    {
     "name": "stdout",
     "output_type": "stream",
     "text": [
      ":: loading settings :: url = jar:file:/opt/spark/jars/ivy-2.5.1.jar!/org/apache/ivy/core/settings/ivysettings.xml\n"
     ]
    },
    {
     "name": "stderr",
     "output_type": "stream",
     "text": [
      "Ivy Default Cache set to: /root/.ivy2/cache\n",
      "The jars for the packages stored in: /root/.ivy2/jars\n",
      "org.apache.iceberg#iceberg-spark-runtime-3.5_2.12 added as a dependency\n",
      "org.projectnessie.nessie-integrations#nessie-spark-extensions-3.5_2.12 added as a dependency\n",
      "software.amazon.awssdk#bundle added as a dependency\n",
      "org.apache.iceberg#iceberg-nessie added as a dependency\n",
      "org.apache.hadoop#hadoop-aws added as a dependency\n",
      "org.apache.hadoop#hadoop-common added as a dependency\n",
      "io.minio#minio added as a dependency\n",
      "org.apache.spark#spark-hadoop-cloud_2.13 added as a dependency\n",
      "software.amazon.awssdk#url-connection-client added as a dependency\n",
      "com.amazonaws#aws-java-sdk-bundle added as a dependency\n",
      ":: resolving dependencies :: org.apache.spark#spark-submit-parent-07ca06c4-a72c-4feb-b978-06cc82ad03bf;1.0\n",
      "\tconfs: [default]\n",
      "\tfound org.apache.iceberg#iceberg-spark-runtime-3.5_2.12;1.5.0 in central\n",
      "\tfound org.projectnessie.nessie-integrations#nessie-spark-extensions-3.5_2.12;0.77.1 in central\n",
      "\tfound software.amazon.awssdk#bundle;2.24.8 in central\n",
      "\tfound org.apache.iceberg#iceberg-nessie;1.4.0 in central\n",
      "\tfound org.apache.iceberg#iceberg-api;1.4.0 in central\n",
      "\tfound org.slf4j#slf4j-api;1.7.36 in central\n",
      "\tfound org.apache.iceberg#iceberg-bundled-guava;1.4.0 in central\n",
      "\tfound org.apache.iceberg#iceberg-common;1.4.0 in central\n",
      "\tfound org.apache.iceberg#iceberg-core;1.4.0 in central\n",
      "\tfound org.apache.avro#avro;1.11.1 in central\n",
      "\tfound com.fasterxml.jackson.core#jackson-core;2.15.2 in central\n",
      "\tfound com.fasterxml.jackson.core#jackson-databind;2.15.2 in central\n",
      "\tfound com.fasterxml.jackson.core#jackson-annotations;2.15.2 in central\n",
      "\tfound org.apache.commons#commons-compress;1.21 in central\n",
      "\tfound io.airlift#aircompressor;0.25 in central\n",
      "\tfound org.apache.httpcomponents.client5#httpclient5;5.2.1 in central\n",
      "\tfound org.apache.httpcomponents.core5#httpcore5;5.2 in central\n",
      "\tfound org.apache.httpcomponents.core5#httpcore5-h2;5.2 in central\n",
      "\tfound com.github.ben-manes.caffeine#caffeine;2.9.3 in central\n",
      "\tfound org.checkerframework#checker-qual;3.19.0 in central\n",
      "\tfound com.google.errorprone#error_prone_annotations;2.10.0 in central\n",
      "\tfound org.roaringbitmap#RoaringBitmap;0.9.47 in central\n",
      "\tfound org.roaringbitmap#shims;0.9.47 in central\n",
      "\tfound org.projectnessie.nessie#nessie-client;0.71.0 in central\n",
      "\tfound org.projectnessie.nessie#nessie-model;0.71.0 in central\n",
      "\tfound org.eclipse.microprofile.openapi#microprofile-openapi-api;3.1.1 in central\n",
      "\tfound org.apache.hadoop#hadoop-aws;3.3.4 in central\n",
      "\tfound com.amazonaws#aws-java-sdk-bundle;1.12.262 in central\n",
      "\tfound org.wildfly.openssl#wildfly-openssl;1.0.7.Final in central\n",
      "\tfound org.apache.hadoop#hadoop-common;3.3.4 in central\n",
      "\tfound org.apache.hadoop.thirdparty#hadoop-shaded-protobuf_3_7;1.1.1 in central\n",
      "\tfound org.apache.hadoop#hadoop-annotations;3.3.4 in central\n",
      "\tfound org.apache.hadoop.thirdparty#hadoop-shaded-guava;1.1.1 in central\n",
      "\tfound com.google.guava#guava;27.0-jre in central\n",
      "\tfound com.google.guava#failureaccess;1.0 in central\n",
      "\tfound com.google.guava#listenablefuture;9999.0-empty-to-avoid-conflict-with-guava in central\n",
      "\tfound com.google.code.findbugs#jsr305;3.0.2 in central\n",
      "\tfound com.google.j2objc#j2objc-annotations;1.1 in central\n",
      "\tfound org.codehaus.mojo#animal-sniffer-annotations;1.17 in central\n",
      "\tfound commons-cli#commons-cli;1.2 in central\n",
      "\tfound org.apache.commons#commons-math3;3.1.1 in central\n",
      "\tfound org.apache.httpcomponents#httpclient;4.5.13 in central\n",
      "\tfound org.apache.httpcomponents#httpcore;4.4.13 in central\n",
      "\tfound commons-logging#commons-logging;1.1.3 in central\n",
      "\tfound commons-codec#commons-codec;1.15 in central\n",
      "\tfound commons-io#commons-io;2.8.0 in central\n",
      "\tfound commons-net#commons-net;3.6 in central\n",
      "\tfound commons-collections#commons-collections;3.2.2 in central\n",
      "\tfound javax.servlet#javax.servlet-api;3.1.0 in central\n",
      "\tfound org.eclipse.jetty#jetty-server;9.4.43.v20210629 in central\n",
      "\tfound org.eclipse.jetty#jetty-http;9.4.43.v20210629 in central\n",
      "\tfound org.eclipse.jetty#jetty-util;9.4.43.v20210629 in central\n",
      "\tfound org.eclipse.jetty#jetty-io;9.4.43.v20210629 in central\n",
      "\tfound org.eclipse.jetty#jetty-servlet;9.4.43.v20210629 in central\n",
      "\tfound org.eclipse.jetty#jetty-security;9.4.43.v20210629 in central\n",
      "\tfound org.eclipse.jetty#jetty-util-ajax;9.4.43.v20210629 in central\n",
      "\tfound org.eclipse.jetty#jetty-webapp;9.4.43.v20210629 in central\n",
      "\tfound org.eclipse.jetty#jetty-xml;9.4.43.v20210629 in central\n",
      "\tfound com.sun.jersey#jersey-core;1.19 in central\n",
      "\tfound javax.ws.rs#jsr311-api;1.1.1 in central\n",
      "\tfound com.sun.jersey#jersey-servlet;1.19 in central\n",
      "\tfound com.sun.jersey#jersey-server;1.19 in central\n",
      "\tfound com.sun.jersey#jersey-json;1.19 in central\n",
      "\tfound org.codehaus.jettison#jettison;1.1 in central\n",
      "\tfound com.sun.xml.bind#jaxb-impl;2.2.3-1 in central\n",
      "\tfound javax.xml.bind#jaxb-api;2.2.11 in central\n",
      "\tfound org.codehaus.jackson#jackson-core-asl;1.9.13 in central\n",
      "\tfound org.codehaus.jackson#jackson-mapper-asl;1.9.13 in central\n",
      "\tfound org.codehaus.jackson#jackson-jaxrs;1.9.13 in central\n",
      "\tfound org.codehaus.jackson#jackson-xc;1.9.13 in central\n",
      "\tfound ch.qos.reload4j#reload4j;1.2.22 in central\n",
      "\tfound commons-beanutils#commons-beanutils;1.9.4 in central\n",
      "\tfound org.apache.commons#commons-configuration2;2.1.1 in central\n",
      "\tfound org.apache.commons#commons-lang3;3.12.0 in central\n",
      "\tfound org.apache.commons#commons-text;1.4 in central\n",
      "\tfound org.slf4j#slf4j-reload4j;1.7.36 in central\n",
      "\tfound com.google.re2j#re2j;1.1 in central\n",
      "\tfound com.google.protobuf#protobuf-java;2.5.0 in central\n",
      "\tfound com.google.code.gson#gson;2.8.9 in central\n",
      "\tfound org.apache.hadoop#hadoop-auth;3.3.4 in central\n",
      "\tfound com.nimbusds#nimbus-jose-jwt;9.8.1 in central\n",
      "\tfound com.github.stephenc.jcip#jcip-annotations;1.0-1 in central\n",
      "\tfound net.minidev#json-smart;2.4.7 in central\n",
      "\tfound net.minidev#accessors-smart;2.4.7 in central\n",
      "\tfound org.ow2.asm#asm;5.0.4 in central\n",
      "\tfound org.apache.zookeeper#zookeeper;3.5.6 in central\n",
      "\tfound org.apache.zookeeper#zookeeper-jute;3.5.6 in central\n",
      "\tfound org.apache.yetus#audience-annotations;0.5.0 in central\n",
      "\tfound org.apache.curator#curator-framework;4.2.0 in central\n",
      "\tfound org.apache.curator#curator-client;4.2.0 in central\n",
      "\tfound org.apache.kerby#kerb-simplekdc;1.0.1 in central\n",
      "\tfound org.apache.kerby#kerb-client;1.0.1 in central\n",
      "\tfound org.apache.kerby#kerby-config;1.0.1 in central\n",
      "\tfound org.apache.kerby#kerb-core;1.0.1 in central\n",
      "\tfound org.apache.kerby#kerby-pkix;1.0.1 in central\n",
      "\tfound org.apache.kerby#kerby-asn1;1.0.1 in central\n",
      "\tfound org.apache.kerby#kerby-util;1.0.1 in central\n",
      "\tfound org.apache.kerby#kerb-common;1.0.1 in central\n",
      "\tfound org.apache.kerby#kerb-crypto;1.0.1 in central\n",
      "\tfound org.apache.kerby#kerb-util;1.0.1 in central\n",
      "\tfound org.apache.kerby#token-provider;1.0.1 in central\n",
      "\tfound org.apache.kerby#kerb-admin;1.0.1 in central\n",
      "\tfound org.apache.kerby#kerb-server;1.0.1 in central\n",
      "\tfound org.apache.kerby#kerb-identity;1.0.1 in central\n",
      "\tfound org.apache.kerby#kerby-xdr;1.0.1 in central\n",
      "\tfound com.jcraft#jsch;0.1.55 in central\n",
      "\tfound org.apache.curator#curator-recipes;4.2.0 in central\n",
      "\tfound org.codehaus.woodstox#stax2-api;4.2.1 in central\n",
      "\tfound com.fasterxml.woodstox#woodstox-core;5.3.0 in central\n",
      "\tfound dnsjava#dnsjava;2.1.7 in central\n",
      "\tfound org.xerial.snappy#snappy-java;1.1.8.2 in central\n",
      "\tfound jakarta.activation#jakarta.activation-api;1.2.1 in central\n",
      "\tfound javax.servlet.jsp#jsp-api;2.1 in central\n",
      "\tfound io.minio#minio;8.5.0 in central\n",
      "\tfound com.carrotsearch.thirdparty#simple-xml-safe;2.7.1 in central\n",
      "\tfound com.google.guava#guava;30.1.1-jre in central\n",
      "\tfound com.google.guava#failureaccess;1.0.1 in central\n",
      "\tfound com.google.j2objc#j2objc-annotations;1.3 in central\n",
      "\tfound com.squareup.okhttp3#okhttp;4.10.0 in central\n",
      "\tfound com.squareup.okio#okio-jvm;3.0.0 in central\n",
      "\tfound org.jetbrains.kotlin#kotlin-stdlib-jdk8;1.5.31 in central\n",
      "\tfound org.jetbrains.kotlin#kotlin-stdlib-jdk7;1.5.31 in central\n",
      "\tfound org.jetbrains.kotlin#kotlin-stdlib-common;1.5.31 in central\n",
      "\tfound org.jetbrains.kotlin#kotlin-stdlib;1.6.20 in central\n",
      "\tfound org.jetbrains.kotlin#kotlin-stdlib-common;1.6.20 in central\n",
      "\tfound org.jetbrains#annotations;13.0 in central\n",
      "\tfound org.bouncycastle#bcprov-jdk15on;1.69 in central\n",
      "\tfound org.xerial.snappy#snappy-java;1.1.8.4 in central\n",
      "\tfound org.apache.spark#spark-hadoop-cloud_2.13;3.2.1 in central\n",
      "\tfound org.apache.hadoop#hadoop-client-runtime;3.3.1 in central\n",
      "\tfound org.apache.hadoop#hadoop-client-api;3.3.1 in central\n",
      "\tfound org.apache.htrace#htrace-core4;4.1.0-incubating in central\n",
      "\tfound org.apache.hadoop#hadoop-openstack;3.3.1 in central\n",
      "\tfound org.apache.httpcomponents#httpcore;4.4.14 in central\n",
      "\tfound joda-time#joda-time;2.10.10 in central\n",
      "\tfound com.fasterxml.jackson.dataformat#jackson-dataformat-cbor;2.12.3 in central\n",
      "\tfound org.apache.hadoop#hadoop-azure;3.3.1 in central\n",
      "\tfound com.microsoft.azure#azure-storage;7.0.1 in central\n",
      "\tfound com.microsoft.azure#azure-keyvault-core;1.0.0 in central\n",
      "\tfound org.apache.hadoop#hadoop-cloud-storage;3.3.1 in central\n",
      "\tfound org.apache.hadoop#hadoop-aliyun;3.3.1 in central\n",
      "\tfound com.aliyun.oss#aliyun-sdk-oss;3.4.1 in central\n",
      "\tfound org.jdom#jdom;1.1 in central\n",
      "\tfound com.aliyun#aliyun-java-sdk-core;3.4.0 in central\n",
      "\tfound com.aliyun#aliyun-java-sdk-ram;3.0.0 in central\n",
      "\tfound com.aliyun#aliyun-java-sdk-sts;3.0.0 in central\n",
      "\tfound com.aliyun#aliyun-java-sdk-ecs;4.2.0 in central\n",
      "\tfound org.apache.hadoop#hadoop-azure-datalake;3.3.1 in central\n",
      "\tfound com.microsoft.azure#azure-data-lake-store-sdk;2.3.9 in central\n",
      "\tfound org.apache.hadoop#hadoop-cos;3.3.1 in central\n",
      "\tfound com.qcloud#cos_api-bundle;5.6.19 in central\n",
      "\tfound org.spark-project.spark#unused;1.0.0 in central\n",
      "\tfound software.amazon.awssdk#url-connection-client;2.24.8 in central\n",
      "\tfound software.amazon.awssdk#utils;2.24.8 in central\n",
      "\tfound org.reactivestreams#reactive-streams;1.0.4 in central\n",
      "\tfound software.amazon.awssdk#annotations;2.24.8 in central\n",
      "\tfound software.amazon.awssdk#http-client-spi;2.24.8 in central\n",
      "\tfound software.amazon.awssdk#metrics-spi;2.24.8 in central\n",
      ":: resolution report :: resolve 3657ms :: artifacts dl 124ms\n",
      "\t:: modules in use:\n",
      "\tch.qos.reload4j#reload4j;1.2.22 from central in [default]\n",
      "\tcom.aliyun#aliyun-java-sdk-core;3.4.0 from central in [default]\n",
      "\tcom.aliyun#aliyun-java-sdk-ecs;4.2.0 from central in [default]\n",
      "\tcom.aliyun#aliyun-java-sdk-ram;3.0.0 from central in [default]\n",
      "\tcom.aliyun#aliyun-java-sdk-sts;3.0.0 from central in [default]\n",
      "\tcom.aliyun.oss#aliyun-sdk-oss;3.4.1 from central in [default]\n",
      "\tcom.amazonaws#aws-java-sdk-bundle;1.12.262 from central in [default]\n",
      "\tcom.carrotsearch.thirdparty#simple-xml-safe;2.7.1 from central in [default]\n",
      "\tcom.fasterxml.jackson.core#jackson-annotations;2.15.2 from central in [default]\n",
      "\tcom.fasterxml.jackson.core#jackson-core;2.15.2 from central in [default]\n",
      "\tcom.fasterxml.jackson.core#jackson-databind;2.15.2 from central in [default]\n",
      "\tcom.fasterxml.jackson.dataformat#jackson-dataformat-cbor;2.12.3 from central in [default]\n",
      "\tcom.fasterxml.woodstox#woodstox-core;5.3.0 from central in [default]\n",
      "\tcom.github.ben-manes.caffeine#caffeine;2.9.3 from central in [default]\n",
      "\tcom.github.stephenc.jcip#jcip-annotations;1.0-1 from central in [default]\n",
      "\tcom.google.code.findbugs#jsr305;3.0.2 from central in [default]\n",
      "\tcom.google.code.gson#gson;2.8.9 from central in [default]\n",
      "\tcom.google.errorprone#error_prone_annotations;2.10.0 from central in [default]\n",
      "\tcom.google.guava#failureaccess;1.0.1 from central in [default]\n",
      "\tcom.google.guava#guava;30.1.1-jre from central in [default]\n",
      "\tcom.google.guava#listenablefuture;9999.0-empty-to-avoid-conflict-with-guava from central in [default]\n",
      "\tcom.google.j2objc#j2objc-annotations;1.3 from central in [default]\n",
      "\tcom.google.protobuf#protobuf-java;2.5.0 from central in [default]\n",
      "\tcom.google.re2j#re2j;1.1 from central in [default]\n",
      "\tcom.jcraft#jsch;0.1.55 from central in [default]\n",
      "\tcom.microsoft.azure#azure-data-lake-store-sdk;2.3.9 from central in [default]\n",
      "\tcom.microsoft.azure#azure-keyvault-core;1.0.0 from central in [default]\n",
      "\tcom.microsoft.azure#azure-storage;7.0.1 from central in [default]\n",
      "\tcom.nimbusds#nimbus-jose-jwt;9.8.1 from central in [default]\n",
      "\tcom.qcloud#cos_api-bundle;5.6.19 from central in [default]\n",
      "\tcom.squareup.okhttp3#okhttp;4.10.0 from central in [default]\n",
      "\tcom.squareup.okio#okio-jvm;3.0.0 from central in [default]\n",
      "\tcom.sun.jersey#jersey-core;1.19 from central in [default]\n",
      "\tcom.sun.jersey#jersey-json;1.19 from central in [default]\n",
      "\tcom.sun.jersey#jersey-server;1.19 from central in [default]\n",
      "\tcom.sun.jersey#jersey-servlet;1.19 from central in [default]\n",
      "\tcom.sun.xml.bind#jaxb-impl;2.2.3-1 from central in [default]\n",
      "\tcommons-beanutils#commons-beanutils;1.9.4 from central in [default]\n",
      "\tcommons-cli#commons-cli;1.2 from central in [default]\n",
      "\tcommons-codec#commons-codec;1.15 from central in [default]\n",
      "\tcommons-collections#commons-collections;3.2.2 from central in [default]\n",
      "\tcommons-io#commons-io;2.8.0 from central in [default]\n",
      "\tcommons-logging#commons-logging;1.1.3 from central in [default]\n",
      "\tcommons-net#commons-net;3.6 from central in [default]\n",
      "\tdnsjava#dnsjava;2.1.7 from central in [default]\n",
      "\tio.airlift#aircompressor;0.25 from central in [default]\n",
      "\tio.minio#minio;8.5.0 from central in [default]\n",
      "\tjakarta.activation#jakarta.activation-api;1.2.1 from central in [default]\n",
      "\tjavax.servlet#javax.servlet-api;3.1.0 from central in [default]\n",
      "\tjavax.servlet.jsp#jsp-api;2.1 from central in [default]\n",
      "\tjavax.ws.rs#jsr311-api;1.1.1 from central in [default]\n",
      "\tjavax.xml.bind#jaxb-api;2.2.11 from central in [default]\n",
      "\tjoda-time#joda-time;2.10.10 from central in [default]\n",
      "\tnet.minidev#accessors-smart;2.4.7 from central in [default]\n",
      "\tnet.minidev#json-smart;2.4.7 from central in [default]\n",
      "\torg.apache.avro#avro;1.11.1 from central in [default]\n",
      "\torg.apache.commons#commons-compress;1.21 from central in [default]\n",
      "\torg.apache.commons#commons-configuration2;2.1.1 from central in [default]\n",
      "\torg.apache.commons#commons-lang3;3.12.0 from central in [default]\n",
      "\torg.apache.commons#commons-math3;3.1.1 from central in [default]\n",
      "\torg.apache.commons#commons-text;1.4 from central in [default]\n",
      "\torg.apache.curator#curator-client;4.2.0 from central in [default]\n",
      "\torg.apache.curator#curator-framework;4.2.0 from central in [default]\n",
      "\torg.apache.curator#curator-recipes;4.2.0 from central in [default]\n",
      "\torg.apache.hadoop#hadoop-aliyun;3.3.1 from central in [default]\n",
      "\torg.apache.hadoop#hadoop-annotations;3.3.4 from central in [default]\n",
      "\torg.apache.hadoop#hadoop-auth;3.3.4 from central in [default]\n",
      "\torg.apache.hadoop#hadoop-aws;3.3.4 from central in [default]\n",
      "\torg.apache.hadoop#hadoop-azure;3.3.1 from central in [default]\n",
      "\torg.apache.hadoop#hadoop-azure-datalake;3.3.1 from central in [default]\n",
      "\torg.apache.hadoop#hadoop-client-api;3.3.1 from central in [default]\n",
      "\torg.apache.hadoop#hadoop-client-runtime;3.3.1 from central in [default]\n",
      "\torg.apache.hadoop#hadoop-cloud-storage;3.3.1 from central in [default]\n",
      "\torg.apache.hadoop#hadoop-common;3.3.4 from central in [default]\n",
      "\torg.apache.hadoop#hadoop-cos;3.3.1 from central in [default]\n",
      "\torg.apache.hadoop#hadoop-openstack;3.3.1 from central in [default]\n",
      "\torg.apache.hadoop.thirdparty#hadoop-shaded-guava;1.1.1 from central in [default]\n",
      "\torg.apache.hadoop.thirdparty#hadoop-shaded-protobuf_3_7;1.1.1 from central in [default]\n",
      "\torg.apache.htrace#htrace-core4;4.1.0-incubating from central in [default]\n",
      "\torg.apache.httpcomponents#httpclient;4.5.13 from central in [default]\n",
      "\torg.apache.httpcomponents#httpcore;4.4.14 from central in [default]\n",
      "\torg.apache.httpcomponents.client5#httpclient5;5.2.1 from central in [default]\n",
      "\torg.apache.httpcomponents.core5#httpcore5;5.2 from central in [default]\n",
      "\torg.apache.httpcomponents.core5#httpcore5-h2;5.2 from central in [default]\n",
      "\torg.apache.iceberg#iceberg-api;1.4.0 from central in [default]\n",
      "\torg.apache.iceberg#iceberg-bundled-guava;1.4.0 from central in [default]\n",
      "\torg.apache.iceberg#iceberg-common;1.4.0 from central in [default]\n",
      "\torg.apache.iceberg#iceberg-core;1.4.0 from central in [default]\n",
      "\torg.apache.iceberg#iceberg-nessie;1.4.0 from central in [default]\n",
      "\torg.apache.iceberg#iceberg-spark-runtime-3.5_2.12;1.5.0 from central in [default]\n",
      "\torg.apache.kerby#kerb-admin;1.0.1 from central in [default]\n",
      "\torg.apache.kerby#kerb-client;1.0.1 from central in [default]\n",
      "\torg.apache.kerby#kerb-common;1.0.1 from central in [default]\n",
      "\torg.apache.kerby#kerb-core;1.0.1 from central in [default]\n",
      "\torg.apache.kerby#kerb-crypto;1.0.1 from central in [default]\n",
      "\torg.apache.kerby#kerb-identity;1.0.1 from central in [default]\n",
      "\torg.apache.kerby#kerb-server;1.0.1 from central in [default]\n",
      "\torg.apache.kerby#kerb-simplekdc;1.0.1 from central in [default]\n",
      "\torg.apache.kerby#kerb-util;1.0.1 from central in [default]\n",
      "\torg.apache.kerby#kerby-asn1;1.0.1 from central in [default]\n",
      "\torg.apache.kerby#kerby-config;1.0.1 from central in [default]\n",
      "\torg.apache.kerby#kerby-pkix;1.0.1 from central in [default]\n",
      "\torg.apache.kerby#kerby-util;1.0.1 from central in [default]\n",
      "\torg.apache.kerby#kerby-xdr;1.0.1 from central in [default]\n",
      "\torg.apache.kerby#token-provider;1.0.1 from central in [default]\n",
      "\torg.apache.spark#spark-hadoop-cloud_2.13;3.2.1 from central in [default]\n",
      "\torg.apache.yetus#audience-annotations;0.5.0 from central in [default]\n",
      "\torg.apache.zookeeper#zookeeper;3.5.6 from central in [default]\n",
      "\torg.apache.zookeeper#zookeeper-jute;3.5.6 from central in [default]\n",
      "\torg.bouncycastle#bcprov-jdk15on;1.69 from central in [default]\n",
      "\torg.checkerframework#checker-qual;3.19.0 from central in [default]\n",
      "\torg.codehaus.jackson#jackson-core-asl;1.9.13 from central in [default]\n",
      "\torg.codehaus.jackson#jackson-jaxrs;1.9.13 from central in [default]\n",
      "\torg.codehaus.jackson#jackson-mapper-asl;1.9.13 from central in [default]\n",
      "\torg.codehaus.jackson#jackson-xc;1.9.13 from central in [default]\n",
      "\torg.codehaus.jettison#jettison;1.1 from central in [default]\n",
      "\torg.codehaus.woodstox#stax2-api;4.2.1 from central in [default]\n",
      "\torg.eclipse.jetty#jetty-http;9.4.43.v20210629 from central in [default]\n",
      "\torg.eclipse.jetty#jetty-io;9.4.43.v20210629 from central in [default]\n",
      "\torg.eclipse.jetty#jetty-security;9.4.43.v20210629 from central in [default]\n",
      "\torg.eclipse.jetty#jetty-server;9.4.43.v20210629 from central in [default]\n",
      "\torg.eclipse.jetty#jetty-servlet;9.4.43.v20210629 from central in [default]\n",
      "\torg.eclipse.jetty#jetty-util;9.4.43.v20210629 from central in [default]\n",
      "\torg.eclipse.jetty#jetty-util-ajax;9.4.43.v20210629 from central in [default]\n",
      "\torg.eclipse.jetty#jetty-webapp;9.4.43.v20210629 from central in [default]\n",
      "\torg.eclipse.jetty#jetty-xml;9.4.43.v20210629 from central in [default]\n",
      "\torg.eclipse.microprofile.openapi#microprofile-openapi-api;3.1.1 from central in [default]\n",
      "\torg.jdom#jdom;1.1 from central in [default]\n",
      "\torg.jetbrains#annotations;13.0 from central in [default]\n",
      "\torg.jetbrains.kotlin#kotlin-stdlib;1.6.20 from central in [default]\n",
      "\torg.jetbrains.kotlin#kotlin-stdlib-common;1.6.20 from central in [default]\n",
      "\torg.jetbrains.kotlin#kotlin-stdlib-jdk7;1.5.31 from central in [default]\n",
      "\torg.jetbrains.kotlin#kotlin-stdlib-jdk8;1.5.31 from central in [default]\n",
      "\torg.ow2.asm#asm;5.0.4 from central in [default]\n",
      "\torg.projectnessie.nessie#nessie-client;0.71.0 from central in [default]\n",
      "\torg.projectnessie.nessie#nessie-model;0.71.0 from central in [default]\n",
      "\torg.projectnessie.nessie-integrations#nessie-spark-extensions-3.5_2.12;0.77.1 from central in [default]\n",
      "\torg.reactivestreams#reactive-streams;1.0.4 from central in [default]\n",
      "\torg.roaringbitmap#RoaringBitmap;0.9.47 from central in [default]\n",
      "\torg.roaringbitmap#shims;0.9.47 from central in [default]\n",
      "\torg.slf4j#slf4j-api;1.7.36 from central in [default]\n",
      "\torg.slf4j#slf4j-reload4j;1.7.36 from central in [default]\n",
      "\torg.spark-project.spark#unused;1.0.0 from central in [default]\n",
      "\torg.wildfly.openssl#wildfly-openssl;1.0.7.Final from central in [default]\n",
      "\torg.xerial.snappy#snappy-java;1.1.8.4 from central in [default]\n",
      "\tsoftware.amazon.awssdk#annotations;2.24.8 from central in [default]\n",
      "\tsoftware.amazon.awssdk#bundle;2.24.8 from central in [default]\n",
      "\tsoftware.amazon.awssdk#http-client-spi;2.24.8 from central in [default]\n",
      "\tsoftware.amazon.awssdk#metrics-spi;2.24.8 from central in [default]\n",
      "\tsoftware.amazon.awssdk#url-connection-client;2.24.8 from central in [default]\n",
      "\tsoftware.amazon.awssdk#utils;2.24.8 from central in [default]\n",
      "\t:: evicted modules:\n",
      "\tcom.google.guava#guava;27.0-jre by [com.google.guava#guava;30.1.1-jre] in [default]\n",
      "\tcom.google.guava#failureaccess;1.0 by [com.google.guava#failureaccess;1.0.1] in [default]\n",
      "\torg.checkerframework#checker-qual;2.5.2 by [org.checkerframework#checker-qual;3.19.0] in [default]\n",
      "\tcom.google.j2objc#j2objc-annotations;1.1 by [com.google.j2objc#j2objc-annotations;1.3] in [default]\n",
      "\torg.codehaus.mojo#animal-sniffer-annotations;1.17 transitively in [default]\n",
      "\torg.apache.httpcomponents#httpcore;4.4.13 by [org.apache.httpcomponents#httpcore;4.4.14] in [default]\n",
      "\torg.apache.avro#avro;1.7.7 by [org.apache.avro#avro;1.11.1] in [default]\n",
      "\tcom.fasterxml.jackson.core#jackson-databind;2.12.7 by [com.fasterxml.jackson.core#jackson-databind;2.15.2] in [default]\n",
      "\torg.xerial.snappy#snappy-java;1.1.8.2 by [org.xerial.snappy#snappy-java;1.1.8.4] in [default]\n",
      "\torg.checkerframework#checker-qual;3.8.0 by [org.checkerframework#checker-qual;3.19.0] in [default]\n",
      "\tcom.google.errorprone#error_prone_annotations;2.5.1 by [com.google.errorprone#error_prone_annotations;2.10.0] in [default]\n",
      "\torg.jetbrains.kotlin#kotlin-stdlib;1.5.31 by [org.jetbrains.kotlin#kotlin-stdlib;1.6.20] in [default]\n",
      "\torg.jetbrains.kotlin#kotlin-stdlib-common;1.5.31 by [org.jetbrains.kotlin#kotlin-stdlib-common;1.6.20] in [default]\n",
      "\tcom.fasterxml.jackson.core#jackson-annotations;2.13.4 by [com.fasterxml.jackson.core#jackson-annotations;2.15.2] in [default]\n",
      "\tcom.fasterxml.jackson.core#jackson-core;2.13.4 by [com.fasterxml.jackson.core#jackson-core;2.15.2] in [default]\n",
      "\tcom.fasterxml.jackson.core#jackson-databind;2.13.4.2 by [com.fasterxml.jackson.core#jackson-databind;2.15.2] in [default]\n",
      "\torg.slf4j#slf4j-api;1.7.30 by [org.slf4j#slf4j-api;1.7.36] in [default]\n",
      "\tcom.google.code.findbugs#jsr305;3.0.0 by [com.google.code.findbugs#jsr305;3.0.2] in [default]\n",
      "\torg.apache.hadoop#hadoop-aws;3.3.1 by [org.apache.hadoop#hadoop-aws;3.3.4] in [default]\n",
      "\torg.apache.hadoop#hadoop-annotations;3.3.1 by [org.apache.hadoop#hadoop-annotations;3.3.4] in [default]\n",
      "\tcom.fasterxml.jackson.core#jackson-annotations;2.12.3 by [com.fasterxml.jackson.core#jackson-annotations;2.15.2] in [default]\n",
      "\tcom.fasterxml.jackson.core#jackson-databind;2.12.3 by [com.fasterxml.jackson.core#jackson-databind;2.15.2] in [default]\n",
      "\tcom.fasterxml.jackson.core#jackson-core;2.12.3 by [com.fasterxml.jackson.core#jackson-core;2.15.2] in [default]\n",
      "\torg.eclipse.jetty#jetty-util-ajax;9.4.40.v20210413 by [org.eclipse.jetty#jetty-util-ajax;9.4.43.v20210629] in [default]\n",
      "\tcom.amazonaws#aws-java-sdk-bundle;1.12.207 by [com.amazonaws#aws-java-sdk-bundle;1.12.262] in [default]\n",
      "\t---------------------------------------------------------------------\n",
      "\t|                  |            modules            ||   artifacts   |\n",
      "\t|       conf       | number| search|dwnlded|evicted|| number|dwnlded|\n",
      "\t---------------------------------------------------------------------\n",
      "\t|      default     |  176  |   0   |   0   |   25  ||  151  |   0   |\n",
      "\t---------------------------------------------------------------------\n",
      ":: retrieving :: org.apache.spark#spark-submit-parent-07ca06c4-a72c-4feb-b978-06cc82ad03bf\n",
      "\tconfs: [default]\n",
      "\t0 artifacts copied, 151 already retrieved (0kB/45ms)\n",
      "24/11/21 04:10:35 WARN NativeCodeLoader: Unable to load native-hadoop library for your platform... using builtin-java classes where applicable\n",
      "Setting default log level to \"WARN\".\n",
      "To adjust logging level use sc.setLogLevel(newLevel). For SparkR, use setLogLevel(newLevel).\n",
      "24/11/21 04:10:37 WARN Utils: Service 'SparkUI' could not bind on port 4040. Attempting port 4041.\n"
     ]
    },
    {
     "name": "stdout",
     "output_type": "stream",
     "text": [
      "spark session\n"
     ]
    }
   ],
   "source": [
    "# Create new SparkSession\n",
    "spark = SparkSession.builder.config(conf=conf).getOrCreate()\n",
    "print(\"spark session\")"
   ]
  },
  {
   "cell_type": "code",
   "execution_count": 5,
   "id": "097360f3-bbf5-4b8a-ae13-cf7d63786814",
   "metadata": {
    "scrolled": true
   },
   "outputs": [
    {
     "name": "stderr",
     "output_type": "stream",
     "text": [
      "24/11/21 04:11:00 WARN MetricsConfig: Cannot locate configuration: tried hadoop-metrics2-s3a-file-system.properties,hadoop-metrics2.properties\n",
      "                                                                                \r"
     ]
    },
    {
     "name": "stdout",
     "output_type": "stream",
     "text": [
      "+---------+-------+------------+---------+-------+--------------+------+---------+------+--------------+-----------------------+\n",
      "|ACCOUNTID|BANK_ID|CORE_CUST_ID|   ORGKEY|ORGTYPE|          NAME|GENDER|CUST_TYPE|STATUS|PRIMARY_SOL_ID|RELATIONSHIPOPENINGDATE|\n",
      "+---------+-------+------------+---------+-------+--------------+------+---------+------+--------------+-----------------------+\n",
      "|  1564505|      1|   113391407|113391407|Account|TRAN T *** HAI|     M|    10001| ACTVE|          1404|             23-02-2018|\n",
      "|  1564506|      1|   113391457|113391457|Account|TRAN T *** YEN|     F|    10001| ACTVE|          1003|              3/12/2018|\n",
      "|  1564507|      1|   113391483|113391483|Account|TRAN T *** BAC|     F|    10001| ACTVE|          2201|             15-06-2018|\n",
      "|   859964|      1|   105260800|105260800|Account|NGUYEN *** UNG|     M|    10001| ACTVE|          1401|             16-11-2018|\n",
      "|   958930|      1|   106573010|106573010|Account|TRAN N *** ANH|     M|    10001| ACTVE|          1600|              7/10/2002|\n",
      "|   958931|      1|   106573034|106573034|Account|NGUYEN *** ANH|     F|    10001| ACTVE|          1003|              7/10/2002|\n",
      "|   958932|      1|   106573046|106573046|Account|PHAN G ***  TU|     M|    10001| ACTVE|          1003|              7/10/2002|\n",
      "|   958933|      1|   106573058|106573058|Account|LE THI *** OAN|     F|    10001| ACTVE|          1003|              7/10/2002|\n",
      "|   958934|      1|   106573072|106573072|Account|LE KIM *** OAN|     F|    10001| ACTVE|          1003|              7/10/2002|\n",
      "|  1908908|      1|   118013294|118013294|Account|CHIU T *** UAN|     F|    10001| ACTVE|          1402|              7/10/2002|\n",
      "|  2008260|      1|   119967428|119967428|Account|NGUYEN *** UAN|     F|    10001| ACTVE|          1601|             14-01-2019|\n",
      "|   958935|      1|   106573084|106573084|Account|NGUYEN *** THU|     F|    10001| ACTVE|          1700|             21-01-2019|\n",
      "|   860045|      1|   105279368|105279368|Account|CAO HO *** ONG|     M|    10001| ACTVE|          1502|             20-02-2019|\n",
      "|   860046|      1|   105279370|105279370|Account|NGUYEN *** YEN|     M|    10001| ACTVE|          1003|             17-06-2019|\n",
      "|   860047|      1|   105279435|105279435|Account|LE ANH ***  TU|     M|    10001| ACTVE|          1003|              10/2/2017|\n",
      "|   860010|      1|   105268371|105268371|Account|NGO TH *** ANH|     F|    10001| ACTVE|          1015|             25-08-2017|\n",
      "|   860011|      1|   105268383|105268383|Account|HUYNH  *** HUY|     F|    10001| ACTVE|          1401|               7/3/2018|\n",
      "|   860012|      1|   105268400|105268400|Account|PHAM T *** ANG|     F|    10001| ACTVE|          2100|             14-03-2018|\n",
      "|  2008140|      1|   119821325|119821325|Account|NGUYEN *** ANG|     F|    10001| ACTVE|          1602|             16-03-2018|\n",
      "|  2008141|      1|   119821404|119821404|Account|NGUYEN *** OAI|     F|    10001| ACTVE|          1602|             23-03-2018|\n",
      "+---------+-------+------------+---------+-------+--------------+------+---------+------+--------------+-----------------------+\n",
      "only showing top 20 rows\n",
      "\n"
     ]
    }
   ],
   "source": [
    "raw_df = spark.read.csv(raw_csv_path, header=True) \n",
    "raw_df.show(20)"
   ]
  },
  {
   "cell_type": "code",
   "execution_count": 7,
   "id": "0851b092-5916-4e6d-b1ed-3e381ee742f8",
   "metadata": {},
   "outputs": [
    {
     "name": "stdout",
     "output_type": "stream",
     "text": [
      "+---------+-------+------------+---------+-------+--------------+------+---------+------+--------------+-----------------------+\n",
      "|ACCOUNTID|BANK_ID|CORE_CUST_ID|   ORGKEY|ORGTYPE|          NAME|GENDER|CUST_TYPE|STATUS|PRIMARY_SOL_ID|RELATIONSHIPOPENINGDATE|\n",
      "+---------+-------+------------+---------+-------+--------------+------+---------+------+--------------+-----------------------+\n",
      "|  1564505|      1|   113391407|113391407|Account|TRAN T *** HAI|     M|    10001| ACTVE|          1404|             23-02-2018|\n",
      "|  1564506|      1|   113391457|113391457|Account|TRAN T *** YEN|     F|    10001| ACTVE|          1003|              3/12/2018|\n",
      "|  1564507|      1|   113391483|113391483|Account|TRAN T *** BAC|     F|    10001| ACTVE|          2201|             15-06-2018|\n",
      "|   859964|      1|   105260800|105260800|Account|NGUYEN *** UNG|     M|    10001| ACTVE|          1401|             16-11-2018|\n",
      "|   958930|      1|   106573010|106573010|Account|TRAN N *** ANH|     M|    10001| ACTVE|          1600|              7/10/2002|\n",
      "|   958931|      1|   106573034|106573034|Account|NGUYEN *** ANH|     F|    10001| ACTVE|          1003|              7/10/2002|\n",
      "|   958932|      1|   106573046|106573046|Account|PHAN G ***  TU|     M|    10001| ACTVE|          1003|              7/10/2002|\n",
      "|   958933|      1|   106573058|106573058|Account|LE THI *** OAN|     F|    10001| ACTVE|          1003|              7/10/2002|\n",
      "|   958934|      1|   106573072|106573072|Account|LE KIM *** OAN|     F|    10001| ACTVE|          1003|              7/10/2002|\n",
      "|  1908908|      1|   118013294|118013294|Account|CHIU T *** UAN|     F|    10001| ACTVE|          1402|              7/10/2002|\n",
      "|  2008260|      1|   119967428|119967428|Account|NGUYEN *** UAN|     F|    10001| ACTVE|          1601|             14-01-2019|\n",
      "|   958935|      1|   106573084|106573084|Account|NGUYEN *** THU|     F|    10001| ACTVE|          1700|             21-01-2019|\n",
      "|   860045|      1|   105279368|105279368|Account|CAO HO *** ONG|     M|    10001| ACTVE|          1502|             20-02-2019|\n",
      "|   860046|      1|   105279370|105279370|Account|NGUYEN *** YEN|     M|    10001| ACTVE|          1003|             17-06-2019|\n",
      "|   860047|      1|   105279435|105279435|Account|LE ANH ***  TU|     M|    10001| ACTVE|          1003|              10/2/2017|\n",
      "|   860010|      1|   105268371|105268371|Account|NGO TH *** ANH|     F|    10001| ACTVE|          1015|             25-08-2017|\n",
      "|   860011|      1|   105268383|105268383|Account|HUYNH  *** HUY|     F|    10001| ACTVE|          1401|               7/3/2018|\n",
      "|   860012|      1|   105268400|105268400|Account|PHAM T *** ANG|     F|    10001| ACTVE|          2100|             14-03-2018|\n",
      "|  2008140|      1|   119821325|119821325|Account|NGUYEN *** ANG|     F|    10001| ACTVE|          1602|             16-03-2018|\n",
      "|  2008141|      1|   119821404|119821404|Account|NGUYEN *** OAI|     F|    10001| ACTVE|          1602|             23-03-2018|\n",
      "+---------+-------+------------+---------+-------+--------------+------+---------+------+--------------+-----------------------+\n",
      "only showing top 20 rows\n",
      "\n"
     ]
    }
   ],
   "source": [
    "data_df = spark.read.csv(\"CRMUSER_ACCOUNTS.csv\", header = True)\n",
    "data_df.show(20)"
   ]
  },
  {
   "cell_type": "markdown",
   "id": "5ce055e0-d3fa-4373-8391-d8647bf2e38b",
   "metadata": {},
   "source": [
    "### Create table"
   ]
  },
  {
   "cell_type": "code",
   "execution_count": 6,
   "id": "ecededc1-1d2b-424e-99c7-b6eef29be231",
   "metadata": {},
   "outputs": [
    {
     "name": "stdout",
     "output_type": "stream",
     "text": [
      "++\n",
      "||\n",
      "++\n",
      "++\n",
      "\n"
     ]
    }
   ],
   "source": [
    "spark.sql(\"CREATE NAMESPACE nessie.lamtran;\").show()"
   ]
  },
  {
   "cell_type": "code",
   "execution_count": 7,
   "id": "e459cc0a-6b13-403b-b6b2-1f6f756e2b41",
   "metadata": {},
   "outputs": [
    {
     "data": {
      "text/plain": [
       "DataFrame[]"
      ]
     },
     "execution_count": 7,
     "metadata": {},
     "output_type": "execute_result"
    }
   ],
   "source": [
    "spark.sql(\"\"\"CREATE TABLE nessie.lamtran.customer(\n",
    "            ACCOUNTID STRING,\n",
    "            BANK_ID STRING,\n",
    "            CORE_CUST_ID STRING,\n",
    "            ORGKEY STRING,\n",
    "            ORGTYPE STRING,\n",
    "            NAME STRING,\n",
    "            GENDER STRING,\n",
    "            CUST_TYPE STRING,\n",
    "            STATUS STRING,\n",
    "            PRIMARY_SOL_ID STRING,\n",
    "            RELATIONSHIPOPENINGDATE DATE)\n",
    "        USING ICEBERG \"\"\")"
   ]
  },
  {
   "cell_type": "code",
   "execution_count": 65,
   "id": "06cd9b6b-c62e-40cb-9a04-4964ace1464c",
   "metadata": {},
   "outputs": [],
   "source": [
    "# Convert date formats\n",
    "schema = StructType([\n",
    "    StructField(\"ACCOUNTID\", StringType(), True),\n",
    "    StructField(\"BANK_ID\", StringType(), True),\n",
    "    StructField(\"CORE_CUST_ID\", StringType(), True),\n",
    "    StructField(\"ORGKEY\", StringType(), True),\n",
    "    StructField(\"ORGTYPE\", StringType(), True),\n",
    "    StructField(\"NAME\", StringType(), True),\n",
    "    StructField(\"GENDER\", StringType(), True),\n",
    "    StructField(\"CUST_TYPE\", StringType(), True),\n",
    "    StructField(\"STATUS\", StringType(), True),\n",
    "    StructField(\"PRIMARY_SOL_ID\", StringType(), True),\n",
    "    StructField(\"RELATIONSHIPOPENINGDATE\", DateType(), True)\n",
    "])\n",
    "\n",
    "# Read CSV with schema\n",
    "df = spark.read.csv(raw_csv_path, schema=schema, header=True)\n",
    "\n",
    "df = raw_df.withColumn(\n",
    "    \"RELATIONSHIPOPENINGDATE\",\n",
    "    when(raw_df[\"RELATIONSHIPOPENINGDATE\"].rlike(r\"^\\d{2}-\\d{2}-\\d{4}$\"), \n",
    "         to_date(\"RELATIONSHIPOPENINGDATE\", \"dd-MM-yyyy\"))\n",
    "    .when(raw_df[\"RELATIONSHIPOPENINGDATE\"].rlike(r\"^\\d{1,2}/\\d{1,2}/\\d{4}$\"), \n",
    "          to_date(\"RELATIONSHIPOPENINGDATE\", \"d/M/yyyy\"))\n",
    ")\n"
   ]
  },
  {
   "cell_type": "code",
   "execution_count": 11,
   "id": "9c167a7d-706f-4b18-a643-5a0bdeda6f03",
   "metadata": {},
   "outputs": [
    {
     "data": {
      "text/plain": [
       "DataFrame[]"
      ]
     },
     "execution_count": 11,
     "metadata": {},
     "output_type": "execute_result"
    }
   ],
   "source": [
    "# Set procesure case delta table\n",
    "spark.sql(\"\"\"ALTER TABLE nessie.lamtran.customer SET TBLPROPERTIES (\n",
    "    'write.delete.mode'='merge-on-read',\n",
    "    'write.update.mode'='merge-on-read',\n",
    "    'write.merge.mode'='merge-on-read'\n",
    ");\n",
    "\"\"\")"
   ]
  },
  {
   "cell_type": "code",
   "execution_count": 56,
   "id": "5e3ad976-de87-4c69-ad0c-92ee57a9045b",
   "metadata": {},
   "outputs": [],
   "source": [
    "df.write.format(\"iceberg\").mode(\"append\").save(\"nessie.lamtran.customer\")"
   ]
  },
  {
   "cell_type": "code",
   "execution_count": 67,
   "id": "7ac07c2c-ec05-4294-8f7f-96e9eb7e1fb6",
   "metadata": {},
   "outputs": [
    {
     "name": "stdout",
     "output_type": "stream",
     "text": [
      "+--------+\n",
      "|count(1)|\n",
      "+--------+\n",
      "|      28|\n",
      "+--------+\n",
      "\n",
      "+---------+-------+------------+---------+-------+--------------+------+---------+------+--------------+-----------------------+\n",
      "|ACCOUNTID|BANK_ID|CORE_CUST_ID|   ORGKEY|ORGTYPE|          NAME|GENDER|CUST_TYPE|STATUS|PRIMARY_SOL_ID|RELATIONSHIPOPENINGDATE|\n",
      "+---------+-------+------------+---------+-------+--------------+------+---------+------+--------------+-----------------------+\n",
      "|  1564505|      1|   113391407|113391407|Account|TRAN T *** HAI|     M|    10001| ACTVE|          1404|             2018-02-23|\n",
      "|  1564506|      1|   113391457|113391457|Account|TRAN T *** YEN|     F|    10001| ACTVE|          1003|             2018-12-03|\n",
      "|  1564507|      1|   113391483|113391483|Account|TRAN T *** BAC|     F|    10001| ACTVE|          2201|             2018-06-15|\n",
      "|   859964|      1|   105260800|105260800|Account|NGUYEN *** UNG|     M|    10001| ACTVE|          1401|             2018-11-16|\n",
      "|   958930|      1|   106573010|106573010|Account|TRAN N *** ANH|     M|    10001| ACTVE|          1600|             2002-10-07|\n",
      "|   958931|      1|   106573034|106573034|Account|NGUYEN *** ANH|     F|    10001| ACTVE|          1003|             2002-10-07|\n",
      "|   958932|      1|   106573046|106573046|Account|PHAN G ***  TU|     M|    10001| ACTVE|          1003|             2002-10-07|\n",
      "|   958933|      1|   106573058|106573058|Account|LE THI *** OAN|     F|    10001| ACTVE|          1003|             2002-10-07|\n",
      "|   958934|      1|   106573072|106573072|Account|LE KIM *** OAN|     F|    10001| ACTVE|          1003|             2002-10-07|\n",
      "|  1908908|      1|   118013294|118013294|Account|CHIU T *** UAN|     F|    10001| ACTVE|          1402|             2002-10-07|\n",
      "+---------+-------+------------+---------+-------+--------------+------+---------+------+--------------+-----------------------+\n",
      "only showing top 10 rows\n",
      "\n"
     ]
    }
   ],
   "source": [
    "spark.sql(\"\"\"SELECT COUNT(*) FROM  nessie.lamtran.customer\"\"\").show()\n",
    "spark.sql(\"\"\"SELECT * FROM  nessie.lamtran.customer\"\"\").show(10)"
   ]
  },
  {
   "cell_type": "markdown",
   "id": "9c747dd9-abb1-4534-b267-d95dec299d94",
   "metadata": {},
   "source": [
    "### Update/ Delete / insert table"
   ]
  },
  {
   "cell_type": "code",
   "execution_count": 57,
   "id": "ee961256-ab04-474a-ab83-f6e9e3c21ce0",
   "metadata": {},
   "outputs": [
    {
     "data": {
      "text/plain": [
       "DataFrame[]"
      ]
     },
     "execution_count": 57,
     "metadata": {},
     "output_type": "execute_result"
    }
   ],
   "source": [
    "# Thêm giá trị (1)\n",
    "spark.sql(\"\"\"\n",
    "  INSERT INTO nessie.lamtran.customer (ACCOUNTID, BANK_ID, CORE_CUST_ID, ORGKEY, ORGTYPE, NAME, GENDER, CUST_TYPE, STATUS, PRIMARY_SOL_ID, RELATIONSHIPOPENINGDATE)\n",
    "  VALUES (80, 2, 123456789, 123456789, 'Account', 'HAHAHIHI', 'M', 10001, 'ACTVE', 1500, to_date('2024-11-07','yyyy-mm-dd'))\n",
    "\"\"\")\n"
   ]
  },
  {
   "cell_type": "code",
   "execution_count": 58,
   "id": "e7a9dbbd-92d2-4847-8732-852c4ac9b257",
   "metadata": {},
   "outputs": [
    {
     "data": {
      "text/plain": [
       "DataFrame[]"
      ]
     },
     "execution_count": 58,
     "metadata": {},
     "output_type": "execute_result"
    }
   ],
   "source": [
    "#(2)\n",
    "spark.sql(\"\"\"UPDATE nessie.lamtran.customer  SET STATUS = 'INACTIVE', NAME = 'TRAN THI ***** HANG'\n",
    "  WHERE ACCOUNTID = 860010\n",
    "\"\"\")"
   ]
  },
  {
   "cell_type": "code",
   "execution_count": 60,
   "id": "51b2f69e-9821-48da-a54c-ca845bb83ce9",
   "metadata": {},
   "outputs": [
    {
     "data": {
      "text/plain": [
       "DataFrame[]"
      ]
     },
     "execution_count": 60,
     "metadata": {},
     "output_type": "execute_result"
    }
   ],
   "source": [
    "#(4)\n",
    "spark.sql(\"\"\"UPDATE nessie.lamtran.customer  SET STATUS = 'INACTIVE', NAME = 'TRAN THI ***** HA'\n",
    "  WHERE ACCOUNTID = 2008140\n",
    "\"\"\")"
   ]
  },
  {
   "cell_type": "code",
   "execution_count": 24,
   "id": "65e4675d-98b3-416a-90e7-3a2052af4373",
   "metadata": {},
   "outputs": [
    {
     "name": "stdout",
     "output_type": "stream",
     "text": [
      "+---------+-------+------------+---------+-------+--------+------+---------+------+--------------+-----------------------+\n",
      "|ACCOUNTID|BANK_ID|CORE_CUST_ID|   ORGKEY|ORGTYPE|    NAME|GENDER|CUST_TYPE|STATUS|PRIMARY_SOL_ID|RELATIONSHIPOPENINGDATE|\n",
      "+---------+-------+------------+---------+-------+--------+------+---------+------+--------------+-----------------------+\n",
      "|       80|      2|   123456789|123456789|Account|HAHAHIHI|     M|    10001| ACTVE|          1500|             2024-01-07|\n",
      "+---------+-------+------------+---------+-------+--------+------+---------+------+--------------+-----------------------+\n",
      "\n"
     ]
    }
   ],
   "source": [
    "spark.sql(\"\"\"SELECT * FROM  nessie.lamtran.customer where ACCOUNTID= 80 ;\"\"\").show()"
   ]
  },
  {
   "cell_type": "code",
   "execution_count": 59,
   "id": "28260570-51c6-4fa8-ac90-6d052a857c41",
   "metadata": {},
   "outputs": [
    {
     "data": {
      "text/plain": [
       "DataFrame[]"
      ]
     },
     "execution_count": 59,
     "metadata": {},
     "output_type": "execute_result"
    }
   ],
   "source": [
    "(3)\n",
    "spark.sql(\"\"\"DELETE FROM nessie.lamtran.customer  WHERE ACCOUNTID = 958933\n",
    "\"\"\")"
   ]
  },
  {
   "cell_type": "code",
   "execution_count": 61,
   "id": "7e98d64d-bf88-4ecd-b85d-844d2bd3490b",
   "metadata": {},
   "outputs": [
    {
     "data": {
      "text/plain": [
       "DataFrame[]"
      ]
     },
     "execution_count": 61,
     "metadata": {},
     "output_type": "execute_result"
    }
   ],
   "source": [
    "# Thêm giá trị (5)\n",
    "spark.sql(\"\"\"\n",
    "  INSERT INTO nessie.lamtran.customer (ACCOUNTID, BANK_ID, CORE_CUST_ID, ORGKEY, ORGTYPE, NAME, GENDER, CUST_TYPE, STATUS, PRIMARY_SOL_ID, RELATIONSHIPOPENINGDATE)\n",
    "  VALUES (100, 2, 123456789, 123456789, 'Account', 'HOANG THI HUONG', 'M', 10001, 'ACTVE', 1500, to_date('2024-11-14','yyyy-mm-dd'))\n",
    "\"\"\")"
   ]
  },
  {
   "cell_type": "code",
   "execution_count": 58,
   "id": "50561e2d-6c2f-40f3-ab15-a547eac1ca01",
   "metadata": {},
   "outputs": [
    {
     "name": "stdout",
     "output_type": "stream",
     "text": [
      "+---------+-------+------------+---------+-------+-------------------+------+---------+--------+--------------+-----------------------+\n",
      "|ACCOUNTID|BANK_ID|CORE_CUST_ID|   ORGKEY|ORGTYPE|               NAME|GENDER|CUST_TYPE|  STATUS|PRIMARY_SOL_ID|RELATIONSHIPOPENINGDATE|\n",
      "+---------+-------+------------+---------+-------+-------------------+------+---------+--------+--------------+-----------------------+\n",
      "|   860010|      1|   105268371|105268371|Account|TRAN THI ***** HANG|     F|    10001|INACTIVE|          1015|             2017-08-25|\n",
      "+---------+-------+------------+---------+-------+-------------------+------+---------+--------+--------------+-----------------------+\n",
      "\n"
     ]
    }
   ],
   "source": [
    "spark.sql(\"\"\"SELECT * FROM nessie.lamtran.customer where ACCOUNTID = 860010\"\"\").show()"
   ]
  },
  {
   "cell_type": "code",
   "execution_count": 63,
   "id": "d596dbc6-64b9-4125-9aab-2ade0ec6f1b7",
   "metadata": {},
   "outputs": [
    {
     "name": "stdout",
     "output_type": "stream",
     "text": [
      "++\n",
      "||\n",
      "++\n",
      "++\n",
      "\n"
     ]
    }
   ],
   "source": [
    "spark.sql(\"\"\"DROP TABLE nessie.lamtran.customer\"\"\").show()"
   ]
  },
  {
   "cell_type": "code",
   "execution_count": 28,
   "id": "cd71d4c3-d6f1-40d7-ac7a-e016275540be",
   "metadata": {},
   "outputs": [
    {
     "name": "stdout",
     "output_type": "stream",
     "text": [
      "+--------+\n",
      "|count(1)|\n",
      "+--------+\n",
      "|      29|\n",
      "+--------+\n",
      "\n"
     ]
    }
   ],
   "source": [
    "spark.sql(\"\"\"SELECT COUNT(*) FROM  nessie.lamtran.customer\"\"\").show()"
   ]
  },
  {
   "cell_type": "markdown",
   "id": "e07d9eae-3d24-4e7f-b249-62ee0c1b5eaf",
   "metadata": {},
   "source": [
    "### Move file data and update metadata"
   ]
  },
  {
   "cell_type": "code",
   "execution_count": 74,
   "id": "28011256-dd88-487d-9f94-c7f03d5d5739",
   "metadata": {},
   "outputs": [
    {
     "name": "stdout",
     "output_type": "stream",
     "text": [
      "+-----------------------+-------------------+-------------------+---------+-----------------------------------------------------------------------------------------------------------------------------------------------------+------------------------------------------------------------------------------------------------------------------------------------------------------------------------------------------------------------------------------------------------------------------------------------------------------------------------------------------------------------------------------+\n",
      "|committed_at           |snapshot_id        |parent_id          |operation|manifest_list                                                                                                                                        |summary                                                                                                                                                                                                                                                                                                                                                                       |\n",
      "+-----------------------+-------------------+-------------------+---------+-----------------------------------------------------------------------------------------------------------------------------------------------------+------------------------------------------------------------------------------------------------------------------------------------------------------------------------------------------------------------------------------------------------------------------------------------------------------------------------------------------------------------------------------+\n",
      "|2024-11-20 04:27:47.491|3363876608955524645|NULL               |append   |s3a://standardize/lamtran/customer_3a443a51-fc4b-4de4-b145-2ae6c721bf3f/metadata/snap-3363876608955524645-1-1ea81435-375e-42e7-8515-d86aa993f9d8.avro|{spark.app.id -> local-1732072170589, added-data-files -> 1, added-records -> 28, added-files-size -> 3990, changed-partition-count -> 1, total-records -> 28, total-files-size -> 3990, total-data-files -> 1, total-delete-files -> 0, total-position-deletes -> 0, total-equality-deletes -> 0}                                                                            |\n",
      "|2024-11-20 04:28:30.584|1288987108754526709|3363876608955524645|append   |s3a://standardize/lamtran/customer_3a443a51-fc4b-4de4-b145-2ae6c721bf3f/metadata/snap-1288987108754526709-1-60ab0f75-033a-4e92-98b6-13271f2ddf5b.avro|{spark.app.id -> local-1732072170589, added-data-files -> 1, added-records -> 1, added-files-size -> 2947, changed-partition-count -> 1, total-records -> 29, total-files-size -> 6937, total-data-files -> 2, total-delete-files -> 0, total-position-deletes -> 0, total-equality-deletes -> 0}                                                                             |\n",
      "|2024-11-20 04:29:14.987|8245947571210554019|1288987108754526709|overwrite|s3a://standardize/lamtran/customer_3a443a51-fc4b-4de4-b145-2ae6c721bf3f/metadata/snap-8245947571210554019-1-f0e1e072-9a5c-4d25-8936-346fe1821b02.avro|{spark.app.id -> local-1732072170589, added-data-files -> 1, deleted-data-files -> 1, added-records -> 28, deleted-records -> 28, added-files-size -> 4002, removed-files-size -> 3990, changed-partition-count -> 1, total-records -> 29, total-files-size -> 6949, total-data-files -> 2, total-delete-files -> 0, total-position-deletes -> 0, total-equality-deletes -> 0}|\n",
      "|2024-11-20 04:30:31.468|7114774514001334108|8245947571210554019|overwrite|s3a://standardize/lamtran/customer_3a443a51-fc4b-4de4-b145-2ae6c721bf3f/metadata/snap-7114774514001334108-1-511e7e3c-16b5-468b-9cb7-9ec142251634.avro|{spark.app.id -> local-1732072170589, added-data-files -> 1, deleted-data-files -> 1, added-records -> 27, deleted-records -> 28, added-files-size -> 3992, removed-files-size -> 4002, changed-partition-count -> 1, total-records -> 28, total-files-size -> 6939, total-data-files -> 2, total-delete-files -> 0, total-position-deletes -> 0, total-equality-deletes -> 0}|\n",
      "|2024-11-20 04:31:11.113|6913384981637447512|7114774514001334108|overwrite|s3a://standardize/lamtran/customer_3a443a51-fc4b-4de4-b145-2ae6c721bf3f/metadata/snap-6913384981637447512-1-86a4a8c5-7e63-4764-9bdc-c6ef628e81ec.avro|{spark.app.id -> local-1732072170589, added-data-files -> 1, deleted-data-files -> 1, added-records -> 27, deleted-records -> 27, added-files-size -> 3995, removed-files-size -> 3992, changed-partition-count -> 1, total-records -> 28, total-files-size -> 6942, total-data-files -> 2, total-delete-files -> 0, total-position-deletes -> 0, total-equality-deletes -> 0}|\n",
      "|2024-11-20 04:32:07.397|2674580199128993375|6913384981637447512|append   |s3a://standardize/lamtran/customer_3a443a51-fc4b-4de4-b145-2ae6c721bf3f/metadata/snap-2674580199128993375-1-cdeab601-452a-4711-8b55-62f1413b60c9.avro|{spark.app.id -> local-1732072170589, added-data-files -> 1, added-records -> 1, added-files-size -> 3003, changed-partition-count -> 1, total-records -> 29, total-files-size -> 9945, total-data-files -> 3, total-delete-files -> 0, total-position-deletes -> 0, total-equality-deletes -> 0}                                                                             |\n",
      "+-----------------------+-------------------+-------------------+---------+-----------------------------------------------------------------------------------------------------------------------------------------------------+------------------------------------------------------------------------------------------------------------------------------------------------------------------------------------------------------------------------------------------------------------------------------------------------------------------------------------------------------------------------------+\n",
      "\n"
     ]
    }
   ],
   "source": [
    "spark.sql(\"\"\"SELECT * FROM nessie.lamtran.customer.snapshots\"\"\").show(truncate = False)"
   ]
  },
  {
   "cell_type": "code",
   "execution_count": 75,
   "id": "bd2038fd-eb20-4bd5-8465-7ba1f7360fd1",
   "metadata": {},
   "outputs": [
    {
     "name": "stdout",
     "output_type": "stream",
     "text": [
      "+--------------------+-------------------+-------------------+---------+--------------------+--------------------+\n",
      "|        committed_at|        snapshot_id|          parent_id|operation|       manifest_list|             summary|\n",
      "+--------------------+-------------------+-------------------+---------+--------------------+--------------------+\n",
      "|2024-11-20 04:27:...|3363876608955524645|               NULL|   append|s3a://standardize...|{spark.app.id -> ...|\n",
      "|2024-11-20 04:28:...|1288987108754526709|3363876608955524645|   append|s3a://standardize...|{spark.app.id -> ...|\n",
      "|2024-11-20 04:29:...|8245947571210554019|1288987108754526709|overwrite|s3a://standardize...|{spark.app.id -> ...|\n",
      "|2024-11-20 04:30:...|7114774514001334108|8245947571210554019|overwrite|s3a://standardize...|{spark.app.id -> ...|\n",
      "|2024-11-20 04:31:...|6913384981637447512|7114774514001334108|overwrite|s3a://standardize...|{spark.app.id -> ...|\n",
      "|2024-11-20 04:32:...|2674580199128993375|6913384981637447512|   append|s3a://standardize...|{spark.app.id -> ...|\n",
      "+--------------------+-------------------+-------------------+---------+--------------------+--------------------+\n",
      "\n"
     ]
    }
   ],
   "source": [
    "spark.sql(\"\"\"SELECT * FROM nessie.lamtran.customer.snapshots\"\"\").show(truncate = True)"
   ]
  },
  {
   "cell_type": "code",
   "execution_count": 118,
   "id": "20099f40-24bd-4fac-91dc-50cfc932186f",
   "metadata": {
    "scrolled": true
   },
   "outputs": [
    {
     "name": "stdout",
     "output_type": "stream",
     "text": [
      "+-------+--------------------+------+-----------------+-------------------+----------------------+-------------------------+------------------------+------------------------+---------------------------+--------------------------+-------------------+---------------------+\n",
      "|content|                path|length|partition_spec_id|  added_snapshot_id|added_data_files_count|existing_data_files_count|deleted_data_files_count|added_delete_files_count|existing_delete_files_count|deleted_delete_files_count|partition_summaries|reference_snapshot_id|\n",
      "+-------+--------------------+------+-----------------+-------------------+----------------------+-------------------------+------------------------+------------------------+---------------------------+--------------------------+-------------------+---------------------+\n",
      "|      0|s3a://standardize...|  7432|                0|3363876608955524645|                     1|                        0|                       0|                       0|                          0|                         0|                 []|  3363876608955524645|\n",
      "|      0|s3a://standardize...|  7368|                0|1288987108754526709|                     1|                        0|                       0|                       0|                          0|                         0|                 []|  1288987108754526709|\n",
      "|      0|s3a://standardize...|  7432|                0|3363876608955524645|                     1|                        0|                       0|                       0|                          0|                         0|                 []|  1288987108754526709|\n",
      "|      0|s3a://standardize...|  7439|                0|8245947571210554019|                     1|                        0|                       0|                       0|                          0|                         0|                 []|  8245947571210554019|\n",
      "|      0|s3a://standardize...|  7368|                0|1288987108754526709|                     1|                        0|                       0|                       0|                          0|                         0|                 []|  8245947571210554019|\n",
      "|      0|s3a://standardize...|  7430|                0|8245947571210554019|                     0|                        0|                       1|                       0|                          0|                         0|                 []|  8245947571210554019|\n",
      "|      0|s3a://standardize...|  7440|                0|7114774514001334108|                     1|                        0|                       0|                       0|                          0|                         0|                 []|  7114774514001334108|\n",
      "|      0|s3a://standardize...|  7444|                0|7114774514001334108|                     0|                        0|                       1|                       0|                          0|                         0|                 []|  7114774514001334108|\n",
      "|      0|s3a://standardize...|  7368|                0|1288987108754526709|                     1|                        0|                       0|                       0|                          0|                         0|                 []|  7114774514001334108|\n",
      "|      0|s3a://standardize...|  7441|                0|6913384981637447512|                     1|                        0|                       0|                       0|                          0|                         0|                 []|  6913384981637447512|\n",
      "|      0|s3a://standardize...|  7440|                0|6913384981637447512|                     0|                        0|                       1|                       0|                          0|                         0|                 []|  6913384981637447512|\n",
      "|      0|s3a://standardize...|  7368|                0|1288987108754526709|                     1|                        0|                       0|                       0|                          0|                         0|                 []|  6913384981637447512|\n",
      "|      0|s3a://standardize...|  7378|                0|2674580199128993375|                     1|                        0|                       0|                       0|                          0|                         0|                 []|  2674580199128993375|\n",
      "|      0|s3a://standardize...|  7441|                0|6913384981637447512|                     1|                        0|                       0|                       0|                          0|                         0|                 []|  2674580199128993375|\n",
      "|      0|s3a://standardize...|  7368|                0|1288987108754526709|                     1|                        0|                       0|                       0|                          0|                         0|                 []|  2674580199128993375|\n",
      "+-------+--------------------+------+-----------------+-------------------+----------------------+-------------------------+------------------------+------------------------+---------------------------+--------------------------+-------------------+---------------------+\n",
      "\n"
     ]
    }
   ],
   "source": [
    "spark.sql(\"\"\"SELECT * FROM nessie.lamtran.customer.all_manifests\"\"\").show(truncate = True)"
   ]
  },
  {
   "cell_type": "code",
   "execution_count": 117,
   "id": "855f8743-d852-42e0-b315-16e3f0e6c23e",
   "metadata": {
    "scrolled": true
   },
   "outputs": [
    {
     "name": "stdout",
     "output_type": "stream",
     "text": [
      "+------+-------------------+---------------+--------------------+-----------------------------------------------------------------------------------------------------------------------------------------------------------------------------------------------------------------------------------------------------------------------------------------------------------------------------------------------------------------------------------------------------------------------------------------------------------------------------------------------------------------------------------------------------------------------------------------------------------------------------------------------------------------------------------------------------------------------------------------------------------------------------------------------------------------------------------------------------------------------------------------------------------------------------------------------------------------------------------------------------------------------------------------------------------------------------------------------------------------------+---------------------------------------------------------------------------------------------------------------------------------------------------------------------------------------------------------------------------------------------------------------------------------------------------------------------------------------------------------------------------------------------------------------------+\n",
      "|status|snapshot_id        |sequence_number|file_sequence_number|data_file                                                                                                                                                                                                                                                                                                                                                                                                                                                                                                                                                                                                                                                                                                                                                                                                                                                                                                                                                                                                                                                                                                              |readable_metrics                                                                                                                                                                                                                                                                                                                                                                                                     |\n",
      "+------+-------------------+---------------+--------------------+-----------------------------------------------------------------------------------------------------------------------------------------------------------------------------------------------------------------------------------------------------------------------------------------------------------------------------------------------------------------------------------------------------------------------------------------------------------------------------------------------------------------------------------------------------------------------------------------------------------------------------------------------------------------------------------------------------------------------------------------------------------------------------------------------------------------------------------------------------------------------------------------------------------------------------------------------------------------------------------------------------------------------------------------------------------------------------------------------------------------------+---------------------------------------------------------------------------------------------------------------------------------------------------------------------------------------------------------------------------------------------------------------------------------------------------------------------------------------------------------------------------------------------------------------------+\n",
      "|2     |8245947571210554019|1              |1                   |{0, s3a://standardize/lamtran/customer_3a443a51-fc4b-4de4-b145-2ae6c721bf3f/data/00000-87-50a7c372-ca8d-4e0b-a3b0-6f26aa8a40eb-0-00001.parquet, PARQUET, 0, 28, 3990, {1 -> 147, 2 -> 72, 3 -> 167, 4 -> 167, 5 -> 79, 6 -> 269, 7 -> 82, 8 -> 76, 9 -> 77, 10 -> 178, 11 -> 114}, {1 -> 28, 2 -> 28, 3 -> 28, 4 -> 28, 5 -> 28, 6 -> 28, 7 -> 28, 8 -> 28, 9 -> 28, 10 -> 28, 11 -> 28}, {1 -> 0, 2 -> 0, 3 -> 0, 4 -> 0, 5 -> 0, 6 -> 0, 7 -> 0, 8 -> 0, 9 -> 0, 10 -> 0, 11 -> 0}, {}, {1 -> [31 33 30 38 33 35 36], 2 -> [31], 3 -> [31 30 35 32 36 30 38 30 30], 4 -> [31 30 35 32 36 30 38 30 30], 5 -> [41 63 63 6F 75 6E 74], 6 -> [43 41 4F 20 48 4F 20 2A 2A 2A 20 4F 4E 47], 7 -> [46], 8 -> [31 30 30 30 31], 9 -> [41 43 54 56 45], 10 -> [31 30 30 33], 11 -> [BF 2E 00 00]}, {1 -> [39 35 38 39 33 35], 2 -> [31], 3 -> [31 31 39 39 36 37 34 32 38], 4 -> [31 31 39 39 36 37 34 32 38], 5 -> [41 63 63 6F 75 6E 74], 6 -> [56 4F 20 50 48 55 20 2A 2A 2A 20 4F 4E 47], 7 -> [4D], 8 -> [31 30 30 30 31], 9 -> [41 43 54 56 45], 10 -> [32 32 30 31], 11 -> [F9 46 00 00]}, NULL, [4], NULL, 0}         |{{147, 28, 0, NULL, 1308356, 958935}, {72, 28, 0, NULL, 1, 1}, {167, 28, 0, NULL, 105260800, 119967428}, {76, 28, 0, NULL, 10001, 10001}, {82, 28, 0, NULL, F, M}, {269, 28, 0, NULL, CAO HO *** ONG, VO PHU *** ONG}, {167, 28, 0, NULL, 105260800, 119967428}, {79, 28, 0, NULL, Account, Account}, {178, 28, 0, NULL, 1003, 2201}, {114, 28, 0, NULL, 2002-10-07, 2019-09-30}, {77, 28, 0, NULL, ACTVE, ACTVE}}   |\n",
      "|2     |6913384981637447512|4              |4                   |{0, s3a://standardize/lamtran/customer_3a443a51-fc4b-4de4-b145-2ae6c721bf3f/data/00000-99-87bdef5b-e016-4368-98f6-63a3d40dce74-0-00001.parquet, PARQUET, 0, 27, 3992, {1 -> 145, 2 -> 72, 3 -> 165, 4 -> 165, 5 -> 79, 6 -> 270, 7 -> 82, 8 -> 76, 9 -> 93, 10 -> 178, 11 -> 112}, {1 -> 27, 2 -> 27, 3 -> 27, 4 -> 27, 5 -> 27, 6 -> 27, 7 -> 27, 8 -> 27, 9 -> 27, 10 -> 27, 11 -> 27}, {1 -> 0, 2 -> 0, 3 -> 0, 4 -> 0, 5 -> 0, 6 -> 0, 7 -> 0, 8 -> 0, 9 -> 0, 10 -> 0, 11 -> 0}, {}, {1 -> [31 33 30 38 33 35 36], 2 -> [31], 3 -> [31 30 35 32 36 30 38 30 30], 4 -> [31 30 35 32 36 30 38 30 30], 5 -> [41 63 63 6F 75 6E 74], 6 -> [43 41 4F 20 48 4F 20 2A 2A 2A 20 4F 4E 47], 7 -> [46], 8 -> [31 30 30 30 31], 9 -> [41 43 54 56 45], 10 -> [31 30 30 33], 11 -> [BF 2E 00 00]}, {1 -> [39 35 38 39 33 35], 2 -> [31], 3 -> [31 31 39 39 36 37 34 32 38], 4 -> [31 31 39 39 36 37 34 32 38], 5 -> [41 63 63 6F 75 6E 74], 6 -> [56 4F 20 50 48 55 20 2A 2A 2A 20 4F 4E 47], 7 -> [4D], 8 -> [31 30 30 30 31], 9 -> [49 4E 41 43 54 49 56 45], 10 -> [32 32 30 31], 11 -> [F9 46 00 00]}, NULL, [4], NULL, 0}|{{145, 27, 0, NULL, 1308356, 958935}, {72, 27, 0, NULL, 1, 1}, {165, 27, 0, NULL, 105260800, 119967428}, {76, 27, 0, NULL, 10001, 10001}, {82, 27, 0, NULL, F, M}, {270, 27, 0, NULL, CAO HO *** ONG, VO PHU *** ONG}, {165, 27, 0, NULL, 105260800, 119967428}, {79, 27, 0, NULL, Account, Account}, {178, 27, 0, NULL, 1003, 2201}, {112, 27, 0, NULL, 2002-10-07, 2019-09-30}, {93, 27, 0, NULL, ACTVE, INACTIVE}}|\n",
      "|1     |2674580199128993375|6              |6                   |{0, s3a://standardize/lamtran_newlocation/data/00000-104-b22bdf82-8518-4401-99de-18bf69f9d163-0-00001.parquet, PARQUET, 0, 1, 3003, {1 -> 39, 2 -> 37, 3 -> 45, 4 -> 45, 5 -> 43, 6 -> 51, 7 -> 37, 8 -> 40, 9 -> 41, 10 -> 40, 11 -> 42}, {1 -> 1, 2 -> 1, 3 -> 1, 4 -> 1, 5 -> 1, 6 -> 1, 7 -> 1, 8 -> 1, 9 -> 1, 10 -> 1, 11 -> 1}, {1 -> 0, 2 -> 0, 3 -> 0, 4 -> 0, 5 -> 0, 6 -> 0, 7 -> 0, 8 -> 0, 9 -> 0, 10 -> 0, 11 -> 0}, {}, {1 -> [31 30 30], 2 -> [32], 3 -> [31 32 33 34 35 36 37 38 39], 4 -> [31 32 33 34 35 36 37 38 39], 5 -> [41 63 63 6F 75 6E 74], 6 -> [48 4F 41 4E 47 20 54 48 49 20 48 55 4F 4E 47], 7 -> [4D], 8 -> [31 30 30 30 31], 9 -> [41 43 54 56 45], 10 -> [31 35 30 30], 11 -> [18 4D 00 00]}, {1 -> [31 30 30], 2 -> [32], 3 -> [31 32 33 34 35 36 37 38 39], 4 -> [31 32 33 34 35 36 37 38 39], 5 -> [41 63 63 6F 75 6E 74], 6 -> [48 4F 41 4E 47 20 54 48 49 20 48 55 4F 4E 47], 7 -> [4D], 8 -> [31 30 30 30 31], 9 -> [41 43 54 56 45], 10 -> [31 35 30 30], 11 -> [18 4D 00 00]}, NULL, [4], NULL, 0}                                                                           |{{39, 1, 0, NULL, 100, 100}, {37, 1, 0, NULL, 2, 2}, {45, 1, 0, NULL, 123456789, 123456789}, {40, 1, 0, NULL, 10001, 10001}, {37, 1, 0, NULL, M, M}, {51, 1, 0, NULL, HOANG THI HUONG, HOANG THI HUONG}, {45, 1, 0, NULL, 123456789, 123456789}, {43, 1, 0, NULL, Account, Account}, {40, 1, 0, NULL, 1500, 1500}, {42, 1, 0, NULL, 2024-01-14, 2024-01-14}, {41, 1, 0, NULL, ACTVE, ACTVE}}                         |\n",
      "|1     |8245947571210554019|3              |3                   |{0, s3a://standardize/lamtran/customer_3a443a51-fc4b-4de4-b145-2ae6c721bf3f/data/00000-95-c035041d-a256-442a-8370-f464e6b18696-0-00001.parquet, PARQUET, 0, 28, 4002, {1 -> 147, 2 -> 72, 3 -> 167, 4 -> 167, 5 -> 79, 6 -> 272, 7 -> 82, 8 -> 76, 9 -> 93, 10 -> 178, 11 -> 114}, {1 -> 28, 2 -> 28, 3 -> 28, 4 -> 28, 5 -> 28, 6 -> 28, 7 -> 28, 8 -> 28, 9 -> 28, 10 -> 28, 11 -> 28}, {1 -> 0, 2 -> 0, 3 -> 0, 4 -> 0, 5 -> 0, 6 -> 0, 7 -> 0, 8 -> 0, 9 -> 0, 10 -> 0, 11 -> 0}, {}, {1 -> [31 33 30 38 33 35 36], 2 -> [31], 3 -> [31 30 35 32 36 30 38 30 30], 4 -> [31 30 35 32 36 30 38 30 30], 5 -> [41 63 63 6F 75 6E 74], 6 -> [43 41 4F 20 48 4F 20 2A 2A 2A 20 4F 4E 47], 7 -> [46], 8 -> [31 30 30 30 31], 9 -> [41 43 54 56 45], 10 -> [31 30 30 33], 11 -> [BF 2E 00 00]}, {1 -> [39 35 38 39 33 35], 2 -> [31], 3 -> [31 31 39 39 36 37 34 32 38], 4 -> [31 31 39 39 36 37 34 32 38], 5 -> [41 63 63 6F 75 6E 74], 6 -> [56 4F 20 50 48 55 20 2A 2A 2A 20 4F 4E 47], 7 -> [4D], 8 -> [31 30 30 30 31], 9 -> [49 4E 41 43 54 49 56 45], 10 -> [32 32 30 31], 11 -> [F9 46 00 00]}, NULL, [4], NULL, 0}|{{147, 28, 0, NULL, 1308356, 958935}, {72, 28, 0, NULL, 1, 1}, {167, 28, 0, NULL, 105260800, 119967428}, {76, 28, 0, NULL, 10001, 10001}, {82, 28, 0, NULL, F, M}, {272, 28, 0, NULL, CAO HO *** ONG, VO PHU *** ONG}, {167, 28, 0, NULL, 105260800, 119967428}, {79, 28, 0, NULL, Account, Account}, {178, 28, 0, NULL, 1003, 2201}, {114, 28, 0, NULL, 2002-10-07, 2019-09-30}, {93, 28, 0, NULL, ACTVE, INACTIVE}}|\n",
      "|2     |7114774514001334108|3              |3                   |{0, s3a://standardize/lamtran/customer_3a443a51-fc4b-4de4-b145-2ae6c721bf3f/data/00000-95-c035041d-a256-442a-8370-f464e6b18696-0-00001.parquet, PARQUET, 0, 28, 4002, {1 -> 147, 2 -> 72, 3 -> 167, 4 -> 167, 5 -> 79, 6 -> 272, 7 -> 82, 8 -> 76, 9 -> 93, 10 -> 178, 11 -> 114}, {1 -> 28, 2 -> 28, 3 -> 28, 4 -> 28, 5 -> 28, 6 -> 28, 7 -> 28, 8 -> 28, 9 -> 28, 10 -> 28, 11 -> 28}, {1 -> 0, 2 -> 0, 3 -> 0, 4 -> 0, 5 -> 0, 6 -> 0, 7 -> 0, 8 -> 0, 9 -> 0, 10 -> 0, 11 -> 0}, {}, {1 -> [31 33 30 38 33 35 36], 2 -> [31], 3 -> [31 30 35 32 36 30 38 30 30], 4 -> [31 30 35 32 36 30 38 30 30], 5 -> [41 63 63 6F 75 6E 74], 6 -> [43 41 4F 20 48 4F 20 2A 2A 2A 20 4F 4E 47], 7 -> [46], 8 -> [31 30 30 30 31], 9 -> [41 43 54 56 45], 10 -> [31 30 30 33], 11 -> [BF 2E 00 00]}, {1 -> [39 35 38 39 33 35], 2 -> [31], 3 -> [31 31 39 39 36 37 34 32 38], 4 -> [31 31 39 39 36 37 34 32 38], 5 -> [41 63 63 6F 75 6E 74], 6 -> [56 4F 20 50 48 55 20 2A 2A 2A 20 4F 4E 47], 7 -> [4D], 8 -> [31 30 30 30 31], 9 -> [49 4E 41 43 54 49 56 45], 10 -> [32 32 30 31], 11 -> [F9 46 00 00]}, NULL, [4], NULL, 0}|{{147, 28, 0, NULL, 1308356, 958935}, {72, 28, 0, NULL, 1, 1}, {167, 28, 0, NULL, 105260800, 119967428}, {76, 28, 0, NULL, 10001, 10001}, {82, 28, 0, NULL, F, M}, {272, 28, 0, NULL, CAO HO *** ONG, VO PHU *** ONG}, {167, 28, 0, NULL, 105260800, 119967428}, {79, 28, 0, NULL, Account, Account}, {178, 28, 0, NULL, 1003, 2201}, {114, 28, 0, NULL, 2002-10-07, 2019-09-30}, {93, 28, 0, NULL, ACTVE, INACTIVE}}|\n",
      "|1     |1288987108754526709|2              |2                   |{0, s3a://standardize/lamtran/customer_3a443a51-fc4b-4de4-b145-2ae6c721bf3f/data/00000-91-c0b8bbe1-6ae3-4832-b6ca-f528ae84ec19-0-00001.parquet, PARQUET, 0, 1, 2947, {1 -> 38, 2 -> 37, 3 -> 45, 4 -> 45, 5 -> 43, 6 -> 44, 7 -> 37, 8 -> 40, 9 -> 41, 10 -> 40, 11 -> 42}, {1 -> 1, 2 -> 1, 3 -> 1, 4 -> 1, 5 -> 1, 6 -> 1, 7 -> 1, 8 -> 1, 9 -> 1, 10 -> 1, 11 -> 1}, {1 -> 0, 2 -> 0, 3 -> 0, 4 -> 0, 5 -> 0, 6 -> 0, 7 -> 0, 8 -> 0, 9 -> 0, 10 -> 0, 11 -> 0}, {}, {1 -> [38 30], 2 -> [32], 3 -> [31 32 33 34 35 36 37 38 39], 4 -> [31 32 33 34 35 36 37 38 39], 5 -> [41 63 63 6F 75 6E 74], 6 -> [48 41 48 41 48 49 48 49], 7 -> [4D], 8 -> [31 30 30 30 31], 9 -> [41 43 54 56 45], 10 -> [31 35 30 30], 11 -> [11 4D 00 00]}, {1 -> [38 30], 2 -> [32], 3 -> [31 32 33 34 35 36 37 38 39], 4 -> [31 32 33 34 35 36 37 38 39], 5 -> [41 63 63 6F 75 6E 74], 6 -> [48 41 48 41 48 49 48 49], 7 -> [4D], 8 -> [31 30 30 30 31], 9 -> [41 43 54 56 45], 10 -> [31 35 30 30], 11 -> [11 4D 00 00]}, NULL, [4], NULL, 0}                                                                                          |{{38, 1, 0, NULL, 80, 80}, {37, 1, 0, NULL, 2, 2}, {45, 1, 0, NULL, 123456789, 123456789}, {40, 1, 0, NULL, 10001, 10001}, {37, 1, 0, NULL, M, M}, {44, 1, 0, NULL, HAHAHIHI, HAHAHIHI}, {45, 1, 0, NULL, 123456789, 123456789}, {43, 1, 0, NULL, Account, Account}, {40, 1, 0, NULL, 1500, 1500}, {42, 1, 0, NULL, 2024-01-07, 2024-01-07}, {41, 1, 0, NULL, ACTVE, ACTVE}}                                         |\n",
      "|1     |6913384981637447512|5              |5                   |{0, s3a://standardize/lamtran_newlocation/data/00000-103-04d902c5-e4dc-437b-90f5-2ed47dff27fd-0-00001.parquet, PARQUET, 0, 27, 3995, {1 -> 145, 2 -> 72, 3 -> 165, 4 -> 165, 5 -> 79, 6 -> 273, 7 -> 82, 8 -> 76, 9 -> 93, 10 -> 178, 11 -> 112}, {1 -> 27, 2 -> 27, 3 -> 27, 4 -> 27, 5 -> 27, 6 -> 27, 7 -> 27, 8 -> 27, 9 -> 27, 10 -> 27, 11 -> 27}, {1 -> 0, 2 -> 0, 3 -> 0, 4 -> 0, 5 -> 0, 6 -> 0, 7 -> 0, 8 -> 0, 9 -> 0, 10 -> 0, 11 -> 0}, {}, {1 -> [31 33 30 38 33 35 36], 2 -> [31], 3 -> [31 30 35 32 36 30 38 30 30], 4 -> [31 30 35 32 36 30 38 30 30], 5 -> [41 63 63 6F 75 6E 74], 6 -> [43 41 4F 20 48 4F 20 2A 2A 2A 20 4F 4E 47], 7 -> [46], 8 -> [31 30 30 30 31], 9 -> [41 43 54 56 45], 10 -> [31 30 30 33], 11 -> [BF 2E 00 00]}, {1 -> [39 35 38 39 33 35], 2 -> [31], 3 -> [31 31 39 39 36 37 34 32 38], 4 -> [31 31 39 39 36 37 34 32 38], 5 -> [41 63 63 6F 75 6E 74], 6 -> [56 4F 20 50 48 55 20 2A 2A 2A 20 4F 4E 47], 7 -> [4D], 8 -> [31 30 30 30 31], 9 -> [49 4E 41 43 54 49 56 45], 10 -> [32 32 30 31], 11 -> [F9 46 00 00]}, NULL, [4], NULL, 0}                                 |{{145, 27, 0, NULL, 1308356, 958935}, {72, 27, 0, NULL, 1, 1}, {165, 27, 0, NULL, 105260800, 119967428}, {76, 27, 0, NULL, 10001, 10001}, {82, 27, 0, NULL, F, M}, {273, 27, 0, NULL, CAO HO *** ONG, VO PHU *** ONG}, {165, 27, 0, NULL, 105260800, 119967428}, {79, 27, 0, NULL, Account, Account}, {178, 27, 0, NULL, 1003, 2201}, {112, 27, 0, NULL, 2002-10-07, 2019-09-30}, {93, 27, 0, NULL, ACTVE, INACTIVE}}|\n",
      "|1     |3363876608955524645|1              |1                   |{0, s3a://standardize/lamtran/customer_3a443a51-fc4b-4de4-b145-2ae6c721bf3f/data/00000-87-50a7c372-ca8d-4e0b-a3b0-6f26aa8a40eb-0-00001.parquet, PARQUET, 0, 28, 3990, {1 -> 147, 2 -> 72, 3 -> 167, 4 -> 167, 5 -> 79, 6 -> 269, 7 -> 82, 8 -> 76, 9 -> 77, 10 -> 178, 11 -> 114}, {1 -> 28, 2 -> 28, 3 -> 28, 4 -> 28, 5 -> 28, 6 -> 28, 7 -> 28, 8 -> 28, 9 -> 28, 10 -> 28, 11 -> 28}, {1 -> 0, 2 -> 0, 3 -> 0, 4 -> 0, 5 -> 0, 6 -> 0, 7 -> 0, 8 -> 0, 9 -> 0, 10 -> 0, 11 -> 0}, {}, {1 -> [31 33 30 38 33 35 36], 2 -> [31], 3 -> [31 30 35 32 36 30 38 30 30], 4 -> [31 30 35 32 36 30 38 30 30], 5 -> [41 63 63 6F 75 6E 74], 6 -> [43 41 4F 20 48 4F 20 2A 2A 2A 20 4F 4E 47], 7 -> [46], 8 -> [31 30 30 30 31], 9 -> [41 43 54 56 45], 10 -> [31 30 30 33], 11 -> [BF 2E 00 00]}, {1 -> [39 35 38 39 33 35], 2 -> [31], 3 -> [31 31 39 39 36 37 34 32 38], 4 -> [31 31 39 39 36 37 34 32 38], 5 -> [41 63 63 6F 75 6E 74], 6 -> [56 4F 20 50 48 55 20 2A 2A 2A 20 4F 4E 47], 7 -> [4D], 8 -> [31 30 30 30 31], 9 -> [41 43 54 56 45], 10 -> [32 32 30 31], 11 -> [F9 46 00 00]}, NULL, [4], NULL, 0}         |{{147, 28, 0, NULL, 1308356, 958935}, {72, 28, 0, NULL, 1, 1}, {167, 28, 0, NULL, 105260800, 119967428}, {76, 28, 0, NULL, 10001, 10001}, {82, 28, 0, NULL, F, M}, {269, 28, 0, NULL, CAO HO *** ONG, VO PHU *** ONG}, {167, 28, 0, NULL, 105260800, 119967428}, {79, 28, 0, NULL, Account, Account}, {178, 28, 0, NULL, 1003, 2201}, {114, 28, 0, NULL, 2002-10-07, 2019-09-30}, {77, 28, 0, NULL, ACTVE, ACTVE}}   |\n",
      "|1     |7114774514001334108|4              |4                   |{0, s3a://standardize/lamtran/customer_3a443a51-fc4b-4de4-b145-2ae6c721bf3f/data/00000-99-87bdef5b-e016-4368-98f6-63a3d40dce74-0-00001.parquet, PARQUET, 0, 27, 3992, {1 -> 145, 2 -> 72, 3 -> 165, 4 -> 165, 5 -> 79, 6 -> 270, 7 -> 82, 8 -> 76, 9 -> 93, 10 -> 178, 11 -> 112}, {1 -> 27, 2 -> 27, 3 -> 27, 4 -> 27, 5 -> 27, 6 -> 27, 7 -> 27, 8 -> 27, 9 -> 27, 10 -> 27, 11 -> 27}, {1 -> 0, 2 -> 0, 3 -> 0, 4 -> 0, 5 -> 0, 6 -> 0, 7 -> 0, 8 -> 0, 9 -> 0, 10 -> 0, 11 -> 0}, {}, {1 -> [31 33 30 38 33 35 36], 2 -> [31], 3 -> [31 30 35 32 36 30 38 30 30], 4 -> [31 30 35 32 36 30 38 30 30], 5 -> [41 63 63 6F 75 6E 74], 6 -> [43 41 4F 20 48 4F 20 2A 2A 2A 20 4F 4E 47], 7 -> [46], 8 -> [31 30 30 30 31], 9 -> [41 43 54 56 45], 10 -> [31 30 30 33], 11 -> [BF 2E 00 00]}, {1 -> [39 35 38 39 33 35], 2 -> [31], 3 -> [31 31 39 39 36 37 34 32 38], 4 -> [31 31 39 39 36 37 34 32 38], 5 -> [41 63 63 6F 75 6E 74], 6 -> [56 4F 20 50 48 55 20 2A 2A 2A 20 4F 4E 47], 7 -> [4D], 8 -> [31 30 30 30 31], 9 -> [49 4E 41 43 54 49 56 45], 10 -> [32 32 30 31], 11 -> [F9 46 00 00]}, NULL, [4], NULL, 0}|{{145, 27, 0, NULL, 1308356, 958935}, {72, 27, 0, NULL, 1, 1}, {165, 27, 0, NULL, 105260800, 119967428}, {76, 27, 0, NULL, 10001, 10001}, {82, 27, 0, NULL, F, M}, {270, 27, 0, NULL, CAO HO *** ONG, VO PHU *** ONG}, {165, 27, 0, NULL, 105260800, 119967428}, {79, 27, 0, NULL, Account, Account}, {178, 27, 0, NULL, 1003, 2201}, {112, 27, 0, NULL, 2002-10-07, 2019-09-30}, {93, 27, 0, NULL, ACTVE, INACTIVE}}|\n",
      "+------+-------------------+---------------+--------------------+-----------------------------------------------------------------------------------------------------------------------------------------------------------------------------------------------------------------------------------------------------------------------------------------------------------------------------------------------------------------------------------------------------------------------------------------------------------------------------------------------------------------------------------------------------------------------------------------------------------------------------------------------------------------------------------------------------------------------------------------------------------------------------------------------------------------------------------------------------------------------------------------------------------------------------------------------------------------------------------------------------------------------------------------------------------------------------------------------------------------------+---------------------------------------------------------------------------------------------------------------------------------------------------------------------------------------------------------------------------------------------------------------------------------------------------------------------------------------------------------------------------------------------------------------------+\n",
      "\n"
     ]
    }
   ],
   "source": [
    "spark.sql(\"\"\"SELECT * FROM nessie.lamtran.customer.all_entries\"\"\").show(truncate = False)"
   ]
  },
  {
   "cell_type": "code",
   "execution_count": 88,
   "id": "87e775d5-bf3d-4f95-89b0-f0cd9b74bb95",
   "metadata": {},
   "outputs": [
    {
     "name": "stdout",
     "output_type": "stream",
     "text": [
      "+-------+-------------------------------------------------------------------------------------------------------------------------------------------+-----------+-------+------------+------------------+-----------------------------------------------------------------------------------------------------------+-----------------------------------------------------------------------------------------------------+------------------------------------------------------------------------------------------+----------------+------------------------------------------------------------------------------------------------------------------------------------------------------------------------------------------------------------------------------------------------------------------------------------------------+------------------------------------------------------------------------------------------------------------------------------------------------------------------------------------------------------------------------------------------------------------------------------------------------------+------------+-------------+------------+-------------+---------------------------------------------------------------------------------------------------------------------------------------------------------------------------------------------------------------------------------------------------------------------------------------------------------------------------------------------------------------------------------------------------------------------+\n",
      "|content|file_path                                                                                                                                  |file_format|spec_id|record_count|file_size_in_bytes|column_sizes                                                                                               |value_counts                                                                                         |null_value_counts                                                                         |nan_value_counts|lower_bounds                                                                                                                                                                                                                                                                                    |upper_bounds                                                                                                                                                                                                                                                                                          |key_metadata|split_offsets|equality_ids|sort_order_id|readable_metrics                                                                                                                                                                                                                                                                                                                                                                                                     |\n",
      "+-------+-------------------------------------------------------------------------------------------------------------------------------------------+-----------+-------+------------+------------------+-----------------------------------------------------------------------------------------------------------+-----------------------------------------------------------------------------------------------------+------------------------------------------------------------------------------------------+----------------+------------------------------------------------------------------------------------------------------------------------------------------------------------------------------------------------------------------------------------------------------------------------------------------------+------------------------------------------------------------------------------------------------------------------------------------------------------------------------------------------------------------------------------------------------------------------------------------------------------+------------+-------------+------------+-------------+---------------------------------------------------------------------------------------------------------------------------------------------------------------------------------------------------------------------------------------------------------------------------------------------------------------------------------------------------------------------------------------------------------------------+\n",
      "|0      |s3a://standardize/lamtran/customer_3a443a51-fc4b-4de4-b145-2ae6c721bf3f/data/00000-104-b22bdf82-8518-4401-99de-18bf69f9d163-0-00001.parquet|PARQUET    |0      |1           |3003              |{1 -> 39, 2 -> 37, 3 -> 45, 4 -> 45, 5 -> 43, 6 -> 51, 7 -> 37, 8 -> 40, 9 -> 41, 10 -> 40, 11 -> 42}      |{1 -> 1, 2 -> 1, 3 -> 1, 4 -> 1, 5 -> 1, 6 -> 1, 7 -> 1, 8 -> 1, 9 -> 1, 10 -> 1, 11 -> 1}           |{1 -> 0, 2 -> 0, 3 -> 0, 4 -> 0, 5 -> 0, 6 -> 0, 7 -> 0, 8 -> 0, 9 -> 0, 10 -> 0, 11 -> 0}|{}              |{1 -> [31 30 30], 2 -> [32], 3 -> [31 32 33 34 35 36 37 38 39], 4 -> [31 32 33 34 35 36 37 38 39], 5 -> [41 63 63 6F 75 6E 74], 6 -> [48 4F 41 4E 47 20 54 48 49 20 48 55 4F 4E 47], 7 -> [4D], 8 -> [31 30 30 30 31], 9 -> [41 43 54 56 45], 10 -> [31 35 30 30], 11 -> [18 4D 00 00]}         |{1 -> [31 30 30], 2 -> [32], 3 -> [31 32 33 34 35 36 37 38 39], 4 -> [31 32 33 34 35 36 37 38 39], 5 -> [41 63 63 6F 75 6E 74], 6 -> [48 4F 41 4E 47 20 54 48 49 20 48 55 4F 4E 47], 7 -> [4D], 8 -> [31 30 30 30 31], 9 -> [41 43 54 56 45], 10 -> [31 35 30 30], 11 -> [18 4D 00 00]}               |NULL        |[4]          |NULL        |0            |{{39, 1, 0, NULL, 100, 100}, {37, 1, 0, NULL, 2, 2}, {45, 1, 0, NULL, 123456789, 123456789}, {40, 1, 0, NULL, 10001, 10001}, {37, 1, 0, NULL, M, M}, {51, 1, 0, NULL, HOANG THI HUONG, HOANG THI HUONG}, {45, 1, 0, NULL, 123456789, 123456789}, {43, 1, 0, NULL, Account, Account}, {40, 1, 0, NULL, 1500, 1500}, {42, 1, 0, NULL, 2024-01-14, 2024-01-14}, {41, 1, 0, NULL, ACTVE, ACTVE}}                         |\n",
      "|0      |s3a://standardize/lamtran/customer_3a443a51-fc4b-4de4-b145-2ae6c721bf3f/data/00000-103-04d902c5-e4dc-437b-90f5-2ed47dff27fd-0-00001.parquet|PARQUET    |0      |27          |3995              |{1 -> 145, 2 -> 72, 3 -> 165, 4 -> 165, 5 -> 79, 6 -> 273, 7 -> 82, 8 -> 76, 9 -> 93, 10 -> 178, 11 -> 112}|{1 -> 27, 2 -> 27, 3 -> 27, 4 -> 27, 5 -> 27, 6 -> 27, 7 -> 27, 8 -> 27, 9 -> 27, 10 -> 27, 11 -> 27}|{1 -> 0, 2 -> 0, 3 -> 0, 4 -> 0, 5 -> 0, 6 -> 0, 7 -> 0, 8 -> 0, 9 -> 0, 10 -> 0, 11 -> 0}|{}              |{1 -> [31 33 30 38 33 35 36], 2 -> [31], 3 -> [31 30 35 32 36 30 38 30 30], 4 -> [31 30 35 32 36 30 38 30 30], 5 -> [41 63 63 6F 75 6E 74], 6 -> [43 41 4F 20 48 4F 20 2A 2A 2A 20 4F 4E 47], 7 -> [46], 8 -> [31 30 30 30 31], 9 -> [41 43 54 56 45], 10 -> [31 30 30 33], 11 -> [BF 2E 00 00]}|{1 -> [39 35 38 39 33 35], 2 -> [31], 3 -> [31 31 39 39 36 37 34 32 38], 4 -> [31 31 39 39 36 37 34 32 38], 5 -> [41 63 63 6F 75 6E 74], 6 -> [56 4F 20 50 48 55 20 2A 2A 2A 20 4F 4E 47], 7 -> [4D], 8 -> [31 30 30 30 31], 9 -> [49 4E 41 43 54 49 56 45], 10 -> [32 32 30 31], 11 -> [F9 46 00 00]}|NULL        |[4]          |NULL        |0            |{{145, 27, 0, NULL, 1308356, 958935}, {72, 27, 0, NULL, 1, 1}, {165, 27, 0, NULL, 105260800, 119967428}, {76, 27, 0, NULL, 10001, 10001}, {82, 27, 0, NULL, F, M}, {273, 27, 0, NULL, CAO HO *** ONG, VO PHU *** ONG}, {165, 27, 0, NULL, 105260800, 119967428}, {79, 27, 0, NULL, Account, Account}, {178, 27, 0, NULL, 1003, 2201}, {112, 27, 0, NULL, 2002-10-07, 2019-09-30}, {93, 27, 0, NULL, ACTVE, INACTIVE}}|\n",
      "|0      |s3a://standardize/lamtran/customer_3a443a51-fc4b-4de4-b145-2ae6c721bf3f/data/00000-91-c0b8bbe1-6ae3-4832-b6ca-f528ae84ec19-0-00001.parquet |PARQUET    |0      |1           |2947              |{1 -> 38, 2 -> 37, 3 -> 45, 4 -> 45, 5 -> 43, 6 -> 44, 7 -> 37, 8 -> 40, 9 -> 41, 10 -> 40, 11 -> 42}      |{1 -> 1, 2 -> 1, 3 -> 1, 4 -> 1, 5 -> 1, 6 -> 1, 7 -> 1, 8 -> 1, 9 -> 1, 10 -> 1, 11 -> 1}           |{1 -> 0, 2 -> 0, 3 -> 0, 4 -> 0, 5 -> 0, 6 -> 0, 7 -> 0, 8 -> 0, 9 -> 0, 10 -> 0, 11 -> 0}|{}              |{1 -> [38 30], 2 -> [32], 3 -> [31 32 33 34 35 36 37 38 39], 4 -> [31 32 33 34 35 36 37 38 39], 5 -> [41 63 63 6F 75 6E 74], 6 -> [48 41 48 41 48 49 48 49], 7 -> [4D], 8 -> [31 30 30 30 31], 9 -> [41 43 54 56 45], 10 -> [31 35 30 30], 11 -> [11 4D 00 00]}                                 |{1 -> [38 30], 2 -> [32], 3 -> [31 32 33 34 35 36 37 38 39], 4 -> [31 32 33 34 35 36 37 38 39], 5 -> [41 63 63 6F 75 6E 74], 6 -> [48 41 48 41 48 49 48 49], 7 -> [4D], 8 -> [31 30 30 30 31], 9 -> [41 43 54 56 45], 10 -> [31 35 30 30], 11 -> [11 4D 00 00]}                                       |NULL        |[4]          |NULL        |0            |{{38, 1, 0, NULL, 80, 80}, {37, 1, 0, NULL, 2, 2}, {45, 1, 0, NULL, 123456789, 123456789}, {40, 1, 0, NULL, 10001, 10001}, {37, 1, 0, NULL, M, M}, {44, 1, 0, NULL, HAHAHIHI, HAHAHIHI}, {45, 1, 0, NULL, 123456789, 123456789}, {43, 1, 0, NULL, Account, Account}, {40, 1, 0, NULL, 1500, 1500}, {42, 1, 0, NULL, 2024-01-07, 2024-01-07}, {41, 1, 0, NULL, ACTVE, ACTVE}}                                         |\n",
      "+-------+-------------------------------------------------------------------------------------------------------------------------------------------+-----------+-------+------------+------------------+-----------------------------------------------------------------------------------------------------------+-----------------------------------------------------------------------------------------------------+------------------------------------------------------------------------------------------+----------------+------------------------------------------------------------------------------------------------------------------------------------------------------------------------------------------------------------------------------------------------------------------------------------------------+------------------------------------------------------------------------------------------------------------------------------------------------------------------------------------------------------------------------------------------------------------------------------------------------------+------------+-------------+------------+-------------+---------------------------------------------------------------------------------------------------------------------------------------------------------------------------------------------------------------------------------------------------------------------------------------------------------------------------------------------------------------------------------------------------------------------+\n",
      "\n"
     ]
    }
   ],
   "source": [
    "spark.sql(\"\"\"SELECT * FROM nessie.lamtran.customer.all_files\"\"\").show(truncate = False)"
   ]
  },
  {
   "cell_type": "markdown",
   "id": "a3835193-225e-4bfb-b5e1-33032802f1ea",
   "metadata": {},
   "source": [
    "### Get snapshot information on timestamp "
   ]
  },
  {
   "cell_type": "code",
   "execution_count": 119,
   "id": "dd9ec27b-5378-414f-9efa-7e5bbe652425",
   "metadata": {},
   "outputs": [],
   "source": [
    "import pandas as pd\n",
    "def get_snapshots_by_date(\n",
    "    spark: SparkSession,\n",
    "    base_table: str,\n",
    "    fromDate: str,  # Expected format: \"YYYY-MM-DD HH:MM:SS\"\n",
    "    toDate: str  # Expected format: \"YYYY-MM-DD HH:MM:SS\"\n",
    ") -> pd.DataFrame:\n",
    "\n",
    "\n",
    "    # config date time \n",
    "    # Đặt chính sách xử lý thời gian để tương thích với định dạng cũ\n",
    "    spark.conf.set(\"spark.sql.legacy.timeParserPolicy\", \"LEGACY\")\n",
    "\n",
    "    # Construct table paths for snapshots, manifests, and entries\n",
    "    snapshot_table = f\"{base_table}.snapshots\"\n",
    "    manifests_table = f\"{base_table}.all_manifests\"\n",
    "    entries_table = f\"{base_table}.all_entries\"\n",
    "\n",
    "    # Filter snapshots within the specified date range with timestamp details\n",
    "    snapshots = spark.sql(f\"\"\"\n",
    "        SELECT * FROM {snapshot_table}\n",
    "        WHERE committed_at >= to_timestamp('{fromDate}', 'yyyy-MM-dd HH:mm:ss.SSS') \n",
    "          AND committed_at <= to_timestamp('{toDate}', 'yyyy-MM-dd HH:mm:ss.SSS')\n",
    "    \"\"\").collect()\n",
    "\n",
    "    # Prepare a list to store detailed snapshot information\n",
    "    snapshot_data = []\n",
    "\n",
    "    # For each snapshot within the day, gather related metadata\n",
    "    for snap in snapshots:\n",
    "        snapshot_id = snap.snapshot_id\n",
    "        manifest_list_location = snap.manifest_list\n",
    "\n",
    "        # Get manifest files for this snapshot\n",
    "        manifests = spark.sql(f\"\"\"\n",
    "            SELECT * FROM {manifests_table}\n",
    "            WHERE added_snapshot_id = {snapshot_id}\n",
    "        \"\"\").collect()\n",
    "\n",
    "        # Get data files for each manifest\n",
    "        manifest_file_path = []\n",
    "        data_file_paths = []  # Separate list to store file paths\n",
    "\n",
    "        for manifest in manifests:\n",
    "            manifest_entry = {\n",
    "                \"manifest_path\": manifest.path,  # manifest path for the 'manifest' column\n",
    "            }\n",
    "            manifest_file_path.append(manifest_entry)\n",
    "            \n",
    "        # Get related data file entries\n",
    "        entries = spark.sql(f\"\"\"\n",
    "            SELECT * FROM {entries_table}\n",
    "            WHERE snapshot_id = {snapshot_id}\n",
    "        \"\"\").collect()\n",
    "\n",
    "        # Extract data file paths and store in the separate list\n",
    "        for entry in entries:\n",
    "            data_file_paths.append(entry.data_file[1])  # Append each data_file_path\n",
    "\n",
    "        # Convert Row object to dictionary and handle datetime conversion\n",
    "        snap_dict = snap.asDict()\n",
    "        \n",
    "        # Append the full data for this snapshot\n",
    "        snapshot_data.append({\n",
    "            \"snapshot_id\": snapshot_id,\n",
    "            \"committed_at\": snap_dict.get(\"committed_at\"),\n",
    "            \"operation\": snap_dict.get(\"operation\"),\n",
    "            \"manifest_list\": manifest_list_location,\n",
    "            \"manifest_file_path\": [manifest['manifest_path'] for manifest in manifest_file_path],  # This column will contain manifest_path\n",
    "            \"data_path\": data_file_paths  # This column will contain the data_file_path\n",
    "        })\n",
    "\n",
    "    # Convert snapshot data into a DataFrame for table-like display\n",
    "    df = pd.DataFrame(snapshot_data)\n",
    "    \n",
    "    # Return the updated DataFrame\n",
    "    return df"
   ]
  },
  {
   "cell_type": "code",
   "execution_count": 85,
   "id": "123e3243-1e5b-4352-816b-88233550e706",
   "metadata": {},
   "outputs": [
    {
     "name": "stdout",
     "output_type": "stream",
     "text": [
      "+--------------------+-------------------+-------------------+---------+--------------------+--------------------+\n",
      "|        committed_at|        snapshot_id|          parent_id|operation|       manifest_list|             summary|\n",
      "+--------------------+-------------------+-------------------+---------+--------------------+--------------------+\n",
      "|2024-11-20 04:30:...|7114774514001334108|8245947571210554019|overwrite|s3a://standardize...|{spark.app.id -> ...|\n",
      "|2024-11-20 04:31:...|6913384981637447512|7114774514001334108|overwrite|s3a://standardize...|{spark.app.id -> ...|\n",
      "|2024-11-20 04:32:...|2674580199128993375|6913384981637447512|   append|s3a://standardize...|{spark.app.id -> ...|\n",
      "+--------------------+-------------------+-------------------+---------+--------------------+--------------------+\n",
      "\n"
     ]
    }
   ],
   "source": [
    "snapshots = spark.sql(f\"\"\"\n",
    "    SELECT * FROM nessie.lamtran.customer.snapshots\n",
    "    WHERE committed_at > to_timestamp('2024-11-20 04:30:01.468', 'yyyy-MM-dd HH:mm:ss.SSS') \n",
    "      AND committed_at < to_timestamp('2024-11-20 04:32:58.397', 'yyyy-MM-dd HH:mm:ss.SSS')\n",
    "\"\"\")\n",
    "snapshots.show()"
   ]
  },
  {
   "cell_type": "code",
   "execution_count": 120,
   "id": "eb66c309-af84-4d19-86ab-325b49ac8833",
   "metadata": {
    "scrolled": true
   },
   "outputs": [
    {
     "name": "stdout",
     "output_type": "stream",
     "text": [
      "           snapshot_id            committed_at  operation  \\\n",
      "0  7114774514001334108 2024-11-20 04:30:31.468  overwrite   \n",
      "1  6913384981637447512 2024-11-20 04:31:11.113  overwrite   \n",
      "2  2674580199128993375 2024-11-20 04:32:07.397     append   \n",
      "\n",
      "                                                                                                                                           manifest_list  \\\n",
      "0  s3a://standardize/lamtran/customer_3a443a51-fc4b-4de4-b145-2ae6c721bf3f/metadata/snap-7114774514001334108-1-511e7e3c-16b5-468b-9cb7-9ec142251634.avro   \n",
      "1  s3a://standardize/lamtran/customer_3a443a51-fc4b-4de4-b145-2ae6c721bf3f/metadata/snap-6913384981637447512-1-86a4a8c5-7e63-4764-9bdc-c6ef628e81ec.avro   \n",
      "2  s3a://standardize/lamtran/customer_3a443a51-fc4b-4de4-b145-2ae6c721bf3f/metadata/snap-2674580199128993375-1-cdeab601-452a-4711-8b55-62f1413b60c9.avro   \n",
      "\n",
      "                                                                                                                                                                                                                                                                                                                                                                              manifest_file_path  \\\n",
      "0                                                                                                                                 [s3a://standardize/lamtran/customer_3a443a51-fc4b-4de4-b145-2ae6c721bf3f/metadata/511e7e3c-16b5-468b-9cb7-9ec142251634-m1.avro, s3a://standardize/lamtran/customer_3a443a51-fc4b-4de4-b145-2ae6c721bf3f/metadata/511e7e3c-16b5-468b-9cb7-9ec142251634-m0.avro]   \n",
      "1  [s3a://standardize/lamtran/customer_3a443a51-fc4b-4de4-b145-2ae6c721bf3f/metadata/86a4a8c5-7e63-4764-9bdc-c6ef628e81ec-m1.avro, s3a://standardize/lamtran/customer_3a443a51-fc4b-4de4-b145-2ae6c721bf3f/metadata/86a4a8c5-7e63-4764-9bdc-c6ef628e81ec-m0.avro, s3a://standardize/lamtran/customer_3a443a51-fc4b-4de4-b145-2ae6c721bf3f/metadata/86a4a8c5-7e63-4764-9bdc-c6ef628e81ec-m1.avro]   \n",
      "2                                                                                                                                                                                                                                                                [s3a://standardize/lamtran/customer_3a443a51-fc4b-4de4-b145-2ae6c721bf3f/metadata/cdeab601-452a-4711-8b55-62f1413b60c9-m0.avro]   \n",
      "\n",
      "                                                                                                                                                                                                                                                                                                                                                                                                                                                                                                                                                                                                                                                                                                                                                               data_path  \n",
      "0                                                                                                                                                                                       [s3a://standardize/lamtran/customer_3a443a51-fc4b-4de4-b145-2ae6c721bf3f/data/00000-95-c035041d-a256-442a-8370-f464e6b18696-0-00001.parquet, s3a://standardize/lamtran/customer_3a443a51-fc4b-4de4-b145-2ae6c721bf3f/data/00000-99-87bdef5b-e016-4368-98f6-63a3d40dce74-0-00001.parquet, s3a://standardize/lamtran/customer_3a443a51-fc4b-4de4-b145-2ae6c721bf3f/data/00000-95-c035041d-a256-442a-8370-f464e6b18696-0-00001.parquet, s3a://standardize/lamtran/customer_3a443a51-fc4b-4de4-b145-2ae6c721bf3f/data/00000-99-87bdef5b-e016-4368-98f6-63a3d40dce74-0-00001.parquet]  \n",
      "1  [s3a://standardize/lamtran/customer_3a443a51-fc4b-4de4-b145-2ae6c721bf3f/data/00000-99-87bdef5b-e016-4368-98f6-63a3d40dce74-0-00001.parquet, s3a://standardize/lamtran_newlocation/data/00000-103-04d902c5-e4dc-437b-90f5-2ed47dff27fd-0-00001.parquet, s3a://standardize/lamtran/customer_3a443a51-fc4b-4de4-b145-2ae6c721bf3f/data/00000-99-87bdef5b-e016-4368-98f6-63a3d40dce74-0-00001.parquet, s3a://standardize/lamtran_newlocation/data/00000-103-04d902c5-e4dc-437b-90f5-2ed47dff27fd-0-00001.parquet, s3a://standardize/lamtran/customer_3a443a51-fc4b-4de4-b145-2ae6c721bf3f/data/00000-99-87bdef5b-e016-4368-98f6-63a3d40dce74-0-00001.parquet, s3a://standardize/lamtran_newlocation/data/00000-103-04d902c5-e4dc-437b-90f5-2ed47dff27fd-0-00001.parquet]  \n",
      "2                                                                                                                                                                                                                                                                                                                                                                                                                                                                                                                                                                                                                                                            [s3a://standardize/lamtran_newlocation/data/00000-104-b22bdf82-8518-4401-99de-18bf69f9d163-0-00001.parquet]  \n"
     ]
    }
   ],
   "source": [
    "df = get_snapshots_by_date(spark, \"nessie.lamtran.customer\", \"2024-11-20 04:30:21.468\",\"2024-11-20 04:32:58.397\")\n",
    "\n",
    "with pd.option_context('display.max_rows', None, 'display.max_columns', None, 'display.max_colwidth', None):\n",
    "    print(df)\n",
    "\n",
    "# df.to_csv('out_test.csv', index=False) "
   ]
  },
  {
   "cell_type": "markdown",
   "id": "caf76b61-793b-461b-8049-bf23bfca37ad",
   "metadata": {},
   "source": [
    "### Move file and test full snapshot"
   ]
  },
  {
   "cell_type": "code",
   "execution_count": 32,
   "id": "f56254d0-556e-41d3-b557-2a8f6553a586",
   "metadata": {},
   "outputs": [],
   "source": [
    "from pyspark.sql.functions import to_date, when\n",
    "from urllib.parse import urlparse\n",
    "import boto3\n",
    "from botocore.exceptions import ClientError\n",
    "from py4j.protocol import Py4JJavaError\n",
    "from datetime import datetime, timedelta\n",
    "import pytz\n",
    "import time\n",
    "import shutil\n",
    "import re\n",
    "from typing import List, Dict\n",
    "import pandas as pd\n",
    "import fastavro\n",
    "import logging\n",
    "from pathlib import Path\n",
    "import io\n",
    "from typing import Tuple\n",
    "import pyarrow.parquet as pq"
   ]
  },
  {
   "cell_type": "code",
   "execution_count": 33,
   "id": "bad3fcb0-ead8-428a-b251-4779fa24bb23",
   "metadata": {},
   "outputs": [],
   "source": [
    "###################################################### GENERATE CLEANER PATH ########################################################################\n",
    "# generate Clean path\n",
    "def parse_s3_path(s3_path: str) -> tuple:\n",
    "    \"\"\"Parse an S3 path into bucket and key components.\"\"\"\n",
    "    parsed = urlparse(s3_path)\n",
    "    if parsed.scheme not in [\"s3\", \"s3a\"]:\n",
    "        raise ValueError(f\"Expected s3:// or s3a:// path, got {parsed.scheme}://\")\n",
    "    bucket = parsed.netloc\n",
    "    # Remove leading slash\n",
    "    key = parsed.path.lstrip('/')\n",
    "    return bucket, key\n",
    "\n",
    "def clean_s3_path(path: str) -> str:\n",
    "    \"\"\"\n",
    "    Cleans and normalizes S3 paths to ensure consistent format.\n",
    "    Removes any '..' or '.' path components that cause MinIO errors.\n",
    "    \"\"\"\n",
    "    # Convert s3a:// to s3:// for consistency\n",
    "    path = path.replace('s3a://', 's3a://')\n",
    "    \n",
    "    # Split into components\n",
    "    parsed = urlparse(path)\n",
    "    if parsed.scheme != 's3a':\n",
    "        raise ValueError(f\"Expected s3:// path, got {parsed.scheme}://\")\n",
    "    \n",
    "    # Clean the path components\n",
    "    path_parts = [part for part in parsed.path.split('/') if part and part not in ('.', '..')]\n",
    "    clean_path = '/'.join(path_parts)\n",
    "    \n",
    "    # Reconstruct the full path\n",
    "    return f\"s3a://{parsed.netloc}/{clean_path}\"\n",
    "\n",
    "def generate_target_path(source_path: str, source_base: str, target_base: str, is_data: bool = True) -> str:\n",
    "    \"\"\"\n",
    "    Generates a new target path maintaining the relative structure and placing in correct subdirectory.\n",
    "    \n",
    "    Args:\n",
    "        source_path: Original file path\n",
    "        source_base: Base directory of source files\n",
    "        target_base: Target base directory\n",
    "        is_data: If True, file goes in /data, if False, goes in /metadata\n",
    "    \"\"\"\n",
    "    # Clean and normalize all paths\n",
    "    source_path = clean_s3_path(source_path)\n",
    "    source_base = clean_s3_path(source_base)\n",
    "    target_base = clean_s3_path(target_base)\n",
    "    \n",
    "    # Get the filename\n",
    "    filename = os.path.basename(source_path)\n",
    "    \n",
    "    # Determine the appropriate subdirectory\n",
    "    subdir = 'data' if is_data else 'metadata'\n",
    "    \n",
    "    # Construct the new path\n",
    "    return os.path.join(target_base, subdir, filename)\n",
    "\n",
    "###################################################### CODE TO HANDLE CHANGE IN METADATA AND MOVE TABLE ##############################################\n",
    "\n",
    "# Update\n",
    "def is_delete_file(file_path: str) -> bool:\n",
    "    \"\"\"Check if the file is a delete file.\"\"\"\n",
    "    return file_path.endswith('-deletes.parquet')\n",
    "\n",
    "def update_manifest_metadata_s3(\n",
    "    s3_client,\n",
    "    manifest_file_path: str,\n",
    "    old_paths: List[str],\n",
    "    new_paths: List[str],\n",
    "    snapshot_id: str\n",
    "):\n",
    "    \"\"\"\n",
    "    Update the file locations in manifest Avro files stored in S3 with improved delete handling\n",
    "    \n",
    "    Args:\n",
    "        s3_client: Boto3 S3 client\n",
    "        manifest_file_path: Path to the manifest file (s3:// format)\n",
    "        old_paths: List of original data file paths\n",
    "        new_paths: List of new data file paths\n",
    "        snapshot_id: Snapshot ID to identify relevant entries\n",
    "    \"\"\"\n",
    "    path_mapping = dict(zip(old_paths, new_paths))\n",
    "    bucket, key = parse_s3_path(manifest_file_path)\n",
    "    \n",
    "    # Download the Avro file to memory\n",
    "    response = s3_client.get_object(Bucket=bucket, Key=key)\n",
    "    avro_bytes = response['Body'].read()\n",
    "    \n",
    "    # Read the Avro content\n",
    "    avro_reader = fastavro.reader(io.BytesIO(avro_bytes))\n",
    "    records = list(avro_reader)\n",
    "    schema = avro_reader.writer_schema\n",
    "    \n",
    "    # Update file_location in records\n",
    "    updated_records = []\n",
    "    for record in records:\n",
    "        # Check if this is a delete record\n",
    "        is_delete = False\n",
    "        if 'data_file' in record and 'content' in record['data_file']:\n",
    "            is_delete = record['data_file']['content'] == \"1\"\n",
    "        \n",
    "        # Process records that belong to this snapshot\n",
    "        if 'snapshot_id' in record and str(record['snapshot_id']) == str(snapshot_id):\n",
    "            if 'data_file' in record:\n",
    "                old_file_path = record['data_file'].get('file_path', '')\n",
    "                if old_file_path in path_mapping:\n",
    "                    record['data_file']['file_path'] = path_mapping[old_file_path]\n",
    "                    # Preserve the delete status\n",
    "                    if is_delete:\n",
    "                        record['data_file']['content'] = \"1\"\n",
    "        \n",
    "        updated_records.append(record)\n",
    "    \n",
    "    # Write updated records to a new bytes buffer\n",
    "    output_buffer = io.BytesIO()\n",
    "    fastavro.writer(output_buffer, schema, updated_records)\n",
    "    output_buffer.seek(0)\n",
    "    \n",
    "    # Upload the updated Avro file back to S3\n",
    "    s3_client.put_object(\n",
    "        Bucket=bucket,\n",
    "        Key=key,\n",
    "        Body=output_buffer.getvalue()\n",
    "    )\n",
    "\n",
    "def move_iceberg_data_and_update_metadata_s3(\n",
    "    data_paths: List[str],\n",
    "    manifest_file_paths: List[str],\n",
    "    target_base_dir: str,\n",
    "    aws_access_key_id: str = None,\n",
    "    aws_secret_access_key: str = None,\n",
    "    endpoint_url: str = None,\n",
    "    snapshot_id: int = None\n",
    ") -> bool:\n",
    "    \"\"\"\n",
    "    Move Iceberg data files and update metadata files.\n",
    "    Now properly handles both regular data files and delete files.\n",
    "    \"\"\"\n",
    "    print(\"\\n=== Starting new data movement operation ===\")\n",
    "    print(f\"Snapshot ID: {snapshot_id}\")\n",
    "    print(f\"Target base dir: {target_base_dir}\")\n",
    "    \n",
    "    print(\"\\nData paths to process:\")\n",
    "    for path in data_paths:\n",
    "        print(f\"- {path}\")\n",
    "        \n",
    "    print(\"\\nManifest files to update:\")\n",
    "    for path in manifest_file_paths:\n",
    "        print(f\"- {path}\")\n",
    "    \n",
    "    # Initialize S3 client\n",
    "    s3_client = boto3.client(\n",
    "        's3',\n",
    "        aws_access_key_id=aws_access_key_id,\n",
    "        aws_secret_access_key=aws_secret_access_key,\n",
    "        endpoint_url=endpoint_url\n",
    "    )\n",
    "    \n",
    "    # Separate data files and delete files for processing\n",
    "    data_files = [path for path in data_paths if not is_delete_file(path)]\n",
    "    delete_files = [path for path in data_paths if is_delete_file(path)]\n",
    "    \n",
    "    print(f\"\\nFound {len(data_files)} data files and {len(delete_files)} delete files\")\n",
    "    \n",
    "    # Generate path mappings for both regular and delete files\n",
    "    path_mappings = {}\n",
    "    \n",
    "    print(\"\\nGenerating path mappings:\")\n",
    "    \n",
    "    # Process regular data files\n",
    "    for source_path in data_files:\n",
    "        target_path = generate_target_path(\n",
    "            source_path,\n",
    "            source_base=os.path.commonprefix([clean_s3_path(p) for p in data_paths]),\n",
    "            target_base=target_base_dir,\n",
    "            is_data=True\n",
    "        )\n",
    "        path_mappings[source_path] = target_path\n",
    "        print(\"Regular file mapping:\")\n",
    "        print(f\"From: {source_path}\")\n",
    "        print(f\"To: {target_path}\")\n",
    "        print(\"---\")\n",
    "    \n",
    "    # Process delete files\n",
    "    for source_path in delete_files:\n",
    "        target_path = generate_target_path(\n",
    "            source_path,\n",
    "            source_base=os.path.commonprefix([clean_s3_path(p) for p in data_paths]),\n",
    "            target_base=target_base_dir,\n",
    "            is_data=True  # Keep delete files in the data directory\n",
    "        )\n",
    "        path_mappings[source_path] = target_path\n",
    "        print(\"Delete file mapping:\")\n",
    "        print(f\"From: {source_path}\")\n",
    "        print(f\"To: {target_path}\")\n",
    "        print(\"---\")\n",
    "    \n",
    "    # Move all files (both regular and delete files)\n",
    "    print(\"\\nMoving files:\")\n",
    "    for source_path, target_path in path_mappings.items():\n",
    "        try:\n",
    "            print(\"\\nMoving file:\")\n",
    "            print(f\"From: {source_path}\")\n",
    "            print(f\"To: {target_path}\")\n",
    "            \n",
    "            # Parse paths\n",
    "            source_bucket, source_key = parse_s3_path(source_path)\n",
    "            target_bucket, target_key = parse_s3_path(target_path)\n",
    "            \n",
    "            # Copy file to new location\n",
    "            s3_client.copy_object(\n",
    "                Bucket=target_bucket,\n",
    "                Key=target_key,\n",
    "                CopySource={\n",
    "                    'Bucket': source_bucket,\n",
    "                    'Key': source_key\n",
    "                }\n",
    "            )\n",
    "            \n",
    "            # Delete original file\n",
    "            s3_client.delete_object(\n",
    "                Bucket=source_bucket,\n",
    "                Key=source_key\n",
    "            )\n",
    "            \n",
    "            print(\"Move successful\")\n",
    "            \n",
    "        except Exception as e:\n",
    "            print(f\"Error moving file {source_path}: {str(e)}\")\n",
    "            return False\n",
    "    \n",
    "    # Update manifest files\n",
    "    print(\"\\nUpdating manifest files:\")\n",
    "    \n",
    "    for manifest_path in manifest_file_paths:\n",
    "        try:\n",
    "            print(f\"\\nProcessing manifest: {manifest_path}\")\n",
    "            update_manifest_metadata_s3(\n",
    "                s3_client,\n",
    "                manifest_path,\n",
    "                list(path_mappings.keys()),\n",
    "                list(path_mappings.values()),\n",
    "                snapshot_id\n",
    "            )\n",
    "            \n",
    "        except Exception as e:\n",
    "            print(f\"Error updating manifest {manifest_path}: {str(e)}\")\n",
    "            return False\n",
    "    \n",
    "    print(\"\\nOperation completed successfully\")\n",
    "    return True\n",
    "\n",
    "################################################### HELPER FUNCTION TO CHECK LOG #####################################################################\n",
    "\n",
    "def verify_record_counts(\n",
    "    s3_client,\n",
    "    data_paths: List[str],\n",
    "    operation: str\n",
    ") -> Dict[str, int]:\n",
    "    \"\"\"\n",
    "    Verify record counts in source files before moving.\n",
    "    \n",
    "    Args:\n",
    "        s3_client: Boto3 S3 client\n",
    "        data_paths: List of data file paths\n",
    "        operation: Operation type (append, overwrite)\n",
    "    \n",
    "    Returns:\n",
    "        Dict containing file paths and their record counts\n",
    "    \"\"\"\n",
    "    counts = {}\n",
    "    \n",
    "    for path in data_paths:\n",
    "        try:\n",
    "            # Parse S3 path\n",
    "            bucket, key = parse_s3_path(path)\n",
    "            \n",
    "            # Download parquet file to memory\n",
    "            buffer = io.BytesIO()\n",
    "            s3_client.download_fileobj(bucket, key, buffer)\n",
    "            buffer.seek(0)\n",
    "            \n",
    "            # Read parquet metadata\n",
    "            parquet_file = pq.ParquetFile(buffer)\n",
    "            row_count = parquet_file.metadata.num_rows\n",
    "            \n",
    "            counts[path] = {\n",
    "                'count': row_count,\n",
    "                'is_delete': is_delete_file(path)\n",
    "            }\n",
    "            \n",
    "            print(f\"File: {path}\")\n",
    "            print(f\"Record count: {row_count}\")\n",
    "            print(f\"Is delete file: {is_delete_file(path)}\")\n",
    "            print(\"---\")\n",
    "            \n",
    "        except Exception as e:\n",
    "            print(f\"Error reading {path}: {str(e)}\")\n",
    "            counts[path] = {'count': 0, 'is_delete': is_delete_file(path)}\n",
    "    \n",
    "    return counts\n",
    "\n",
    "def calculate_expected_records(\n",
    "    record_counts: Dict[str, Dict],\n",
    "    operation: str\n",
    ") -> int:\n",
    "    \"\"\"\n",
    "    Calculate expected record count after operation.\n",
    "    \n",
    "    Args:\n",
    "        record_counts: Dict of file paths and their record counts\n",
    "        operation: Operation type (append, overwrite)\n",
    "    \n",
    "    Returns:\n",
    "        Expected record count\n",
    "    \"\"\"\n",
    "    total_records = 0\n",
    "    total_deletes = 0\n",
    "    \n",
    "    for file_info in record_counts.values():\n",
    "        if file_info['is_delete']:\n",
    "            total_deletes += file_info['count']\n",
    "        else:\n",
    "            total_records += file_info['count']\n",
    "    \n",
    "    # Fix: Handle delete-only operations correctly\n",
    "    if operation == 'append':\n",
    "        return total_records\n",
    "    elif operation == 'overwrite':\n",
    "        result = total_records - total_deletes\n",
    "        # Ensure we don't return negative counts\n",
    "        return max(0, result)\n",
    "    else:\n",
    "        raise ValueError(f\"Unknown operation: {operation}\")\n",
    "\n",
    "def move_iceberg_data_with_verification(\n",
    "    data_paths: List[str],\n",
    "    manifest_file_paths: List[str],\n",
    "    target_base_dir: str,\n",
    "    operation: str,\n",
    "    aws_access_key_id: str = None,\n",
    "    aws_secret_access_key: str = None,\n",
    "    endpoint_url: str = None,\n",
    "    snapshot_id: int = None\n",
    ") -> Tuple[bool, Dict]:\n",
    "    print(\"\\n=== Starting enhanced data movement operation ===\")\n",
    "    print(f\"Operation: {operation}\")\n",
    "    print(f\"Snapshot ID: {snapshot_id}\")\n",
    "    \n",
    "    s3_client = boto3.client(\n",
    "        's3',\n",
    "        aws_access_key_id=aws_access_key_id,\n",
    "        aws_secret_access_key=aws_secret_access_key,\n",
    "        endpoint_url=endpoint_url\n",
    "    )\n",
    "    \n",
    "    # Verify source record counts\n",
    "    print(\"\\nVerifying source record counts:\")\n",
    "    source_counts = verify_record_counts(s3_client, data_paths, operation)\n",
    "    expected_records = calculate_expected_records(source_counts, operation)\n",
    "    print(f\"\\nExpected final record count: {expected_records}\")\n",
    "    \n",
    "    # Perform the move operation for both regular and delete files\n",
    "    move_success = move_iceberg_data_and_update_metadata_s3(\n",
    "        data_paths=data_paths,\n",
    "        manifest_file_paths=manifest_file_paths,\n",
    "        target_base_dir=target_base_dir,\n",
    "        aws_access_key_id=aws_access_key_id,\n",
    "        aws_secret_access_key=aws_secret_access_key,\n",
    "        endpoint_url=endpoint_url,\n",
    "        snapshot_id=snapshot_id\n",
    "    )\n",
    "    \n",
    "    if not move_success:\n",
    "        return False, {\n",
    "            'source_counts': source_counts,\n",
    "            'expected_records': expected_records,\n",
    "            'actual_records': None,\n",
    "            'success': False\n",
    "        }\n",
    "    \n",
    "    # Verify target record counts (including delete files)\n",
    "    print(\"\\nVerifying target record counts:\")\n",
    "    target_paths = [\n",
    "        generate_target_path(\n",
    "            path,\n",
    "            source_base=os.path.commonprefix([clean_s3_path(p) for p in data_paths]),\n",
    "            target_base=target_base_dir,\n",
    "            is_data=True\n",
    "        )\n",
    "        for path in data_paths\n",
    "    ]\n",
    "    \n",
    "    target_counts = verify_record_counts(s3_client, target_paths, operation)\n",
    "    actual_records = calculate_expected_records(target_counts, operation)\n",
    "    \n",
    "    verification_results = {\n",
    "        'source_counts': source_counts,\n",
    "        'expected_records': expected_records,\n",
    "        'actual_records': actual_records,\n",
    "        'success': expected_records == actual_records\n",
    "    }\n",
    "    \n",
    "    if verification_results['success']:\n",
    "        print(\"\\nRecord count verification successful!\")\n",
    "        print(f\"Expected records: {expected_records}\")\n",
    "        print(f\"Actual records: {actual_records}\")\n",
    "    else:\n",
    "        print(\"\\nRecord count verification failed!\")\n",
    "        print(f\"Expected records: {expected_records}\")\n",
    "        print(f\"Actual records: {actual_records}\")\n",
    "        print(\"Consider rolling back the operation.\")\n",
    "    \n",
    "    return move_success, verification_results\n",
    "\n",
    "######################################################## FUNCTION TO RUN JOB #########################################################################\n",
    "\n",
    "def process_snapshots_with_verification(df: pd.DataFrame, **kwargs):\n",
    "    \"\"\"\n",
    "    Process snapshots with verification of record counts.\n",
    "    \"\"\"\n",
    "    all_results = []\n",
    "    \n",
    "    for _, row in df.iterrows():\n",
    "        print(f\"\\nProcessing snapshot ID: {row['snapshot_id']}\")\n",
    "        print(f\"Operation: {row['operation']}\")\n",
    "        print(f\"Committed at: {row['committed_at']}\")\n",
    "        \n",
    "        success, results = move_iceberg_data_with_verification(\n",
    "            data_paths=row['data_path'],\n",
    "            manifest_file_paths=row['manifest_file_path'],\n",
    "            operation=row['operation'],\n",
    "            snapshot_id=row['snapshot_id'],\n",
    "            **kwargs\n",
    "        )\n",
    "        \n",
    "        results['snapshot_id'] = row['snapshot_id']\n",
    "        results['operation'] = row['operation']\n",
    "        all_results.append(results)\n",
    "        \n",
    "        if not success or not results['success']:\n",
    "            print(f\"Failed to process snapshot {row['snapshot_id']}\")\n",
    "            break\n",
    "    \n",
    "    return pd.DataFrame(all_results)"
   ]
  },
  {
   "cell_type": "code",
   "execution_count": 89,
   "id": "fdb774f4-defa-425c-a723-a0562a8e19c9",
   "metadata": {
    "scrolled": true
   },
   "outputs": [
    {
     "name": "stdout",
     "output_type": "stream",
     "text": [
      "\n",
      "Processing snapshot ID: 7114774514001334108\n",
      "Operation: overwrite\n",
      "Committed at: 2024-11-20 04:30:31.468000\n",
      "\n",
      "=== Starting enhanced data movement operation ===\n",
      "Operation: overwrite\n",
      "Snapshot ID: 7114774514001334108\n",
      "\n",
      "Verifying source record counts:\n",
      "\n",
      "Expected final record count: 0\n",
      "\n",
      "=== Starting new data movement operation ===\n",
      "Snapshot ID: 7114774514001334108\n",
      "Target base dir: s3a://standardize/lamtran_newlocation\n",
      "\n",
      "Data paths to process:\n",
      "\n",
      "Manifest files to update:\n",
      "\n",
      "Found 0 data files and 0 delete files\n",
      "\n",
      "Generating path mappings:\n",
      "\n",
      "Moving files:\n",
      "\n",
      "Updating manifest files:\n",
      "\n",
      "Operation completed successfully\n",
      "\n",
      "Verifying target record counts:\n",
      "\n",
      "Record count verification successful!\n",
      "Expected records: 0\n",
      "Actual records: 0\n",
      "\n",
      "Processing snapshot ID: 6913384981637447512\n",
      "Operation: overwrite\n",
      "Committed at: 2024-11-20 04:31:11.113000\n",
      "\n",
      "=== Starting enhanced data movement operation ===\n",
      "Operation: overwrite\n",
      "Snapshot ID: 6913384981637447512\n",
      "\n",
      "Verifying source record counts:\n",
      "File: s3a://standardize/lamtran/customer_3a443a51-fc4b-4de4-b145-2ae6c721bf3f/data/00000-103-04d902c5-e4dc-437b-90f5-2ed47dff27fd-0-00001.parquet\n",
      "Record count: 27\n",
      "Is delete file: False\n",
      "---\n",
      "\n",
      "Expected final record count: 27\n",
      "\n",
      "=== Starting new data movement operation ===\n",
      "Snapshot ID: 6913384981637447512\n",
      "Target base dir: s3a://standardize/lamtran_newlocation\n",
      "\n",
      "Data paths to process:\n",
      "- s3a://standardize/lamtran/customer_3a443a51-fc4b-4de4-b145-2ae6c721bf3f/data/00000-103-04d902c5-e4dc-437b-90f5-2ed47dff27fd-0-00001.parquet\n",
      "\n",
      "Manifest files to update:\n",
      "- s3a://standardize/lamtran/customer_3a443a51-fc4b-4de4-b145-2ae6c721bf3f/metadata/86a4a8c5-7e63-4764-9bdc-c6ef628e81ec-m1.avro\n",
      "\n",
      "Found 1 data files and 0 delete files\n",
      "\n",
      "Generating path mappings:\n",
      "Regular file mapping:\n",
      "From: s3a://standardize/lamtran/customer_3a443a51-fc4b-4de4-b145-2ae6c721bf3f/data/00000-103-04d902c5-e4dc-437b-90f5-2ed47dff27fd-0-00001.parquet\n",
      "To: s3a://standardize/lamtran_newlocation/data/00000-103-04d902c5-e4dc-437b-90f5-2ed47dff27fd-0-00001.parquet\n",
      "---\n",
      "\n",
      "Moving files:\n",
      "\n",
      "Moving file:\n",
      "From: s3a://standardize/lamtran/customer_3a443a51-fc4b-4de4-b145-2ae6c721bf3f/data/00000-103-04d902c5-e4dc-437b-90f5-2ed47dff27fd-0-00001.parquet\n",
      "To: s3a://standardize/lamtran_newlocation/data/00000-103-04d902c5-e4dc-437b-90f5-2ed47dff27fd-0-00001.parquet\n",
      "Move successful\n",
      "\n",
      "Updating manifest files:\n",
      "\n",
      "Processing manifest: s3a://standardize/lamtran/customer_3a443a51-fc4b-4de4-b145-2ae6c721bf3f/metadata/86a4a8c5-7e63-4764-9bdc-c6ef628e81ec-m1.avro\n",
      "\n",
      "Operation completed successfully\n",
      "\n",
      "Verifying target record counts:\n",
      "File: s3a://standardize/lamtran_newlocation/data/00000-103-04d902c5-e4dc-437b-90f5-2ed47dff27fd-0-00001.parquet\n",
      "Record count: 27\n",
      "Is delete file: False\n",
      "---\n",
      "\n",
      "Record count verification successful!\n",
      "Expected records: 27\n",
      "Actual records: 27\n",
      "\n",
      "Processing snapshot ID: 2674580199128993375\n",
      "Operation: append\n",
      "Committed at: 2024-11-20 04:32:07.397000\n",
      "\n",
      "=== Starting enhanced data movement operation ===\n",
      "Operation: append\n",
      "Snapshot ID: 2674580199128993375\n",
      "\n",
      "Verifying source record counts:\n",
      "File: s3a://standardize/lamtran/customer_3a443a51-fc4b-4de4-b145-2ae6c721bf3f/data/00000-104-b22bdf82-8518-4401-99de-18bf69f9d163-0-00001.parquet\n",
      "Record count: 1\n",
      "Is delete file: False\n",
      "---\n",
      "\n",
      "Expected final record count: 1\n",
      "\n",
      "=== Starting new data movement operation ===\n",
      "Snapshot ID: 2674580199128993375\n",
      "Target base dir: s3a://standardize/lamtran_newlocation\n",
      "\n",
      "Data paths to process:\n",
      "- s3a://standardize/lamtran/customer_3a443a51-fc4b-4de4-b145-2ae6c721bf3f/data/00000-104-b22bdf82-8518-4401-99de-18bf69f9d163-0-00001.parquet\n",
      "\n",
      "Manifest files to update:\n",
      "- s3a://standardize/lamtran/customer_3a443a51-fc4b-4de4-b145-2ae6c721bf3f/metadata/cdeab601-452a-4711-8b55-62f1413b60c9-m0.avro\n",
      "\n",
      "Found 1 data files and 0 delete files\n",
      "\n",
      "Generating path mappings:\n",
      "Regular file mapping:\n",
      "From: s3a://standardize/lamtran/customer_3a443a51-fc4b-4de4-b145-2ae6c721bf3f/data/00000-104-b22bdf82-8518-4401-99de-18bf69f9d163-0-00001.parquet\n",
      "To: s3a://standardize/lamtran_newlocation/data/00000-104-b22bdf82-8518-4401-99de-18bf69f9d163-0-00001.parquet\n",
      "---\n",
      "\n",
      "Moving files:\n",
      "\n",
      "Moving file:\n",
      "From: s3a://standardize/lamtran/customer_3a443a51-fc4b-4de4-b145-2ae6c721bf3f/data/00000-104-b22bdf82-8518-4401-99de-18bf69f9d163-0-00001.parquet\n",
      "To: s3a://standardize/lamtran_newlocation/data/00000-104-b22bdf82-8518-4401-99de-18bf69f9d163-0-00001.parquet\n",
      "Move successful\n",
      "\n",
      "Updating manifest files:\n",
      "\n",
      "Processing manifest: s3a://standardize/lamtran/customer_3a443a51-fc4b-4de4-b145-2ae6c721bf3f/metadata/cdeab601-452a-4711-8b55-62f1413b60c9-m0.avro\n",
      "\n",
      "Operation completed successfully\n",
      "\n",
      "Verifying target record counts:\n",
      "File: s3a://standardize/lamtran_newlocation/data/00000-104-b22bdf82-8518-4401-99de-18bf69f9d163-0-00001.parquet\n",
      "Record count: 1\n",
      "Is delete file: False\n",
      "---\n",
      "\n",
      "Record count verification successful!\n",
      "Expected records: 1\n",
      "Actual records: 1\n",
      "\n",
      "Verification Results:\n",
      "                                       source_counts  expected_records  \\\n",
      "0                                                 {}                 0   \n",
      "1  {'s3a://standardize/lamtran/customer_3a443a51-...                27   \n",
      "2  {'s3a://standardize/lamtran/customer_3a443a51-...                 1   \n",
      "\n",
      "   actual_records  success          snapshot_id  operation  \n",
      "0               0     True  7114774514001334108  overwrite  \n",
      "1              27     True  6913384981637447512  overwrite  \n",
      "2               1     True  2674580199128993375     append  \n"
     ]
    }
   ],
   "source": [
    "################################################# RUN SCRIPT (You can change to suitable for your table) ######################################\n",
    "\n",
    "results_df = process_snapshots_with_verification(\n",
    "    df,\n",
    "    target_base_dir= \"s3a://standardize/lamtran_newlocation\", # CHANGE HERE\n",
    "    aws_access_key_id= aws_access_key,\n",
    "    aws_secret_access_key= aws_secret_key,\n",
    "    endpoint_url= aws_s3_endpoint \n",
    ")\n",
    "\n",
    "# Display verification results\n",
    "print(\"\\nVerification Results:\")\n",
    "print(results_df)"
   ]
  },
  {
   "cell_type": "markdown",
   "id": "53c2aa2d-a080-4c7b-bb70-5c80fe45897a",
   "metadata": {},
   "source": [
    "### test full snapshot"
   ]
  },
  {
   "cell_type": "code",
   "execution_count": 113,
   "id": "a1a764e0-6c98-415c-b11a-4530e395b000",
   "metadata": {},
   "outputs": [
    {
     "name": "stdout",
     "output_type": "stream",
     "text": [
      "+-------+--------------------+-----------+-------+------------+------------------+--------------------+--------------------+--------------------+----------------+--------------------+--------------------+------------+-------------+------------+-------------+--------------------+\n",
      "|content|           file_path|file_format|spec_id|record_count|file_size_in_bytes|        column_sizes|        value_counts|   null_value_counts|nan_value_counts|        lower_bounds|        upper_bounds|key_metadata|split_offsets|equality_ids|sort_order_id|    readable_metrics|\n",
      "+-------+--------------------+-----------+-------+------------+------------------+--------------------+--------------------+--------------------+----------------+--------------------+--------------------+------------+-------------+------------+-------------+--------------------+\n",
      "|      0|s3a://standardize...|    PARQUET|      0|           1|              3003|{1 -> 39, 2 -> 37...|{1 -> 1, 2 -> 1, ...|{1 -> 0, 2 -> 0, ...|              {}|{1 -> [31 30 30],...|{1 -> [31 30 30],...|        NULL|          [4]|        NULL|            0|{{39, 1, 0, NULL,...|\n",
      "|      0|s3a://standardize...|    PARQUET|      0|          28|              4002|{1 -> 147, 2 -> 7...|{1 -> 28, 2 -> 28...|{1 -> 0, 2 -> 0, ...|              {}|{1 -> [31 33 30 3...|{1 -> [39 35 38 3...|        NULL|          [4]|        NULL|            0|{{147, 28, 0, NUL...|\n",
      "|      0|s3a://standardize...|    PARQUET|      0|           1|              2947|{1 -> 38, 2 -> 37...|{1 -> 1, 2 -> 1, ...|{1 -> 0, 2 -> 0, ...|              {}|{1 -> [38 30], 2 ...|{1 -> [38 30], 2 ...|        NULL|          [4]|        NULL|            0|{{38, 1, 0, NULL,...|\n",
      "|      0|s3a://standardize...|    PARQUET|      0|          27|              3995|{1 -> 145, 2 -> 7...|{1 -> 27, 2 -> 27...|{1 -> 0, 2 -> 0, ...|              {}|{1 -> [31 33 30 3...|{1 -> [39 35 38 3...|        NULL|          [4]|        NULL|            0|{{145, 27, 0, NUL...|\n",
      "|      0|s3a://standardize...|    PARQUET|      0|          28|              3990|{1 -> 147, 2 -> 7...|{1 -> 28, 2 -> 28...|{1 -> 0, 2 -> 0, ...|              {}|{1 -> [31 33 30 3...|{1 -> [39 35 38 3...|        NULL|          [4]|        NULL|            0|{{147, 28, 0, NUL...|\n",
      "|      0|s3a://standardize...|    PARQUET|      0|          27|              3992|{1 -> 145, 2 -> 7...|{1 -> 27, 2 -> 27...|{1 -> 0, 2 -> 0, ...|              {}|{1 -> [31 33 30 3...|{1 -> [39 35 38 3...|        NULL|          [4]|        NULL|            0|{{145, 27, 0, NUL...|\n",
      "+-------+--------------------+-----------+-------+------------+------------------+--------------------+--------------------+--------------------+----------------+--------------------+--------------------+------------+-------------+------------+-------------+--------------------+\n",
      "\n"
     ]
    }
   ],
   "source": [
    "spark.sql(f\"\"\"            \n",
    "SELECT *\n",
    "FROM nessie.lamtran.customer.all_files m \n",
    "\"\"\").show(truncate = True)"
   ]
  },
  {
   "cell_type": "code",
   "execution_count": 36,
   "id": "186a8f3f-45b6-4fc4-8a49-6a6d0dabf539",
   "metadata": {},
   "outputs": [
    {
     "name": "stdout",
     "output_type": "stream",
     "text": [
      "+--------------------+-------------------+-------------------+---------+--------------------+--------------------+\n",
      "|        committed_at|        snapshot_id|          parent_id|operation|       manifest_list|             summary|\n",
      "+--------------------+-------------------+-------------------+---------+--------------------+--------------------+\n",
      "|2024-11-20 03:23:...|1246593139439904600|               NULL|   append|s3a://standardize...|{spark.app.id -> ...|\n",
      "|2024-11-20 03:24:...|5432061827693556251|1246593139439904600|   append|s3a://standardize...|{spark.app.id -> ...|\n",
      "|2024-11-20 03:25:...|4129731365437905558|5432061827693556251|overwrite|s3a://standardize...|{spark.app.id -> ...|\n",
      "|2024-11-20 03:27:...|6202517335213052460|4129731365437905558|overwrite|s3a://standardize...|{spark.app.id -> ...|\n",
      "|2024-11-20 03:28:...|6361270771376132640|6202517335213052460|overwrite|s3a://standardize...|{spark.app.id -> ...|\n",
      "|2024-11-20 03:29:...|2231548173782421862|6361270771376132640|   append|s3a://standardize...|{spark.app.id -> ...|\n",
      "+--------------------+-------------------+-------------------+---------+--------------------+--------------------+\n",
      "\n"
     ]
    }
   ],
   "source": [
    "spark.sql(f\"\"\"            \n",
    "SELECT *\n",
    "FROM nessie.lamtran.customer.snapshots s \n",
    "  \n",
    "\"\"\").show(truncate = True)"
   ]
  },
  {
   "cell_type": "code",
   "execution_count": 114,
   "id": "977971c3-bb04-493d-98e1-4d97ba1081bd",
   "metadata": {},
   "outputs": [
    {
     "name": "stdout",
     "output_type": "stream",
     "text": [
      "+------+-------------------+---------------+--------------------+--------------------+--------------------+\n",
      "|status|        snapshot_id|sequence_number|file_sequence_number|           data_file|    readable_metrics|\n",
      "+------+-------------------+---------------+--------------------+--------------------+--------------------+\n",
      "|     2|8245947571210554019|              1|                   1|{0, s3a://standar...|{{147, 28, 0, NUL...|\n",
      "|     2|6913384981637447512|              4|                   4|{0, s3a://standar...|{{145, 27, 0, NUL...|\n",
      "|     1|2674580199128993375|              6|                   6|{0, s3a://standar...|{{39, 1, 0, NULL,...|\n",
      "|     1|8245947571210554019|              3|                   3|{0, s3a://standar...|{{147, 28, 0, NUL...|\n",
      "|     2|7114774514001334108|              3|                   3|{0, s3a://standar...|{{147, 28, 0, NUL...|\n",
      "|     1|1288987108754526709|              2|                   2|{0, s3a://standar...|{{38, 1, 0, NULL,...|\n",
      "|     1|6913384981637447512|              5|                   5|{0, s3a://standar...|{{145, 27, 0, NUL...|\n",
      "|     1|3363876608955524645|              1|                   1|{0, s3a://standar...|{{147, 28, 0, NUL...|\n",
      "|     1|7114774514001334108|              4|                   4|{0, s3a://standar...|{{145, 27, 0, NUL...|\n",
      "+------+-------------------+---------------+--------------------+--------------------+--------------------+\n",
      "\n"
     ]
    }
   ],
   "source": [
    "spark.sql(f\"\"\"            \n",
    "SELECT *\n",
    "FROM nessie.lamtran.customer.all_entries f \n",
    "  \n",
    "\"\"\").show(truncate = True)"
   ]
  },
  {
   "cell_type": "code",
   "execution_count": 93,
   "id": "d7d79024-9928-4d49-8c1b-ba997c31fcd3",
   "metadata": {},
   "outputs": [
    {
     "name": "stdout",
     "output_type": "stream",
     "text": [
      "+--------------------+-------------------+--------------------+--------------------+\n",
      "|        committed_at|        snapshot_id|                path|           data_file|\n",
      "+--------------------+-------------------+--------------------+--------------------+\n",
      "|2024-11-19 08:31:...|1197200229001663007|s3a://standardize...|{0, s3a://standar...|\n",
      "|2024-11-19 08:31:...|1197200229001663007|s3a://standardize...|{0, s3a://standar...|\n",
      "|2024-11-19 08:30:...|4893775950529386665|s3a://standardize...|{0, s3a://standar...|\n",
      "|2024-11-19 08:31:...|1197200229001663007|s3a://standardize...|{0, s3a://standar...|\n",
      "|2024-11-19 08:31:...|1197200229001663007|s3a://standardize...|{0, s3a://standar...|\n",
      "|2024-11-19 08:29:...|7476707695693006581|s3a://standardize...|{0, s3a://standar...|\n",
      "+--------------------+-------------------+--------------------+--------------------+\n",
      "\n"
     ]
    }
   ],
   "source": [
    "spark.sql(f\"\"\"            \n",
    "SELECT s.committed_at, s.snapshot_id, m.path, f.data_file\n",
    "FROM nessie.lamtran.customer.entries f \n",
    "JOIN nessie.lamtran.customer.manifests m \n",
    "  ON f.snapshot_id = m.added_snapshot_id\n",
    "JOIN nessie.lamtran.customer.snapshots s \n",
    "  ON m.added_snapshot_id = s.snapshot_id \n",
    "\"\"\").show(20, truncate = True)"
   ]
  },
  {
   "cell_type": "code",
   "execution_count": null,
   "id": "b936cb65-a89c-48be-ab2c-0ee20ef6170a",
   "metadata": {},
   "outputs": [],
   "source": []
  },
  {
   "cell_type": "markdown",
   "id": "58110ee2-8147-4517-a00c-490e05140f01",
   "metadata": {},
   "source": [
    "## TEST Time Travel "
   ]
  },
  {
   "cell_type": "code",
   "execution_count": 116,
   "id": "f5a4c55c-bbce-461f-a514-5291ecc85d35",
   "metadata": {},
   "outputs": [
    {
     "name": "stdout",
     "output_type": "stream",
     "text": [
      "+-----------------------+-------------------+-------------------+---------+-----------------------------------------------------------------------------------------------------------------------------------------------------+------------------------------------------------------------------------------------------------------------------------------------------------------------------------------------------------------------------------------------------------------------------------------------------------------------------------------------------------------------------------------+\n",
      "|committed_at           |snapshot_id        |parent_id          |operation|manifest_list                                                                                                                                        |summary                                                                                                                                                                                                                                                                                                                                                                       |\n",
      "+-----------------------+-------------------+-------------------+---------+-----------------------------------------------------------------------------------------------------------------------------------------------------+------------------------------------------------------------------------------------------------------------------------------------------------------------------------------------------------------------------------------------------------------------------------------------------------------------------------------------------------------------------------------+\n",
      "|2024-11-20 04:27:47.491|3363876608955524645|NULL               |append   |s3a://standardize/lamtran/customer_3a443a51-fc4b-4de4-b145-2ae6c721bf3f/metadata/snap-3363876608955524645-1-1ea81435-375e-42e7-8515-d86aa993f9d8.avro|{spark.app.id -> local-1732072170589, added-data-files -> 1, added-records -> 28, added-files-size -> 3990, changed-partition-count -> 1, total-records -> 28, total-files-size -> 3990, total-data-files -> 1, total-delete-files -> 0, total-position-deletes -> 0, total-equality-deletes -> 0}                                                                            |\n",
      "|2024-11-20 04:28:30.584|1288987108754526709|3363876608955524645|append   |s3a://standardize/lamtran/customer_3a443a51-fc4b-4de4-b145-2ae6c721bf3f/metadata/snap-1288987108754526709-1-60ab0f75-033a-4e92-98b6-13271f2ddf5b.avro|{spark.app.id -> local-1732072170589, added-data-files -> 1, added-records -> 1, added-files-size -> 2947, changed-partition-count -> 1, total-records -> 29, total-files-size -> 6937, total-data-files -> 2, total-delete-files -> 0, total-position-deletes -> 0, total-equality-deletes -> 0}                                                                             |\n",
      "|2024-11-20 04:29:14.987|8245947571210554019|1288987108754526709|overwrite|s3a://standardize/lamtran/customer_3a443a51-fc4b-4de4-b145-2ae6c721bf3f/metadata/snap-8245947571210554019-1-f0e1e072-9a5c-4d25-8936-346fe1821b02.avro|{spark.app.id -> local-1732072170589, added-data-files -> 1, deleted-data-files -> 1, added-records -> 28, deleted-records -> 28, added-files-size -> 4002, removed-files-size -> 3990, changed-partition-count -> 1, total-records -> 29, total-files-size -> 6949, total-data-files -> 2, total-delete-files -> 0, total-position-deletes -> 0, total-equality-deletes -> 0}|\n",
      "|2024-11-20 04:30:31.468|7114774514001334108|8245947571210554019|overwrite|s3a://standardize/lamtran/customer_3a443a51-fc4b-4de4-b145-2ae6c721bf3f/metadata/snap-7114774514001334108-1-511e7e3c-16b5-468b-9cb7-9ec142251634.avro|{spark.app.id -> local-1732072170589, added-data-files -> 1, deleted-data-files -> 1, added-records -> 27, deleted-records -> 28, added-files-size -> 3992, removed-files-size -> 4002, changed-partition-count -> 1, total-records -> 28, total-files-size -> 6939, total-data-files -> 2, total-delete-files -> 0, total-position-deletes -> 0, total-equality-deletes -> 0}|\n",
      "|2024-11-20 04:31:11.113|6913384981637447512|7114774514001334108|overwrite|s3a://standardize/lamtran/customer_3a443a51-fc4b-4de4-b145-2ae6c721bf3f/metadata/snap-6913384981637447512-1-86a4a8c5-7e63-4764-9bdc-c6ef628e81ec.avro|{spark.app.id -> local-1732072170589, added-data-files -> 1, deleted-data-files -> 1, added-records -> 27, deleted-records -> 27, added-files-size -> 3995, removed-files-size -> 3992, changed-partition-count -> 1, total-records -> 28, total-files-size -> 6942, total-data-files -> 2, total-delete-files -> 0, total-position-deletes -> 0, total-equality-deletes -> 0}|\n",
      "|2024-11-20 04:32:07.397|2674580199128993375|6913384981637447512|append   |s3a://standardize/lamtran/customer_3a443a51-fc4b-4de4-b145-2ae6c721bf3f/metadata/snap-2674580199128993375-1-cdeab601-452a-4711-8b55-62f1413b60c9.avro|{spark.app.id -> local-1732072170589, added-data-files -> 1, added-records -> 1, added-files-size -> 3003, changed-partition-count -> 1, total-records -> 29, total-files-size -> 9945, total-data-files -> 3, total-delete-files -> 0, total-position-deletes -> 0, total-equality-deletes -> 0}                                                                             |\n",
      "+-----------------------+-------------------+-------------------+---------+-----------------------------------------------------------------------------------------------------------------------------------------------------+------------------------------------------------------------------------------------------------------------------------------------------------------------------------------------------------------------------------------------------------------------------------------------------------------------------------------------------------------------------------------+\n",
      "\n"
     ]
    }
   ],
   "source": [
    "spark.sql(\"\"\"SELECT * FROM nessie.lamtran.customer.snapshots\"\"\").show(truncate = False)"
   ]
  },
  {
   "cell_type": "code",
   "execution_count": 93,
   "id": "f49721c8-6c59-4630-ba3c-2fd9c20607a0",
   "metadata": {},
   "outputs": [
    {
     "name": "stdout",
     "output_type": "stream",
     "text": [
      "+--------+\n",
      "|count(1)|\n",
      "+--------+\n",
      "|      29|\n",
      "+--------+\n",
      "\n",
      "+---------+-------+------------+---------+-------+--------+------+---------+------+--------------+-----------------------+\n",
      "|ACCOUNTID|BANK_ID|CORE_CUST_ID|   ORGKEY|ORGTYPE|    NAME|GENDER|CUST_TYPE|STATUS|PRIMARY_SOL_ID|RELATIONSHIPOPENINGDATE|\n",
      "+---------+-------+------------+---------+-------+--------+------+---------+------+--------------+-----------------------+\n",
      "|       80|      2|   123456789|123456789|Account|HAHAHIHI|     M|    10001| ACTVE|          1500|             2024-01-07|\n",
      "+---------+-------+------------+---------+-------+--------+------+---------+------+--------------+-----------------------+\n",
      "\n"
     ]
    }
   ],
   "source": [
    "spark.sql(\"\"\"SELECT COUNT(*) FROM nessie.lamtran.customer FOR TIMESTAMP AS OF TIMESTAMP '2024-11-20 04:28:30.584'\"\"\").show(10)\n",
    "spark.sql(\"\"\"SELECT * FROM nessie.lamtran.customer FOR TIMESTAMP AS OF TIMESTAMP '2024-11-20 04:28:30.584' where ACCOUNTID = 80\"\"\").show(10)"
   ]
  },
  {
   "cell_type": "code",
   "execution_count": 96,
   "id": "4147c264-60f6-43ec-95ba-01ac29b1bfeb",
   "metadata": {},
   "outputs": [
    {
     "name": "stdout",
     "output_type": "stream",
     "text": [
      "+--------+\n",
      "|count(1)|\n",
      "+--------+\n",
      "|      29|\n",
      "+--------+\n",
      "\n",
      "+---------+-------+------------+---------+-------+-------------------+------+---------+--------+--------------+-----------------------+\n",
      "|ACCOUNTID|BANK_ID|CORE_CUST_ID|   ORGKEY|ORGTYPE|               NAME|GENDER|CUST_TYPE|  STATUS|PRIMARY_SOL_ID|RELATIONSHIPOPENINGDATE|\n",
      "+---------+-------+------------+---------+-------+-------------------+------+---------+--------+--------------+-----------------------+\n",
      "|   860010|      1|   105268371|105268371|Account|TRAN THI ***** HANG|     F|    10001|INACTIVE|          1015|             2017-08-25|\n",
      "+---------+-------+------------+---------+-------+-------------------+------+---------+--------+--------------+-----------------------+\n",
      "\n"
     ]
    }
   ],
   "source": [
    "spark.sql(\"\"\"SELECT COUNT(*) FROM nessie.lamtran.customer FOR TIMESTAMP AS OF TIMESTAMP '2024-11-20 04:29:14.987'\"\"\").show(10)\n",
    "spark.sql(\"\"\"SELECT * FROM nessie.lamtran.customer FOR TIMESTAMP AS OF TIMESTAMP '2024-11-20 04:29:14.987' where ACCOUNTID = 860010\"\"\").show(10)"
   ]
  },
  {
   "cell_type": "code",
   "execution_count": 97,
   "id": "44709369-64f9-4116-a099-c6090dc25b12",
   "metadata": {},
   "outputs": [
    {
     "name": "stdout",
     "output_type": "stream",
     "text": [
      "+--------+\n",
      "|count(1)|\n",
      "+--------+\n",
      "|      28|\n",
      "+--------+\n",
      "\n",
      "+---------+-------+------------+---------+-------+-------------------+------+---------+--------+--------------+-----------------------+\n",
      "|ACCOUNTID|BANK_ID|CORE_CUST_ID|   ORGKEY|ORGTYPE|               NAME|GENDER|CUST_TYPE|  STATUS|PRIMARY_SOL_ID|RELATIONSHIPOPENINGDATE|\n",
      "+---------+-------+------------+---------+-------+-------------------+------+---------+--------+--------------+-----------------------+\n",
      "|   860010|      1|   105268371|105268371|Account|TRAN THI ***** HANG|     F|    10001|INACTIVE|          1015|             2017-08-25|\n",
      "+---------+-------+------------+---------+-------+-------------------+------+---------+--------+--------------+-----------------------+\n",
      "\n"
     ]
    }
   ],
   "source": [
    "spark.sql(\"\"\"SELECT COUNT(*) FROM nessie.lamtran.customer FOR TIMESTAMP AS OF TIMESTAMP '2024-11-20 04:30:31.468'\"\"\").show(10)\n",
    "spark.sql(\"\"\"SELECT * FROM nessie.lamtran.customer FOR TIMESTAMP AS OF TIMESTAMP '2024-11-20 04:30:31.468' where ACCOUNTID = 860010\"\"\").show(10)"
   ]
  },
  {
   "cell_type": "code",
   "execution_count": 99,
   "id": "e54aaaa3-00d8-4973-8388-4879745097a8",
   "metadata": {},
   "outputs": [
    {
     "name": "stdout",
     "output_type": "stream",
     "text": [
      "+--------+\n",
      "|count(1)|\n",
      "+--------+\n",
      "|      28|\n",
      "+--------+\n",
      "\n",
      "+---------+-------+------------+---------+-------+-----------------+------+---------+--------+--------------+-----------------------+\n",
      "|ACCOUNTID|BANK_ID|CORE_CUST_ID|   ORGKEY|ORGTYPE|             NAME|GENDER|CUST_TYPE|  STATUS|PRIMARY_SOL_ID|RELATIONSHIPOPENINGDATE|\n",
      "+---------+-------+------------+---------+-------+-----------------+------+---------+--------+--------------+-----------------------+\n",
      "|  2008140|      1|   119821325|119821325|Account|TRAN THI ***** HA|     F|    10001|INACTIVE|          1602|             2018-03-16|\n",
      "+---------+-------+------------+---------+-------+-----------------+------+---------+--------+--------------+-----------------------+\n",
      "\n"
     ]
    }
   ],
   "source": [
    "spark.sql(\"\"\"SELECT COUNT(*) FROM nessie.lamtran.customer FOR TIMESTAMP AS OF TIMESTAMP '2024-11-20 04:31:11.113'\"\"\").show(10)\n",
    "spark.sql(\"\"\"SELECT * FROM nessie.lamtran.customer FOR TIMESTAMP AS OF TIMESTAMP '2024-11-20 04:31:11.113' where ACCOUNTID = 2008140\"\"\").show(10)"
   ]
  },
  {
   "cell_type": "code",
   "execution_count": 100,
   "id": "a58fb13c-e897-4dc1-9bfa-c27226746f20",
   "metadata": {},
   "outputs": [
    {
     "name": "stdout",
     "output_type": "stream",
     "text": [
      "+--------+\n",
      "|count(1)|\n",
      "+--------+\n",
      "|      29|\n",
      "+--------+\n",
      "\n",
      "+---------+-------+------------+---------+-------+---------------+------+---------+------+--------------+-----------------------+\n",
      "|ACCOUNTID|BANK_ID|CORE_CUST_ID|   ORGKEY|ORGTYPE|           NAME|GENDER|CUST_TYPE|STATUS|PRIMARY_SOL_ID|RELATIONSHIPOPENINGDATE|\n",
      "+---------+-------+------------+---------+-------+---------------+------+---------+------+--------------+-----------------------+\n",
      "|      100|      2|   123456789|123456789|Account|HOANG THI HUONG|     M|    10001| ACTVE|          1500|             2024-01-14|\n",
      "+---------+-------+------------+---------+-------+---------------+------+---------+------+--------------+-----------------------+\n",
      "\n"
     ]
    }
   ],
   "source": [
    "spark.sql(\"\"\"SELECT COUNT(*) FROM nessie.lamtran.customer FOR TIMESTAMP AS OF TIMESTAMP '2024-11-20 04:32:07.397'\"\"\").show(10)\n",
    "spark.sql(\"\"\"SELECT * FROM nessie.lamtran.customer FOR TIMESTAMP AS OF TIMESTAMP '2024-11-20 04:32:07.397' where ACCOUNTID = 100\"\"\").show(10)"
   ]
  },
  {
   "cell_type": "markdown",
   "id": "1006fb4e-4240-4538-9194-7068d8453022",
   "metadata": {},
   "source": [
    "## TEST Roll Back"
   ]
  },
  {
   "cell_type": "code",
   "execution_count": 114,
   "id": "7d222ba1-2b27-4cf4-802f-6ae09ddf0e5b",
   "metadata": {},
   "outputs": [
    {
     "name": "stdout",
     "output_type": "stream",
     "text": [
      "+--------------------+-------------------+\n",
      "|previous_snapshot_id|current_snapshot_id|\n",
      "+--------------------+-------------------+\n",
      "| 1197200229001663007|4893775950529386665|\n",
      "+--------------------+-------------------+\n",
      "\n"
     ]
    }
   ],
   "source": [
    "spark.sql(\"\"\"CALL nessie.system.rollback_to_snapshot('nessie.lamtran.customer', 6913384981637447512)\"\"\").show()"
   ]
  },
  {
   "cell_type": "code",
   "execution_count": null,
   "id": "290ddf96-38a8-4f4b-b169-d89dd3d20df6",
   "metadata": {},
   "outputs": [],
   "source": [
    "spark.sql(\"\"\"CALL nessie.system.rollback_to_timestamp('nessie.lamtran.customer', TIMESTAMP '2024-11-20 04:31:11.113')\"\"\").show()"
   ]
  },
  {
   "cell_type": "code",
   "execution_count": 116,
   "id": "c13c6410-7af4-49b9-99e7-37914957fbfd",
   "metadata": {},
   "outputs": [
    {
     "name": "stdout",
     "output_type": "stream",
     "text": [
      "+--------+\n",
      "|count(1)|\n",
      "+--------+\n",
      "|      29|\n",
      "+--------+\n",
      "\n"
     ]
    }
   ],
   "source": [
    "spark.sql(\"\"\"SELECT COUNT(*) FROM nessie.lamtran.customer\"\"\").show()"
   ]
  },
  {
   "cell_type": "markdown",
   "id": "745174c8-ac55-4f42-a57e-fe9259c5aa3c",
   "metadata": {},
   "source": [
    "### create new table to test snapshot management"
   ]
  },
  {
   "cell_type": "code",
   "execution_count": 8,
   "id": "418701fc-5d95-4114-9d96-170cb337832d",
   "metadata": {},
   "outputs": [
    {
     "data": {
      "text/plain": [
       "DataFrame[]"
      ]
     },
     "execution_count": 8,
     "metadata": {},
     "output_type": "execute_result"
    }
   ],
   "source": [
    "spark.sql(\"\"\"CREATE TABLE nessie.lamtran.customer_test(\n",
    "            ACCOUNTID STRING,\n",
    "            BANK_ID STRING,\n",
    "            CORE_CUST_ID STRING,\n",
    "            ORGKEY STRING,\n",
    "            ORGTYPE STRING,\n",
    "            NAME STRING,\n",
    "            GENDER STRING,\n",
    "            CUST_TYPE STRING,\n",
    "            STATUS STRING,\n",
    "            PRIMARY_SOL_ID STRING,\n",
    "            RELATIONSHIPOPENINGDATE DATE)\n",
    "        USING ICEBERG \"\"\")"
   ]
  },
  {
   "cell_type": "code",
   "execution_count": 9,
   "id": "a1664cd4-2b95-407d-85f5-1ebc4f62cc60",
   "metadata": {},
   "outputs": [],
   "source": [
    "# Convert date formats\n",
    "schema = StructType([\n",
    "    StructField(\"ACCOUNTID\", StringType(), True),\n",
    "    StructField(\"BANK_ID\", StringType(), True),\n",
    "    StructField(\"CORE_CUST_ID\", StringType(), True),\n",
    "    StructField(\"ORGKEY\", StringType(), True),\n",
    "    StructField(\"ORGTYPE\", StringType(), True),\n",
    "    StructField(\"NAME\", StringType(), True),\n",
    "    StructField(\"GENDER\", StringType(), True),\n",
    "    StructField(\"CUST_TYPE\", StringType(), True),\n",
    "    StructField(\"STATUS\", StringType(), True),\n",
    "    StructField(\"PRIMARY_SOL_ID\", StringType(), True),\n",
    "    StructField(\"RELATIONSHIPOPENINGDATE\", DateType(), True)\n",
    "])\n",
    "\n",
    "# Read CSV with schema\n",
    "df = spark.read.csv(raw_csv_path, schema=schema, header=True)\n",
    "\n",
    "df = raw_df.withColumn(\n",
    "    \"RELATIONSHIPOPENINGDATE\",\n",
    "    when(raw_df[\"RELATIONSHIPOPENINGDATE\"].rlike(r\"^\\d{2}-\\d{2}-\\d{4}$\"), \n",
    "         to_date(\"RELATIONSHIPOPENINGDATE\", \"dd-MM-yyyy\"))\n",
    "    .when(raw_df[\"RELATIONSHIPOPENINGDATE\"].rlike(r\"^\\d{1,2}/\\d{1,2}/\\d{4}$\"), \n",
    "          to_date(\"RELATIONSHIPOPENINGDATE\", \"d/M/yyyy\"))\n",
    ")\n"
   ]
  },
  {
   "cell_type": "code",
   "execution_count": 10,
   "id": "f26c0c5b-fcae-4e1f-ac49-50aa98e0acc4",
   "metadata": {},
   "outputs": [
    {
     "name": "stderr",
     "output_type": "stream",
     "text": [
      "                                                                                \r"
     ]
    }
   ],
   "source": [
    "df.write.format(\"iceberg\").mode(\"append\").save(\"nessie.lamtran.customer_test\")"
   ]
  },
  {
   "cell_type": "markdown",
   "id": "d9c0fa90-bf7a-4b85-805c-ad19c5083178",
   "metadata": {},
   "source": [
    "### Insert/ update/ Delete "
   ]
  },
  {
   "cell_type": "code",
   "execution_count": 11,
   "id": "d270f47c-4d1f-450d-993d-6e9221f3a138",
   "metadata": {},
   "outputs": [
    {
     "data": {
      "text/plain": [
       "DataFrame[]"
      ]
     },
     "execution_count": 11,
     "metadata": {},
     "output_type": "execute_result"
    }
   ],
   "source": [
    "# Thêm giá trị (1)\n",
    "spark.sql(\"\"\"\n",
    "  INSERT INTO nessie.lamtran.customer_test (ACCOUNTID, BANK_ID, CORE_CUST_ID, ORGKEY, ORGTYPE, NAME, GENDER, CUST_TYPE, STATUS, PRIMARY_SOL_ID, RELATIONSHIPOPENINGDATE)\n",
    "  VALUES (80, 2, 123456789, 123456789, 'Account', 'HAHAHIHI', 'M', 10001, 'ACTVE', 1500, to_date('2024-11-07','yyyy-mm-dd'))\n",
    "\"\"\")\n"
   ]
  },
  {
   "cell_type": "code",
   "execution_count": 12,
   "id": "f9fbc733-421b-4e00-a783-90809cf172cb",
   "metadata": {},
   "outputs": [
    {
     "name": "stderr",
     "output_type": "stream",
     "text": [
      "                                                                                \r"
     ]
    },
    {
     "data": {
      "text/plain": [
       "DataFrame[]"
      ]
     },
     "execution_count": 12,
     "metadata": {},
     "output_type": "execute_result"
    }
   ],
   "source": [
    "#(2)\n",
    "spark.sql(\"\"\"UPDATE nessie.lamtran.customer_test  SET STATUS = 'INACTIVE', NAME = 'TRAN THI ***** HANG'\n",
    "  WHERE ACCOUNTID = 860010\n",
    "\"\"\")"
   ]
  },
  {
   "cell_type": "code",
   "execution_count": 13,
   "id": "0f69bbcc-49da-43c0-b6cf-2258691ca496",
   "metadata": {},
   "outputs": [
    {
     "data": {
      "text/plain": [
       "DataFrame[]"
      ]
     },
     "execution_count": 13,
     "metadata": {},
     "output_type": "execute_result"
    }
   ],
   "source": [
    "#(3)\n",
    "spark.sql(\"\"\"DELETE FROM nessie.lamtran.customer_test  WHERE ACCOUNTID = 958933\n",
    "\"\"\")"
   ]
  },
  {
   "cell_type": "code",
   "execution_count": 14,
   "id": "62028938-0c6b-4530-b779-98e4e75fe6ab",
   "metadata": {},
   "outputs": [
    {
     "data": {
      "text/plain": [
       "DataFrame[]"
      ]
     },
     "execution_count": 14,
     "metadata": {},
     "output_type": "execute_result"
    }
   ],
   "source": [
    "#(4)\n",
    "spark.sql(\"\"\"UPDATE nessie.lamtran.customer_test  SET STATUS = 'INACTIVE', NAME = 'TRAN THI ***** HA'\n",
    "  WHERE ACCOUNTID = 2008140\n",
    "\"\"\")"
   ]
  },
  {
   "cell_type": "code",
   "execution_count": 15,
   "id": "c75696ba-4bd0-4389-a2d2-39569e882cdf",
   "metadata": {},
   "outputs": [
    {
     "data": {
      "text/plain": [
       "DataFrame[]"
      ]
     },
     "execution_count": 15,
     "metadata": {},
     "output_type": "execute_result"
    }
   ],
   "source": [
    "# Thêm giá trị (5)\n",
    "spark.sql(\"\"\"\n",
    "  INSERT INTO nessie.lamtran.customer_test (ACCOUNTID, BANK_ID, CORE_CUST_ID, ORGKEY, ORGTYPE, NAME, GENDER, CUST_TYPE, STATUS, PRIMARY_SOL_ID, RELATIONSHIPOPENINGDATE)\n",
    "  VALUES (100, 2, 123456789, 123456789, 'Account', 'HOANG THI HUONG', 'M', 10001, 'ACTVE', 1500, to_date('2024-11-14','yyyy-mm-dd'))\n",
    "\"\"\")"
   ]
  },
  {
   "cell_type": "markdown",
   "id": "b675b0fa-b181-428a-939e-f3c3ca59894d",
   "metadata": {},
   "source": [
    "## Check snapshot"
   ]
  },
  {
   "cell_type": "code",
   "execution_count": 43,
   "id": "074f1c12-0667-46cd-ad0a-75f256cf59ab",
   "metadata": {
    "scrolled": true
   },
   "outputs": [
    {
     "name": "stdout",
     "output_type": "stream",
     "text": [
      "+-----------------------+-------------------+-------------------+---------+----------------------------------------------------------------------------------------------------------------------------------------------------------+------------------------------------------------------------------------------------------------------------------------------------------------------------------------------------------------------------------------------------------------------------------------------------------------------------------------------------------------------------------------------+\n",
      "|committed_at           |snapshot_id        |parent_id          |operation|manifest_list                                                                                                                                             |summary                                                                                                                                                                                                                                                                                                                                                                       |\n",
      "+-----------------------+-------------------+-------------------+---------+----------------------------------------------------------------------------------------------------------------------------------------------------------+------------------------------------------------------------------------------------------------------------------------------------------------------------------------------------------------------------------------------------------------------------------------------------------------------------------------------------------------------------------------------+\n",
      "|2024-11-21 04:19:30.612|5056947826345476597|5460143888575482310|overwrite|s3a://standardize/lamtran/customer_test_7faa6a9e-bbd7-40c9-a458-59aa7b663d32/metadata/snap-5056947826345476597-1-3c4663e9-c305-41c9-bee2-4b71d7bffc1b.avro|{spark.app.id -> local-1732162239934, added-data-files -> 1, deleted-data-files -> 1, added-records -> 28, deleted-records -> 28, added-files-size -> 4002, removed-files-size -> 3990, changed-partition-count -> 1, total-records -> 29, total-files-size -> 6949, total-data-files -> 2, total-delete-files -> 0, total-position-deletes -> 0, total-equality-deletes -> 0}|\n",
      "|2024-11-21 04:21:24.607|6386723924476925074|5056947826345476597|overwrite|s3a://standardize/lamtran/customer_test_7faa6a9e-bbd7-40c9-a458-59aa7b663d32/metadata/snap-6386723924476925074-1-a51a2687-3279-442f-aa80-9e2a40fe7d08.avro|{spark.app.id -> local-1732162239934, added-data-files -> 1, deleted-data-files -> 1, added-records -> 27, deleted-records -> 28, added-files-size -> 3992, removed-files-size -> 4002, changed-partition-count -> 1, total-records -> 28, total-files-size -> 6939, total-data-files -> 2, total-delete-files -> 0, total-position-deletes -> 0, total-equality-deletes -> 0}|\n",
      "|2024-11-21 04:26:05.773|5949622908842454111|6386723924476925074|overwrite|s3a://standardize/lamtran/customer_test_7faa6a9e-bbd7-40c9-a458-59aa7b663d32/metadata/snap-5949622908842454111-1-d46de028-12ed-4cbb-8161-2656b924f94f.avro|{spark.app.id -> local-1732162239934, added-data-files -> 1, deleted-data-files -> 1, added-records -> 27, deleted-records -> 27, added-files-size -> 3995, removed-files-size -> 3992, changed-partition-count -> 1, total-records -> 28, total-files-size -> 6942, total-data-files -> 2, total-delete-files -> 0, total-position-deletes -> 0, total-equality-deletes -> 0}|\n",
      "|2024-11-21 04:27:18.065|2571846111905831955|5949622908842454111|append   |s3a://standardize/lamtran/customer_test_7faa6a9e-bbd7-40c9-a458-59aa7b663d32/metadata/snap-2571846111905831955-1-24cd97ea-dcfc-434a-ae86-e08975162dfb.avro|{spark.app.id -> local-1732162239934, added-data-files -> 1, added-records -> 1, added-files-size -> 3003, changed-partition-count -> 1, total-records -> 29, total-files-size -> 9945, total-data-files -> 3, total-delete-files -> 0, total-position-deletes -> 0, total-equality-deletes -> 0}                                                                             |\n",
      "+-----------------------+-------------------+-------------------+---------+----------------------------------------------------------------------------------------------------------------------------------------------------------+------------------------------------------------------------------------------------------------------------------------------------------------------------------------------------------------------------------------------------------------------------------------------------------------------------------------------------------------------------------------------+\n",
      "\n"
     ]
    }
   ],
   "source": [
    "spark.sql(\"\"\"SELECT * FROM nessie.lamtran.customer_test.snapshots\"\"\").show(truncate = False)"
   ]
  },
  {
   "cell_type": "code",
   "execution_count": 18,
   "id": "41a62801-11ff-4fc1-8d35-40726fbfa06d",
   "metadata": {},
   "outputs": [
    {
     "name": "stdout",
     "output_type": "stream",
     "text": [
      "+-----------------------+-------------------+-------------------+-------------------+\n",
      "|made_current_at        |snapshot_id        |parent_id          |is_current_ancestor|\n",
      "+-----------------------+-------------------+-------------------+-------------------+\n",
      "|2024-11-21 04:12:09.349|2598649496185647733|NULL               |true               |\n",
      "|2024-11-21 04:18:17.929|5460143888575482310|2598649496185647733|true               |\n",
      "|2024-11-21 04:19:30.612|5056947826345476597|5460143888575482310|true               |\n",
      "|2024-11-21 04:21:24.607|6386723924476925074|5056947826345476597|true               |\n",
      "|2024-11-21 04:26:05.773|5949622908842454111|6386723924476925074|true               |\n",
      "|2024-11-21 04:27:18.065|2571846111905831955|5949622908842454111|true               |\n",
      "+-----------------------+-------------------+-------------------+-------------------+\n",
      "\n"
     ]
    }
   ],
   "source": [
    "spark.sql(\"\"\"SELECT * FROM nessie.lamtran.customer_test.history\"\"\").show(truncate = False)"
   ]
  },
  {
   "cell_type": "code",
   "execution_count": 20,
   "id": "8b3bc495-c059-45b4-ab9c-3b0f23fb1036",
   "metadata": {
    "scrolled": true
   },
   "outputs": [
    {
     "name": "stdout",
     "output_type": "stream",
     "text": [
      "+--------------------+-------------------+\n",
      "|previous_snapshot_id|current_snapshot_id|\n",
      "+--------------------+-------------------+\n",
      "| 2571846111905831955|5949622908842454111|\n",
      "+--------------------+-------------------+\n",
      "\n"
     ]
    }
   ],
   "source": [
    "##1. rollback_to_snapshot\n",
    "spark.sql(\"\"\"CALL nessie.system.rollback_to_snapshot('nessie.lamtran.customer_test', 5949622908842454111)\"\"\").show()"
   ]
  },
  {
   "cell_type": "code",
   "execution_count": 21,
   "id": "863ffe7b-3541-4d09-a5b3-0c5c780cf02a",
   "metadata": {},
   "outputs": [
    {
     "name": "stdout",
     "output_type": "stream",
     "text": [
      "+--------+\n",
      "|count(1)|\n",
      "+--------+\n",
      "|28      |\n",
      "+--------+\n",
      "\n"
     ]
    }
   ],
   "source": [
    "spark.sql(\"\"\"SELECT COUNT(*) FROM nessie.lamtran.customer_test\"\"\").show(truncate = False)"
   ]
  },
  {
   "cell_type": "code",
   "execution_count": 22,
   "id": "204e77bd-6dc6-46f3-9a29-79ec4fba2306",
   "metadata": {},
   "outputs": [
    {
     "name": "stdout",
     "output_type": "stream",
     "text": [
      "+--------------------+-------------------+\n",
      "|previous_snapshot_id|current_snapshot_id|\n",
      "+--------------------+-------------------+\n",
      "| 5949622908842454111|5056947826345476597|\n",
      "+--------------------+-------------------+\n",
      "\n"
     ]
    }
   ],
   "source": [
    "##2.  rollback_to_timestamp\n",
    "spark.sql(\"\"\"CALL nessie.system.rollback_to_timestamp('nessie.lamtran.customer_test', TIMESTAMP '2024-11-21 04:21:24.607')\"\"\").show()"
   ]
  },
  {
   "cell_type": "code",
   "execution_count": 23,
   "id": "47d08918-4761-4ec8-996f-7bf72d62f396",
   "metadata": {},
   "outputs": [
    {
     "name": "stdout",
     "output_type": "stream",
     "text": [
      "+--------+\n",
      "|count(1)|\n",
      "+--------+\n",
      "|29      |\n",
      "+--------+\n",
      "\n"
     ]
    }
   ],
   "source": [
    "spark.sql(\"\"\"SELECT COUNT(*) FROM nessie.lamtran.customer_test\"\"\").show(truncate = False)"
   ]
  },
  {
   "cell_type": "code",
   "execution_count": 24,
   "id": "40631ba4-bda5-4754-b2ee-a8ceebc9f87d",
   "metadata": {},
   "outputs": [
    {
     "name": "stdout",
     "output_type": "stream",
     "text": [
      "+---------+-------+------------+---------+-------+--------------+------+---------+------+--------------+-----------------------+\n",
      "|ACCOUNTID|BANK_ID|CORE_CUST_ID|ORGKEY   |ORGTYPE|NAME          |GENDER|CUST_TYPE|STATUS|PRIMARY_SOL_ID|RELATIONSHIPOPENINGDATE|\n",
      "+---------+-------+------------+---------+-------+--------------+------+---------+------+--------------+-----------------------+\n",
      "|2008140  |1      |119821325   |119821325|Account|NGUYEN *** ANG|F     |10001    |ACTVE |1602          |2018-03-16             |\n",
      "+---------+-------+------------+---------+-------+--------------+------+---------+------+--------------+-----------------------+\n",
      "\n"
     ]
    }
   ],
   "source": [
    "spark.sql(\"\"\"SELECT * FROM nessie.lamtran.customer_test WHERE ACCOUNTID = 2008140\"\"\").show(truncate = False)"
   ]
  },
  {
   "cell_type": "code",
   "execution_count": 25,
   "id": "90d57c95-6e49-4516-bb39-9edf2cf197e5",
   "metadata": {},
   "outputs": [
    {
     "name": "stdout",
     "output_type": "stream",
     "text": [
      "+--------------------+-------------------+\n",
      "|previous_snapshot_id|current_snapshot_id|\n",
      "+--------------------+-------------------+\n",
      "| 5056947826345476597|5056947826345476597|\n",
      "+--------------------+-------------------+\n",
      "\n"
     ]
    }
   ],
   "source": [
    "## 3.\tSet_current_snapshot\n",
    "spark.sql(\"\"\"CALL nessie.system.set_current_snapshot('nessie.lamtran.customer_test', 5056947826345476597)\"\"\").show()"
   ]
  },
  {
   "cell_type": "code",
   "execution_count": 26,
   "id": "2fe299d1-bc14-47cc-a02b-cafdb7395511",
   "metadata": {},
   "outputs": [
    {
     "name": "stdout",
     "output_type": "stream",
     "text": [
      "+--------+\n",
      "|count(1)|\n",
      "+--------+\n",
      "|29      |\n",
      "+--------+\n",
      "\n"
     ]
    }
   ],
   "source": [
    "spark.sql(\"\"\"SELECT COUNT(*) FROM nessie.lamtran.customer_test\"\"\").show(truncate = False)"
   ]
  },
  {
   "cell_type": "code",
   "execution_count": null,
   "id": "69d8e3c9-db7d-4877-93fe-3429ecb7ff75",
   "metadata": {
    "scrolled": true
   },
   "outputs": [],
   "source": [
    "spark.sql(\"\"\"CALL nessie.system.set_current_snapshot( table => 'nessie.lamtran.customer', ref => 's1')\"\"\").show()"
   ]
  },
  {
   "cell_type": "code",
   "execution_count": 27,
   "id": "2eed81b6-d29c-4c1f-9976-d4f767a69de1",
   "metadata": {},
   "outputs": [
    {
     "name": "stdout",
     "output_type": "stream",
     "text": [
      "+---------------+-----------+---------+-------------------+\n",
      "|made_current_at|snapshot_id|parent_id|is_current_ancestor|\n",
      "+---------------+-----------+---------+-------------------+\n",
      "+---------------+-----------+---------+-------------------+\n",
      "\n"
     ]
    }
   ],
   "source": [
    "spark.sql(\"\"\"SELECT * FROM nessie.lamtran.customer.history\"\"\").show(truncate = False)"
   ]
  },
  {
   "cell_type": "code",
   "execution_count": 33,
   "id": "affef35c-c10d-4cbf-bbb9-aeca21e71fbf",
   "metadata": {},
   "outputs": [
    {
     "name": "stdout",
     "output_type": "stream",
     "text": [
      "+-------------------+-------------------+\n",
      "| source_snapshot_id|current_snapshot_id|\n",
      "+-------------------+-------------------+\n",
      "|6386723924476925074|6386723924476925074|\n",
      "+-------------------+-------------------+\n",
      "\n"
     ]
    }
   ],
   "source": [
    "#4. cherrypick_snapshot\n",
    "spark.sql(\"\"\"CALL nessie.system.cherrypick_snapshot('nessie.lamtran.customer_test',6386723924476925074)\"\"\").show()"
   ]
  },
  {
   "cell_type": "code",
   "execution_count": 40,
   "id": "56f7cf42-9708-4611-8642-b247f5fcf78e",
   "metadata": {
    "scrolled": true
   },
   "outputs": [
    {
     "name": "stderr",
     "output_type": "stream",
     "text": [
      "24/11/21 07:15:39 WARN NessieUtil: The Iceberg property 'gc.enabled' and/or 'write.metadata.delete-after-commit.enabled' is enabled on table 'lamtran.customer_test' in NessieCatalog. This will likely make data in other Nessie branches and tags and in earlier, historical Nessie commits inaccessible. The recommended setting for those properties is 'false'. Use the 'nessie-gc' tool for Nessie reference-aware garbage collection.\n"
     ]
    },
    {
     "name": "stdout",
     "output_type": "stream",
     "text": [
      "+-----------------------+-------------------+-------------------+-------------------+\n",
      "|made_current_at        |snapshot_id        |parent_id          |is_current_ancestor|\n",
      "+-----------------------+-------------------+-------------------+-------------------+\n",
      "|2024-11-21 04:12:09.349|2598649496185647733|NULL               |true               |\n",
      "|2024-11-21 04:18:17.929|5460143888575482310|2598649496185647733|true               |\n",
      "|2024-11-21 04:19:30.612|5056947826345476597|5460143888575482310|true               |\n",
      "|2024-11-21 04:21:24.607|6386723924476925074|5056947826345476597|true               |\n",
      "|2024-11-21 04:26:05.773|5949622908842454111|6386723924476925074|false              |\n",
      "|2024-11-21 04:27:18.065|2571846111905831955|5949622908842454111|false              |\n",
      "|2024-11-21 04:29:10.866|5949622908842454111|6386723924476925074|false              |\n",
      "|2024-11-21 04:29:49.619|5056947826345476597|5460143888575482310|true               |\n",
      "|2024-11-21 04:33:06.362|6386723924476925074|5056947826345476597|true               |\n",
      "+-----------------------+-------------------+-------------------+-------------------+\n",
      "\n"
     ]
    }
   ],
   "source": [
    "spark.sql(\"\"\"SELECT * FROM nessie.lamtran.customer_test.history\"\"\").show(truncate = False)"
   ]
  },
  {
   "cell_type": "code",
   "execution_count": null,
   "id": "494666cf-9053-4cfb-9cec-cbea54af9c7e",
   "metadata": {
    "scrolled": true
   },
   "outputs": [],
   "source": [
    "## 5.\tPublish_changes\n",
    "spark.sql(\"\"\"CALL nessie.system.publish_changes('nessie.lamtran.customer','wap_id_1')\"\"\").show()"
   ]
  },
  {
   "cell_type": "code",
   "execution_count": null,
   "id": "0b7ca942-9031-40bc-b89a-80fc2da987c0",
   "metadata": {},
   "outputs": [],
   "source": [
    "# 6. fast_forward\n",
    "spark.sql(\"\"\"CALL nessie.system.fast_forward('nessie.lamtran.customer', 'main', 'audit-branch')\"\"\").show()\n"
   ]
  },
  {
   "cell_type": "code",
   "execution_count": 41,
   "id": "6b4ed4c9-40dd-4f47-ab27-c54072478441",
   "metadata": {},
   "outputs": [
    {
     "name": "stderr",
     "output_type": "stream",
     "text": [
      "24/11/21 07:22:07 WARN NessieUtil: The Iceberg property 'gc.enabled' and/or 'write.metadata.delete-after-commit.enabled' is enabled on table 'lamtran.customer_test' in NessieCatalog. This will likely make data in other Nessie branches and tags and in earlier, historical Nessie commits inaccessible. The recommended setting for those properties is 'false'. Use the 'nessie-gc' tool for Nessie reference-aware garbage collection.\n",
      "[Stage 52:===================================================>  (193 + 4) / 203]\r"
     ]
    },
    {
     "name": "stdout",
     "output_type": "stream",
     "text": [
      "+------------------------+-----------------------------------+-----------------------------------+----------------------------+----------------------------+------------------------------+\n",
      "|deleted_data_files_count|deleted_position_delete_files_count|deleted_equality_delete_files_count|deleted_manifest_files_count|deleted_manifest_lists_count|deleted_statistics_files_count|\n",
      "+------------------------+-----------------------------------+-----------------------------------+----------------------------+----------------------------+------------------------------+\n",
      "|                       1|                                  0|                                  0|                           1|                           2|                             0|\n",
      "+------------------------+-----------------------------------+-----------------------------------+----------------------------+----------------------------+------------------------------+\n",
      "\n"
     ]
    },
    {
     "name": "stderr",
     "output_type": "stream",
     "text": [
      "                                                                                \r"
     ]
    }
   ],
   "source": [
    "# 7.\tExpire_snapshot\n",
    "## Xóa 5 các snapshot sau ngày giờ .... nhưng vẫn giữ lại n bản chụp nhanh gần nhất ý \n",
    "spark.sql(\"\"\"CALL nessie.system.expire_snapshots('nessie.lamtran.customer_test', TIMESTAMP '2024-11-21 04:19:24.607', 2)\"\"\").show()\n",
    "#spark.sql(\"\"\"ALTER TABLE nessie.lamtran.customer_test SET TBLPROPERTIES ('gc.enabled' = 'true')\"\"\")"
   ]
  },
  {
   "cell_type": "code",
   "execution_count": 42,
   "id": "83799435-0f7e-4476-a1d3-71f1c058130e",
   "metadata": {},
   "outputs": [
    {
     "name": "stdout",
     "output_type": "stream",
     "text": [
      "+-----------------------+-------------------+-------------------+-------------------+\n",
      "|made_current_at        |snapshot_id        |parent_id          |is_current_ancestor|\n",
      "+-----------------------+-------------------+-------------------+-------------------+\n",
      "|2024-11-21 04:19:30.612|5056947826345476597|5460143888575482310|true               |\n",
      "|2024-11-21 04:21:24.607|6386723924476925074|5056947826345476597|true               |\n",
      "|2024-11-21 04:26:05.773|5949622908842454111|6386723924476925074|false              |\n",
      "|2024-11-21 04:27:18.065|2571846111905831955|5949622908842454111|false              |\n",
      "|2024-11-21 04:29:10.866|5949622908842454111|6386723924476925074|false              |\n",
      "|2024-11-21 04:29:49.619|5056947826345476597|5460143888575482310|true               |\n",
      "|2024-11-21 04:33:06.362|6386723924476925074|5056947826345476597|true               |\n",
      "+-----------------------+-------------------+-------------------+-------------------+\n",
      "\n"
     ]
    }
   ],
   "source": [
    "spark.sql(\"\"\"SELECT * FROM nessie.lamtran.customer_test.history\"\"\").show(truncate = False)"
   ]
  },
  {
   "cell_type": "code",
   "execution_count": 44,
   "id": "46cc7c08-2169-4144-93d9-7c880efa8503",
   "metadata": {},
   "outputs": [
    {
     "name": "stderr",
     "output_type": "stream",
     "text": [
      "[Stage 71:=====================================================>(200 + 2) / 202]\r"
     ]
    },
    {
     "name": "stdout",
     "output_type": "stream",
     "text": [
      "+------------------------+-----------------------------------+-----------------------------------+----------------------------+----------------------------+------------------------------+\n",
      "|deleted_data_files_count|deleted_position_delete_files_count|deleted_equality_delete_files_count|deleted_manifest_files_count|deleted_manifest_lists_count|deleted_statistics_files_count|\n",
      "+------------------------+-----------------------------------+-----------------------------------+----------------------------+----------------------------+------------------------------+\n",
      "|                       1|                                  0|                                  0|                           2|                           1|                             0|\n",
      "+------------------------+-----------------------------------+-----------------------------------+----------------------------+----------------------------+------------------------------+\n",
      "\n"
     ]
    },
    {
     "name": "stderr",
     "output_type": "stream",
     "text": [
      "                                                                                \r"
     ]
    }
   ],
   "source": [
    "# Thực hiện xóa snapshot tại snapshot_id = 5056947826345476597\n",
    "spark.sql(\"\"\"CALL nessie.system.expire_snapshots(table => 'nessie.lamtran.customer_test', snapshot_ids => ARRAY(5056947826345476597))\"\"\").show()\n"
   ]
  },
  {
   "cell_type": "code",
   "execution_count": 45,
   "id": "4ad9da9c-e6fb-4b2b-bac0-70dd9cbd2bcc",
   "metadata": {},
   "outputs": [
    {
     "name": "stdout",
     "output_type": "stream",
     "text": [
      "+-----------------------+-------------------+-------------------+-------------------+\n",
      "|made_current_at        |snapshot_id        |parent_id          |is_current_ancestor|\n",
      "+-----------------------+-------------------+-------------------+-------------------+\n",
      "|2024-11-21 04:33:06.362|6386723924476925074|5056947826345476597|true               |\n",
      "+-----------------------+-------------------+-------------------+-------------------+\n",
      "\n"
     ]
    }
   ],
   "source": [
    "spark.sql(\"\"\"SELECT * FROM nessie.lamtran.customer_test.history\"\"\").show(truncate = False)"
   ]
  },
  {
   "cell_type": "code",
   "execution_count": 67,
   "id": "a9b691b5-fe23-4e0c-b134-01c54772d3ee",
   "metadata": {
    "scrolled": true
   },
   "outputs": [
    {
     "name": "stdout",
     "output_type": "stream",
     "text": [
      "+--------------------+\n",
      "|count(DISTINCT path)|\n",
      "+--------------------+\n",
      "|                   6|\n",
      "+--------------------+\n",
      "\n"
     ]
    }
   ],
   "source": [
    "spark.sql(\"\"\"SELECT count (DISTINCT path) FROM nessie.lamtran.customer_test.all_manifests\"\"\").show(truncate = True)"
   ]
  },
  {
   "cell_type": "code",
   "execution_count": 55,
   "id": "f173a6d8-997e-4e1a-9598-7a8e8190ad3d",
   "metadata": {},
   "outputs": [
    {
     "name": "stdout",
     "output_type": "stream",
     "text": [
      "+---------------------+\n",
      "|unique_manifest_count|\n",
      "+---------------------+\n",
      "|                    3|\n",
      "+---------------------+\n",
      "\n"
     ]
    }
   ],
   "source": [
    "spark.sql(\"\"\"SELECT count(DISTINCT manifest_list) AS unique_manifest_count from  nessie.lamtran.customer_test.snapshots\"\"\").show(truncate = True)"
   ]
  },
  {
   "cell_type": "code",
   "execution_count": 66,
   "id": "87fc254a-0e11-4592-ba0e-055f204e6845",
   "metadata": {},
   "outputs": [
    {
     "name": "stdout",
     "output_type": "stream",
     "text": [
      "+--------------------+\n",
      "|count(DISTINCT path)|\n",
      "+--------------------+\n",
      "|9                   |\n",
      "+--------------------+\n",
      "\n"
     ]
    }
   ],
   "source": [
    "spark.sql(\"\"\"SELECT count (DISTINCT path)  FROM nessie.lamtran.customer.all_manifests\"\"\").show(truncate = False)"
   ]
  }
 ],
 "metadata": {
  "kernelspec": {
   "display_name": "Python 3",
   "language": "python",
   "name": "python3"
  },
  "language_info": {
   "codemirror_mode": {
    "name": "ipython",
    "version": 3
   },
   "file_extension": ".py",
   "mimetype": "text/x-python",
   "name": "python",
   "nbconvert_exporter": "python",
   "pygments_lexer": "ipython3",
   "version": "3.9.12"
  }
 },
 "nbformat": 4,
 "nbformat_minor": 5
}
