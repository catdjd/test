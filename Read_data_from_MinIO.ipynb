{
 "cells": [
  {
   "cell_type": "code",
   "execution_count": 1,
   "id": "63181adf-8e68-4bf8-8bdf-60da3a4f91cc",
   "metadata": {
    "id": "a29f8ebb-bed5-4cad-83dd-0d4c9c17f727"
   },
   "outputs": [],
   "source": [
    "import pyspark \n",
    "from pyspark.sql  import SparkSession \n",
    "from pyspark.sql.functions import collect_list, col, lit \n",
    "from pyspark.sql.types import StructType, StructField, IntegerType, StringType, DoubleType, TimestampType, DateType, ArrayType\n",
    "import os \n",
    "import json \n",
    "from pyspark.sql.functions import to_date, when"
   ]
  },
  {
   "cell_type": "code",
   "execution_count": 2,
   "id": "51f998ba-072c-4cfb-884e-75ecbf525479",
   "metadata": {
    "id": "51f998ba-072c-4cfb-884e-75ecbf525479"
   },
   "outputs": [],
   "source": [
    "aws_s3_endpoint= \"http://ibm-lh-lakehouse-minio-svc.cpd.svc.cluster.local:9000\"\n",
    "aws_access_key = \"5e2fmxrFtyowmefsv2m42deC\"\n",
    "aws_secret_key =\"sDzei2e6zsodf2zF9ccy03zb\"\n",
    "aws_s3_region = \"us-east-1\" \n",
    "\n",
    "# Khởi tạo SparkSession với các cấu hình MinIO\n",
    "conf = (\n",
    "    pyspark.SparkConf()\n",
    "        .setAppName('raw_to_standard_etl')\n",
    "        .set('spark.jars.packages', \n",
    "             'org.apache.iceberg:iceberg-spark-runtime-3.4_2.12:1.5.0,'\n",
    "                'software.amazon.awssdk:bundle:2.24.8,'\n",
    "                'org.apache.hadoop:hadoop-aws:3.3.4,'  \n",
    "                'org.apache.hadoop:hadoop-common:3.3.4,'  \n",
    "                'io.minio:minio:8.5.0,' \n",
    "                'org.apache.spark:spark-hadoop-cloud_2.13:3.2.1,' \n",
    "                'software.amazon.awssdk:url-connection-client:2.24.8,' \n",
    "                'com.amazonaws:aws-java-sdk-bundle:1.12.207')\n",
    "        .set('spark.sql.extensions', 'org.apache.iceberg.spark.extensions.IcebergSparkSessionExtensions,org.projectnessie.spark.extensions.NessieSparkSessionExtensions')\n",
    "        .set('spark.hadoop.fs.s3a.access.key', aws_access_key)\n",
    "        .set('spark.hadoop.fs.s3a.secret.key', aws_secret_key)\n",
    "        .set('spark.hadoop.fs.s3a.endpoint', aws_s3_endpoint)\n",
    "        .set('spark.hadoop.fs.s3a.region', aws_s3_region)\n",
    "        .set('spark.hadoop.fs.s3a.path.style.access', 'true')\n",
    "        .set('spark.hadoop.fs.s3a.impl', 'org.apache.hadoop.fs.s3a.S3AFileSystem')\n",
    "        .set('spark.hadoop.fs.s3a.aws.credentials.provider', 'org.apache.hadoop.fs.s3a.SimpleAWSCredentialsProvider')\n",
    "        .set('spark.hadoop.fs.s3a.connection.ssl.enabled', 'false')\n",
    "        .set('spark.hadoop.fs.s3a.aws.credentials.provider', \n",
    "             'org.apache.hadoop.fs.s3a.SimpleAWSCredentialsProvider,'\n",
    "             'org.apache.hadoop.fs.s3a.EnvironmentVariableCredentialsProvider')\n",
    "        .set('spark.sql.extensions', \n",
    "             'org.apache.iceberg.spark.extensions.IcebergSparkSessionExtensions,'\n",
    "             'org.projectnessie.spark.extensions.NessieSparkSessionExtensions')\n",
    ")\n",
    "spark = SparkSession.builder.config(conf=conf).getOrCreate()"
   ]
  },
  {
   "cell_type": "code",
   "execution_count": 3,
   "id": "654d8b6d-9b19-4267-b2a4-932d223531f6",
   "metadata": {
    "id": "654d8b6d-9b19-4267-b2a4-932d223531f6"
   },
   "outputs": [],
   "source": [
    "sc = spark.sparkContext\n",
    "sc._jsc.hadoopConfiguration().set(\"fs.s3a.access.key\", aws_access_key)\n",
    "sc._jsc.hadoopConfiguration().set(\"fs.s3a.secret.key\", aws_secret_key)\n",
    "sc._jsc.hadoopConfiguration().set(\"fs.s3a.endpoint\", aws_s3_endpoint)\n",
    "sc._jsc.hadoopConfiguration().set(\"fs.s3a.path.style.access\", \"true\")"
   ]
  },
  {
   "cell_type": "code",
   "execution_count": 6,
   "id": "61f0238b-0b23-46f8-af32-8ef1aa701b10",
   "metadata": {
    "id": "61f0238b-0b23-46f8-af32-8ef1aa701b10"
   },
   "outputs": [
    {
     "name": "stdout",
     "output_type": "stream",
     "text": [
      "+-------+---------+---------+-------+--------------+---+-----+-----+----+----------+\n",
      "|    _c0|      _c1|      _c2|    _c3|           _c4|_c5|  _c6|  _c7| _c8|       _c9|\n",
      "+-------+---------+---------+-------+--------------+---+-----+-----+----+----------+\n",
      "|1564506|113391457|113391457|Account|TRAN T *** YEN|  F|10001|ACTVE|1003| 3/12/2018|\n",
      "| 958931|106573034|106573034|Account|NGUYEN *** ANH|  F|10001|ACTVE|1003| 7/10/2002|\n",
      "| 958933|106573058|106573058|Account|LE THI *** OAN|  F|10001|ACTVE|1003| 7/10/2002|\n",
      "| 860046|105279370|105279370|Account|NGUYEN *** YEN|  M|10001|ACTVE|1003|17-06-2019|\n",
      "| 958932|106573046|106573046|Account|PHAN G ***  TU|  M|10001|ACTVE|1003| 7/10/2002|\n",
      "| 958934|106573072|106573072|Account|LE KIM *** OAN|  F|10001|ACTVE|1003| 7/10/2002|\n",
      "| 860047|105279435|105279435|Account|LE ANH ***  TU|  M|10001|ACTVE|1003| 10/2/2017|\n",
      "|2008144|119822032|119822032|Account|HO VAN *** DAT|  M|10001|ACTVE|1003|27-09-2018|\n",
      "+-------+---------+---------+-------+--------------+---+-----+-----+----+----------+\n",
      "\n"
     ]
    }
   ],
   "source": [
    "bucket_name = \"hive-bucket\"\n",
    "file_name = \"account\"\n",
    "file_path = f\"s3a://{bucket_name}/{file_name}\"\n",
    "\n",
    "# Đọc tệp CSV từ MinIO\n",
    "df = spark.read.csv(file_path, header = False)\n",
    "df.show()\n"
   ]
  }
 ],
 "metadata": {
  "kernelspec": {
   "display_name": "Python 3.11 with Spark",
   "language": "python3",
   "name": "python311"
  },
  "language_info": {
   "codemirror_mode": {
    "name": "ipython",
    "version": 3
   },
   "file_extension": ".py",
   "mimetype": "text/x-python",
   "name": "python",
   "nbconvert_exporter": "python",
   "pygments_lexer": "ipython3",
   "version": "3.11.9"
  }
 },
 "nbformat": 4,
 "nbformat_minor": 5
}
