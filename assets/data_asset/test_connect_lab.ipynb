{
 "cells": [
  {
   "cell_type": "code",
   "execution_count": 1,
   "id": "e5e04c7e-f966-42b9-9a55-c5ab2c32c5dc",
   "metadata": {
    "id": "55b8e177-41b5-4465-a0ad-88f740395708"
   },
   "outputs": [],
   "source": [
    "import pyspark \n",
    "from pyspark.sql  import SparkSession \n",
    "from pyspark.sql.functions import collect_list, col, lit \n",
    "from pyspark.sql.types import StructType, StructField, IntegerType, StringType, DoubleType, TimestampType, DateType, ArrayType\n",
    "import os \n",
    "import json \n",
    "from pyspark.sql.functions import to_date, when\n",
    "from urllib.parse import urlparse"
   ]
  },
  {
   "cell_type": "code",
   "execution_count": 2,
   "id": "bc6b77dd-daff-4cbf-86e8-e1fdad713b2c",
   "metadata": {
    "id": "51364a08-920a-4663-bbf7-e2356e2c1aae"
   },
   "outputs": [],
   "source": [
    "aws_access_key = \"gROKOCHUyHipWdVYEMoi\"\n",
    "aws_secret_key = \"DVAEcJ7qxZNlisV43jZc7bUIEK5rZI7YK6HP7bkl\"\n",
    "aws_s3_endpoint = \"http://122.248.249.238:9000\" \n",
    "aws_s3_region = \"us-east-1\" \n",
    "nessi_warehouse = \"s3a://standardize\"\n",
    "nessi_uri = \"http://122.248.249.238:19120/api/v1\"\n",
    "raw_csv_path = \"s3a://raw/CRMUSER_ACCOUNTS.csv\""
   ]
  },
  {
   "cell_type": "code",
   "execution_count": 4,
   "id": "908d96ad-cf83-4f58-833d-cdf4d050663f",
   "metadata": {
    "id": "908d96ad-cf83-4f58-833d-cdf4d050663f"
   },
   "outputs": [
    {
     "name": "stdout",
     "output_type": "stream",
     "text": [
      "--2024-12-19 06:34:55--  https://repo1.maven.org/maven2/org/apache/iceberg/iceberg-aws-bundle/1.5.2/iceberg-aws-bundle-1.5.2.jar\n",
      "Resolving repo1.maven.org (repo1.maven.org)... 146.75.28.209, 2a04:4e42:77::209\n",
      "Connecting to repo1.maven.org (repo1.maven.org)|146.75.28.209|:443... connected.\n",
      "HTTP request sent, awaiting response... 200 OK\n",
      "Length: 30512098 (29M) [application/java-archive]\n",
      "Saving to: ‘iceberg-aws-bundle-1.5.2.jar’\n",
      "\n",
      "iceberg-aws-bundle- 100%[===================>]  29.10M  94.3MB/s    in 0.3s    \n",
      "\n",
      "2024-12-19 06:34:55 (94.3 MB/s) - ‘iceberg-aws-bundle-1.5.2.jar’ saved [30512098/30512098]\n",
      "\n"
     ]
    }
   ],
   "source": [
    "!wget https://repo1.maven.org/maven2/org/apache/iceberg/iceberg-aws-bundle/1.5.2/iceberg-aws-bundle-1.5.2.jar"
   ]
  },
  {
   "cell_type": "code",
   "execution_count": 3,
   "id": "bfaabb93-5afe-4e68-a5c9-db32c7b5108d",
   "metadata": {
    "id": "05746b73-262a-4b5c-b813-3ba22674d904"
   },
   "outputs": [],
   "source": [
    "conf = (\n",
    "    pyspark.SparkConf()\n",
    "        .setAppName('raw_to_standard_etl')\n",
    "        .set('spark.jars.packages', \n",
    "             'org.apache.iceberg:iceberg-spark-runtime-3.4_2.12:1.5.0,'\n",
    "             'org.projectnessie.nessie-integrations:nessie-spark-extensions-3.4_2.12:0.77.0,'\n",
    "             'software.amazon.awssdk:bundle:2.24.8,'\n",
    "             'org.apache.iceberg:iceberg-nessie:1.4.0,'\n",
    "             'org.apache.hadoop:hadoop-aws:3.3.4,'  \n",
    "             'org.apache.hadoop:hadoop-common:3.3.4,' \n",
    "             'org.apache.iceberg:iceberg-aws-bundle:1.5.2,'\n",
    "             'io.minio:minio:8.5.0,'\n",
    "             'org.apache.spark:spark-hadoop-cloud_2.13:3.2.1,'\n",
    "             'software.amazon.awssdk:url-connection-client:2.24.8,'\n",
    "             'com.amazonaws:aws-java-sdk-bundle:1.12.207')\n",
    "        .set('spark.sql.extensions', 'org.apache.iceberg.spark.extensions.IcebergSparkSessionExtensions,org.projectnessie.spark.extensions.NessieSparkSessionExtensions')\n",
    "        .set('spark.sql.catalog.nessie', 'org.apache.iceberg.spark.SparkCatalog')\n",
    "        .set('spark.sql.catalog.nessie.uri', nessi_uri)\n",
    "        .set('spark.sql.catalog.nessie.ref', 'main')\n",
    "        .set('spark.sql.catalog.nessie.authentication.type', 'NONE')\n",
    "        .set('spark.sql.catalog.nessie.catalog-impl', 'org.apache.iceberg.nessie.NessieCatalog')\n",
    "        .set('spark.sql.catalog.nessie.s3.endpoint', aws_s3_endpoint)\n",
    "        .set('spark.sql.catalog.nessie.warehouse', nessi_warehouse)\n",
    "        .set('spark.sql.catalog.nessie.io-impl', 'org.apache.iceberg.aws.s3.S3FileIO')\n",
    "        .set('spark.hadoop.fs.s3a.access.key', aws_access_key)\n",
    "        .set('spark.hadoop.fs.s3a.secret.key', aws_secret_key)\n",
    "        .set('spark.hadoop.fs.s3a.endpoint', aws_s3_endpoint)\n",
    "        .set('spark.hadoop.fs.s3a.region', aws_s3_region)\n",
    "        .set('spark.hadoop.fs.s3a.path.style.access', 'true')\n",
    "        .set('spark.hadoop.fs.s3a.impl', 'org.apache.hadoop.fs.s3a.S3AFileSystem')\n",
    "        .set('spark.hadoop.fs.s3a.aws.credentials.provider', 'org.apache.hadoop.fs.s3a.SimpleAWSCredentialsProvider')\n",
    "        .set('spark.hadoop.fs.s3a.connection.ssl.enabled', 'false')\n",
    "        .set('spark.hadoop.fs.s3a.aws.credentials.provider', \n",
    "             'org.apache.hadoop.fs.s3a.SimpleAWSCredentialsProvider,'\n",
    "             'org.apache.hadoop.fs.s3a.EnvironmentVariableCredentialsProvider')\n",
    ")"
   ]
  },
  {
   "cell_type": "code",
   "execution_count": 5,
   "id": "fa7b9cbb-14d5-4db9-9707-c256fc648e76",
   "metadata": {
    "id": "321b88d4-9bfb-47e2-a0dc-837e027f3240",
    "scrolled": true
   },
   "outputs": [],
   "source": [
    "spark = SparkSession.builder.config(conf=conf).getOrCreate()\n",
    "sc = spark.sparkContext\n",
    "sc._jsc.hadoopConfiguration().set(\"fs.s3a.access.key\", aws_access_key)\n",
    "sc._jsc.hadoopConfiguration().set(\"fs.s3a.secret.key\", aws_secret_key)\n",
    "sc._jsc.hadoopConfiguration().set(\"fs.s3a.endpoint\", aws_s3_endpoint)\n",
    "sc._jsc.hadoopConfiguration().set(\"fs.s3a.path.style.access\", \"true\")"
   ]
  },
  {
   "cell_type": "code",
   "execution_count": 6,
   "id": "93b39e73-1628-4716-a022-3c577b8d9a6f",
   "metadata": {
    "id": "aa9d961f-1069-4e0e-aea6-5b06f1674c94"
   },
   "outputs": [
    {
     "name": "stdout",
     "output_type": "stream",
     "text": [
      "+---------+-------+------------+---------+-------+--------------+------+---------+------+--------------+-----------------------+\n",
      "|ACCOUNTID|BANK_ID|CORE_CUST_ID|   ORGKEY|ORGTYPE|          NAME|GENDER|CUST_TYPE|STATUS|PRIMARY_SOL_ID|RELATIONSHIPOPENINGDATE|\n",
      "+---------+-------+------------+---------+-------+--------------+------+---------+------+--------------+-----------------------+\n",
      "|        1|      1|   113391407|113391407|Account|TRAN T *** HAI|     M|    10001| ACTVE|          1404|             23-02-2018|\n",
      "|        2|      1|   113391457|113391457|Account|TRAN T *** YEN|     F|    10001| ACTVE|          1003|              3/12/2018|\n",
      "|        3|      1|   113391483|113391483|Account|TRAN T *** BAC|     F|    10001| ACTVE|          2201|             15-06-2018|\n",
      "|        4|      1|   105260800|105260800|Account|NGUYEN *** UNG|     M|    10001| ACTVE|          1401|             16-11-2018|\n",
      "|        5|      1|   106573010|106573010|Account|TRAN N *** ANH|     M|    10001| ACTVE|          1600|              7/10/2002|\n",
      "|        6|      1|   106573034|106573034|Account|NGUYEN *** ANH|     F|    10001| ACTVE|          1003|              7/10/2002|\n",
      "|        7|      1|   106573046|106573046|Account|PHAN G ***  TU|     M|    10001| ACTVE|          1003|              7/10/2002|\n",
      "|        8|      1|   106573058|106573058|Account|LE THI *** OAN|     F|    10001| ACTVE|          1003|              7/10/2002|\n",
      "|        9|      1|   106573072|106573072|Account|LE KIM *** OAN|     F|    10001| ACTVE|          1003|              7/10/2002|\n",
      "|       10|      1|   118013294|118013294|Account|CHIU T *** UAN|     F|    10001| ACTVE|          1402|              7/10/2002|\n",
      "|       11|      1|   119967428|119967428|Account|NGUYEN *** UAN|     F|    10001| ACTVE|          1601|             14-01-2019|\n",
      "|       12|      1|   106573084|106573084|Account|NGUYEN *** THU|     F|    10001| ACTVE|          1700|             21-01-2019|\n",
      "|       13|      1|   105279368|105279368|Account|CAO HO *** ONG|     M|    10001| ACTVE|          1502|             20-02-2019|\n",
      "|       14|      1|   105279370|105279370|Account|NGUYEN *** YEN|     M|    10001| ACTVE|          1003|             17-06-2019|\n",
      "|       15|      1|   105279435|105279435|Account|LE ANH ***  TU|     M|    10001| ACTVE|          1003|              10/2/2017|\n",
      "|       16|      1|   105268371|105268371|Account|NGO TH *** ANH|     F|    10001| ACTVE|          1015|             25-08-2017|\n",
      "|       17|      1|   105268383|105268383|Account|HUYNH  *** HUY|     F|    10001| ACTVE|          1401|               7/3/2018|\n",
      "|       18|      1|   105268400|105268400|Account|PHAM T *** ANG|     F|    10001| ACTVE|          2100|             14-03-2018|\n",
      "|       19|      1|   119821325|119821325|Account|NGUYEN *** ANG|     F|    10001| ACTVE|          1602|             16-03-2018|\n",
      "|       20|      1|   119821404|119821404|Account|NGUYEN *** OAI|     F|    10001| ACTVE|          1602|             23-03-2018|\n",
      "|       21|      1|   119821997|119821997|Account|DO VAN *** HUY|     M|    10001| ACTVE|          1603|               6/7/2018|\n",
      "|       22|      1|   119822006|119822006|Account|VO PHU *** ONG|     F|    10001| ACTVE|          2108|             24-07-2018|\n",
      "|       23|      1|   119822032|119822032|Account|HO VAN *** DAT|     M|    10001| ACTVE|          1003|             27-09-2018|\n",
      "|       24|      1|   119822161|119822161|Account|PHAN K *** ANH|     F|    10001| ACTVE|          2109|              7/12/2018|\n",
      "|       25|      1|   119822252|119822252|Account|NGUYEN *** VAN|     M|    10001| ACTVE|          1509|               1/7/2019|\n",
      "|       26|      1|   119808854|119808854|Account|NGUYEN *** ANH|     M|    10001| ACTVE|          1901|             30-09-2019|\n",
      "|       27|      1|   105288852|105288852|Account|TRINH  *** OAN|     F|    10001| ACTVE|          1004|             18-01-2017|\n",
      "|       28|      1|   111034562|111034562|Account|NGUYEN *** UNG|     F|    10001| ACTVE|          1603|             22-02-2017|\n",
      "+---------+-------+------------+---------+-------+--------------+------+---------+------+--------------+-----------------------+\n",
      "\n"
     ]
    }
   ],
   "source": [
    "raw_df = spark.read.csv(raw_csv_path, header=True) \n",
    "raw_df.show(50)"
   ]
  },
  {
   "cell_type": "code",
   "execution_count": 7,
   "id": "75d0e5e0-69c9-4b19-bd58-4dd24220e09c",
   "metadata": {
    "id": "591e40ee-99f1-42a5-95d1-cefc19007b8f"
   },
   "outputs": [
    {
     "ename": "IllegalArgumentException",
     "evalue": "Cannot initialize FileIO implementation org.apache.iceberg.aws.s3.S3FileIO: Cannot find constructor for interface org.apache.iceberg.io.FileIO\n\tMissing org.apache.iceberg.aws.s3.S3FileIO [java.lang.NoClassDefFoundError: software.amazon.awssdk.services.s3.model.S3Exception]",
     "output_type": "error",
     "traceback": [
      "\u001b[0;31m---------------------------------------------------------------------------\u001b[0m",
      "\u001b[0;31mIllegalArgumentException\u001b[0m                  Traceback (most recent call last)",
      "Cell \u001b[0;32mIn[7], line 1\u001b[0m\n\u001b[0;32m----> 1\u001b[0m spark\u001b[38;5;241m.\u001b[39msql(\u001b[38;5;124m\"\u001b[39m\u001b[38;5;124mCREATE NAMESPACE nessie.lamtran;\u001b[39m\u001b[38;5;124m\"\u001b[39m)\u001b[38;5;241m.\u001b[39mshow()\n",
      "File \u001b[0;32m/opt/ibm/spark/python/lib/pyspark.zip/pyspark/sql/session.py:1440\u001b[0m, in \u001b[0;36mSparkSession.sql\u001b[0;34m(self, sqlQuery, args, **kwargs)\u001b[0m\n\u001b[1;32m   1438\u001b[0m \u001b[38;5;28;01mtry\u001b[39;00m:\n\u001b[1;32m   1439\u001b[0m     litArgs \u001b[38;5;241m=\u001b[39m {k: _to_java_column(lit(v)) \u001b[38;5;28;01mfor\u001b[39;00m k, v \u001b[38;5;129;01min\u001b[39;00m (args \u001b[38;5;129;01mor\u001b[39;00m {})\u001b[38;5;241m.\u001b[39mitems()}\n\u001b[0;32m-> 1440\u001b[0m     \u001b[38;5;28;01mreturn\u001b[39;00m DataFrame(\u001b[38;5;28mself\u001b[39m\u001b[38;5;241m.\u001b[39m_jsparkSession\u001b[38;5;241m.\u001b[39msql(sqlQuery, litArgs), \u001b[38;5;28mself\u001b[39m)\n\u001b[1;32m   1441\u001b[0m \u001b[38;5;28;01mfinally\u001b[39;00m:\n\u001b[1;32m   1442\u001b[0m     \u001b[38;5;28;01mif\u001b[39;00m \u001b[38;5;28mlen\u001b[39m(kwargs) \u001b[38;5;241m>\u001b[39m \u001b[38;5;241m0\u001b[39m:\n",
      "File \u001b[0;32m/opt/ibm/spark/python/lib/py4j-0.10.9.7-src.zip/py4j/java_gateway.py:1322\u001b[0m, in \u001b[0;36mJavaMember.__call__\u001b[0;34m(self, *args)\u001b[0m\n\u001b[1;32m   1316\u001b[0m command \u001b[38;5;241m=\u001b[39m proto\u001b[38;5;241m.\u001b[39mCALL_COMMAND_NAME \u001b[38;5;241m+\u001b[39m\\\n\u001b[1;32m   1317\u001b[0m     \u001b[38;5;28mself\u001b[39m\u001b[38;5;241m.\u001b[39mcommand_header \u001b[38;5;241m+\u001b[39m\\\n\u001b[1;32m   1318\u001b[0m     args_command \u001b[38;5;241m+\u001b[39m\\\n\u001b[1;32m   1319\u001b[0m     proto\u001b[38;5;241m.\u001b[39mEND_COMMAND_PART\n\u001b[1;32m   1321\u001b[0m answer \u001b[38;5;241m=\u001b[39m \u001b[38;5;28mself\u001b[39m\u001b[38;5;241m.\u001b[39mgateway_client\u001b[38;5;241m.\u001b[39msend_command(command)\n\u001b[0;32m-> 1322\u001b[0m return_value \u001b[38;5;241m=\u001b[39m get_return_value(\n\u001b[1;32m   1323\u001b[0m     answer, \u001b[38;5;28mself\u001b[39m\u001b[38;5;241m.\u001b[39mgateway_client, \u001b[38;5;28mself\u001b[39m\u001b[38;5;241m.\u001b[39mtarget_id, \u001b[38;5;28mself\u001b[39m\u001b[38;5;241m.\u001b[39mname)\n\u001b[1;32m   1325\u001b[0m \u001b[38;5;28;01mfor\u001b[39;00m temp_arg \u001b[38;5;129;01min\u001b[39;00m temp_args:\n\u001b[1;32m   1326\u001b[0m     \u001b[38;5;28;01mif\u001b[39;00m \u001b[38;5;28mhasattr\u001b[39m(temp_arg, \u001b[38;5;124m\"\u001b[39m\u001b[38;5;124m_detach\u001b[39m\u001b[38;5;124m\"\u001b[39m):\n",
      "File \u001b[0;32m/opt/ibm/spark/python/lib/pyspark.zip/pyspark/errors/exceptions/captured.py:175\u001b[0m, in \u001b[0;36mcapture_sql_exception.<locals>.deco\u001b[0;34m(*a, **kw)\u001b[0m\n\u001b[1;32m    171\u001b[0m converted \u001b[38;5;241m=\u001b[39m convert_exception(e\u001b[38;5;241m.\u001b[39mjava_exception)\n\u001b[1;32m    172\u001b[0m \u001b[38;5;28;01mif\u001b[39;00m \u001b[38;5;129;01mnot\u001b[39;00m \u001b[38;5;28misinstance\u001b[39m(converted, UnknownException):\n\u001b[1;32m    173\u001b[0m     \u001b[38;5;66;03m# Hide where the exception came from that shows a non-Pythonic\u001b[39;00m\n\u001b[1;32m    174\u001b[0m     \u001b[38;5;66;03m# JVM exception message.\u001b[39;00m\n\u001b[0;32m--> 175\u001b[0m     \u001b[38;5;28;01mraise\u001b[39;00m converted \u001b[38;5;28;01mfrom\u001b[39;00m \u001b[38;5;28;01mNone\u001b[39;00m\n\u001b[1;32m    176\u001b[0m \u001b[38;5;28;01melse\u001b[39;00m:\n\u001b[1;32m    177\u001b[0m     \u001b[38;5;28;01mraise\u001b[39;00m\n",
      "\u001b[0;31mIllegalArgumentException\u001b[0m: Cannot initialize FileIO implementation org.apache.iceberg.aws.s3.S3FileIO: Cannot find constructor for interface org.apache.iceberg.io.FileIO\n\tMissing org.apache.iceberg.aws.s3.S3FileIO [java.lang.NoClassDefFoundError: software.amazon.awssdk.services.s3.model.S3Exception]"
     ]
    }
   ],
   "source": [
    "spark.sql(\"CREATE NAMESPACE nessie.lamtran;\").show()"
   ]
  }
 ],
 "metadata": {
  "kernelspec": {
   "display_name": "Python 3.11 with Spark",
   "language": "python3",
   "name": "python311"
  },
  "language_info": {
   "codemirror_mode": {
    "name": "ipython",
    "version": 3
   },
   "file_extension": ".py",
   "mimetype": "text/x-python",
   "name": "python",
   "nbconvert_exporter": "python",
   "pygments_lexer": "ipython3",
   "version": "3.11.9"
  }
 },
 "nbformat": 4,
 "nbformat_minor": 5
}
