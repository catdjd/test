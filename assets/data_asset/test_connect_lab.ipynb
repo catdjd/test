{
 "cells": [
  {
   "cell_type": "code",
   "execution_count": 7,
   "id": "e5e04c7e-f966-42b9-9a55-c5ab2c32c5dc",
   "metadata": {
    "id": "e5e04c7e-f966-42b9-9a55-c5ab2c32c5dc"
   },
   "outputs": [],
   "source": [
    "import pyspark \n",
    "from pyspark.sql  import SparkSession \n",
    "from pyspark.sql.functions import collect_list, col, lit \n",
    "from pyspark.sql.types import StructType, StructField, IntegerType, StringType, DoubleType, TimestampType, DateType, ArrayType\n",
    "import os \n",
    "import json \n",
    "from pyspark.sql.functions import to_date, when\n",
    "from urllib.parse import urlparse"
   ]
  },
  {
   "cell_type": "code",
   "execution_count": 8,
   "id": "bc6b77dd-daff-4cbf-86e8-e1fdad713b2c",
   "metadata": {
    "id": "bc6b77dd-daff-4cbf-86e8-e1fdad713b2c"
   },
   "outputs": [],
   "source": [
    "aws_access_key = \"gROKOCHUyHipWdVYEMoi\"\n",
    "aws_secret_key = \"DVAEcJ7qxZNlisV43jZc7bUIEK5rZI7YK6HP7bkl\"\n",
    "aws_s3_endpoint = \"http://122.248.249.238:9000\" \n",
    "aws_s3_region = \"us-east-1\" \n",
    "nessi_warehouse = \"s3a://standardize\"\n",
    "nessi_uri = \"http://122.248.249.238:19120/api/v1\"\n",
    "raw_csv_path = \"s3a://raw/CRMUSER_ACCOUNTS.csv\""
   ]
  },
  {
   "cell_type": "code",
   "execution_count": null,
   "id": "16da0783-6f94-4322-88c7-a5cf50d1557e",
   "metadata": {
    "id": "16da0783-6f94-4322-88c7-a5cf50d1557e"
   },
   "outputs": [],
   "source": [
    "with open(\"./requirements.txt\", \"r\") as f:\n",
    "    jar_files = [line.strip() for line in f if line.strip()] "
   ]
  },
  {
   "cell_type": "code",
   "execution_count": null,
   "id": "9c6e6d76-883c-4660-b710-2d4ab41689da",
   "metadata": {
    "id": "9c6e6d76-883c-4660-b710-2d4ab41689da"
   },
   "outputs": [],
   "source": [
    "import itc_utils.flight_service as itcfs\n",
    "\n",
    "# Cấu hình dữ liệu yêu cầu\n",
    "nb_data_request = {\n",
    "    'data_name': \"\"\"requirement.txt\"\"\",  # Đặt tên cho file bạn muốn đọc\n",
    "    'interaction_properties': {\n",
    "        'infer_schema': 'true',  # Cấu hình tự động suy diễn schema\n",
    "        'infer_as_varchar': 'false'\n",
    "    }\n",
    "}\n",
    "\n",
    "# Lấy thông tin yêu cầu Flight từ dịch vụ\n",
    "flight_request = itcfs.get_data_request(nb_data_request=nb_data_request)\n",
    "\n",
    "# Đọc dữ liệu từ file requirements.txt sử dụng Flight Service\n",
    "sp_df_0 = spark.read.format(\"com.ibm.connect.spark.flight\") \\\n",
    "    .option(\"flight.location\", itcfs.get_flight_service_url()) \\\n",
    "    .option(\"flight.command\", itcfs.get_flight_cmd(data_request=flight_request)) \\\n",
    "    .option(\"flight.authToken\", itcfs.get_bearer_token()) \\\n",
    "    .load()\n",
    "\n",
    "# Hiển thị 10 dòng dữ liệu từ file txt (nếu có dữ liệu)\n",
    "sp_df_0.show(10)\n"
   ]
  },
  {
   "cell_type": "code",
   "execution_count": null,
   "id": "57b48a7f-0bce-449f-832a-1658c23931c6",
   "metadata": {
    "id": "57b48a7f-0bce-449f-832a-1658c23931c6"
   },
   "outputs": [],
   "source": [
    "jar_files = sp_df_0.select(\"jars\").rdd.flatMap(lambda x: x).collect()\n",
    "print(jar_files)"
   ]
  },
  {
   "cell_type": "code",
   "execution_count": null,
   "id": "908d96ad-cf83-4f58-833d-cdf4d050663f",
   "metadata": {
    "id": "908d96ad-cf83-4f58-833d-cdf4d050663f",
    "scrolled": true
   },
   "outputs": [],
   "source": [
    "!wget https://repo1.maven.org/maven2/org/apache/iceberg/iceberg-aws-bundle/1.5.2/iceberg-aws-bundle-1.5.2.jar\n",
    "!wget https://repo1.maven.org/maven2/org/apache/iceberg/iceberg-spark-runtime-3.4_2.12/1.5.0/iceberg-spark-runtime-3.4_2.12-1.5.0.jar\n",
    "!wget https://repo1.maven.org/maven2/org/apache/iceberg/iceberg-common/1.4.0/iceberg-common-1.4.0.jar\n",
    "!wget https://repo1.maven.org/maven2/org/apache/iceberg/iceberg-core/1.4.0/iceberg-core-1.4.0.jar\n",
    "!wget https://repo1.maven.org/maven2/org/apache/iceberg/iceberg-bundled-guava/1.4.0/iceberg-bundled-guava-1.4.0.jar\n",
    "!wget https://repo1.maven.org/maven2/org/apache/iceberg/iceberg-nessie/1.4.0/iceberg-nessie-1.4.0.jar\n",
    "\n",
    "# Nessie\n",
    "!wget https://repo1.maven.org/maven2/org/projectnessie/nessie-integrations/nessie-spark-extensions-3.4_2.12/0.77.1/nessie-spark-extensions-3.4_2.12-0.77.1.jar\n",
    "!wget https://repo1.maven.org/maven2/org/projectnessie/nessie/nessie-client/0.71.0/nessie-client-0.71.0.jar\n",
    "!wget https://repo1.maven.org/maven2/org/projectnessie/nessie/nessie-model/0.71.0/nessie-model-0.71.0.jar\n",
    "\n",
    "# AWS SDK\n",
    "!wget https://repo1.maven.org/maven2/software/amazon/awssdk/url-connection-client/2.24.8/url-connection-client-2.24.8.jar\n",
    "!wget https://repo1.maven.org/maven2/software/amazon/awssdk/utils/2.24.8/utils-2.24.8.jar\n",
    "!wget https://repo1.maven.org/maven2/software/amazon/awssdk/http-client-spi/2.24.8/http-client-spi-2.24.8.jar\n",
    "!wget https://repo1.maven.org/maven2/software/amazon/awssdk/metrics-spi/2.24.8/metrics-spi-2.24.8.jar\n",
    "!wget https://repo1.maven.org/maven2/software/amazon/awssdk/annotations/2.24.8/annotations-2.24.8.jar\n",
    "\n",
    "# Hadoop\n",
    "!wget https://repo1.maven.org/maven2/org/apache/hadoop/hadoop-aws/3.3.4/hadoop-aws-3.3.4.jar\n",
    "!wget https://repo1.maven.org/maven2/org/apache/hadoop/hadoop-common/3.3.4/hadoop-common-3.3.4.jar\n",
    "!wget https://repo1.maven.org/maven2/org/apache/hadoop/hadoop-auth/3.3.4/hadoop-auth-3.3.4.jar\n",
    "!wget https://repo1.maven.org/maven2/org/apache/hadoop/hadoop-annotations/3.3.4/hadoop-annotations-3.3.4.jar\n",
    "\n",
    "# AWS Java SDK\n",
    "!wget https://repo1.maven.org/maven2/com/amazonaws/aws-java-sdk-bundle/1.12.262/aws-java-sdk-bundle-1.12.262.jar\n",
    "\n",
    "# Support Libraries\n",
    "!wget https://repo1.maven.org/maven2/com/fasterxml/jackson/core/jackson-core/2.15.2/jackson-core-2.15.2.jar\n",
    "!wget https://repo1.maven.org/maven2/com/fasterxml/jackson/core/jackson-databind/2.15.2/jackson-databind-2.15.2.jar\n",
    "!wget https://repo1.maven.org/maven2/com/fasterxml/jackson/core/jackson-annotations/2.15.2/jackson-annotations-2.15.2.jar\n",
    "!wget https://repo1.maven.org/maven2/org/slf4j/slf4j-api/1.7.36/slf4j-api-1.7.36.jar\n",
    "!wget https://repo1.maven.org/maven2/org/slf4j/slf4j-reload4j/1.7.36/slf4j-reload4j-1.7.36.jar\n",
    "!wget https://repo1.maven.org/maven2/org/apache/commons/commons-compress/1.21/commons-compress-1.21.jar\n",
    "!wget https://repo1.maven.org/maven2/org/apache/avro/avro/1.11.1/avro-1.11.1.jar\n",
    "!wget https://repo1.maven.org/maven2/io/airlift/aircompressor/0.25/aircompressor-0.25.jar\n",
    "\n",
    "# Additional Required Dependencies\n",
    "!wget https://repo1.maven.org/maven2/org/apache/commons/commons-lang3/3.12.0/commons-lang3-3.12.0.jar\n",
    "!wget https://repo1.maven.org/maven2/commons-codec/commons-codec/1.15/commons-codec-1.15.jar\n",
    "!wget https://repo1.maven.org/maven2/org/apache/commons/commons-text/1.4/commons-text-1.4.jar\n",
    "!wget https://repo1.maven.org/maven2/commons-io/commons-io/2.8.0/commons-io-2.8.0.jar\n",
    "!wget https://repo1.maven.org/maven2/com/google/guava/guava/30.1.1-jre/guava-30.1.1-jre.jar\n",
    "!wget https://repo1.maven.org/maven2/org/roaringbitmap/RoaringBitmap/0.9.47/RoaringBitmap-0.9.47.jar"
   ]
  },
  {
   "cell_type": "code",
   "execution_count": null,
   "id": "986cb2e5-b919-47a8-bf23-242c7b7372cb",
   "metadata": {
    "id": "986cb2e5-b919-47a8-bf23-242c7b7372cb"
   },
   "outputs": [],
   "source": [
    "# Danh sách các file JAR\n",
    "jar_files = [\n",
    "    \"jars/iceberg-spark-runtime-3.4_2.12-1.5.0.jar\",\n",
    "    \"jars/iceberg-api-1.4.0.jar\",\n",
    "    \"jars/iceberg-common-1.4.0.jar\",\n",
    "    \"jars/iceberg-core-1.4.0.jar\",\n",
    "    \"jars/iceberg-bundled-guava-1.4.0.jar\",\n",
    "    \"jars/iceberg-nessie-1.4.0.jar\",\n",
    "    \"jars/nessie-spark-extensions-3.4_2.12-0.77.1.jar\",\n",
    "    \"jars/nessie-client-0.71.0.jar\",\n",
    "    \"jars/nessie-model-0.71.0.jar\",\n",
    "    \"jars/bundle-2.24.8.jar\",\n",
    "    \"jars/url-connection-client-2.24.8.jar\",\n",
    "    \"jars/utils-2.24.8.jar\",\n",
    "    \"jars/http-client-spi-2.24.8.jar\",\n",
    "    \"jars/metrics-spi-2.24.8.jar\",\n",
    "    \"jars/annotations-2.24.8.jar\",\n",
    "    \"jars/hadoop-aws-3.3.4.jar\",\n",
    "    \"jars/hadoop-common-3.3.4.jar\",\n",
    "    \"jars/hadoop-auth-3.3.4.jar\",\n",
    "    \"jars/hadoop-annotations-3.3.4.jar\",\n",
    "    \"jars/aws-java-sdk-bundle-1.12.262.jar\",\n",
    "    \"jars/jackson-core-2.15.2.jar\",\n",
    "    \"jars/jackson-databind-2.15.2.jar\",\n",
    "    \"jars/jackson-annotations-2.15.2.jar\",\n",
    "    \"jars/slf4j-api-1.7.36.jar\",\n",
    "    \"jars/slf4j-reload4j-1.7.36.jar\",\n",
    "    \"jars/commons-compress-1.21.jar\",\n",
    "    \"jars/avro-1.11.1.jar\",\n",
    "    \"jars/aircompressor-0.25.jar\",\n",
    "    \"jars/commons-lang3-3.12.0.jar\",\n",
    "    \"jars/commons-codec-1.15.jar\",\n",
    "    \"jars/commons-text-1.4.jar\",\n",
    "    \"jars/commons-io-2.8.0.jar\",\n",
    "    \"jars/guava-30.1.1-jre.jar\",\n",
    "    \"jars/RoaringBitmap-0.9.47.jar\"\n",
    "]"
   ]
  },
  {
   "cell_type": "code",
   "execution_count": null,
   "id": "bfaabb93-5afe-4e68-a5c9-db32c7b5108d",
   "metadata": {
    "id": "bfaabb93-5afe-4e68-a5c9-db32c7b5108d"
   },
   "outputs": [],
   "source": [
    "conf = (\n",
    "    pyspark.SparkConf()\n",
    "        .setAppName('raw_to_standard_etl')\n",
    "        .set(\"spark.jars\", \",\".join(jar_files))\n",
    "        .set('spark.sql.extensions', 'org.apache.iceberg.spark.extensions.IcebergSparkSessionExtensions,org.projectnessie.spark.extensions.NessieSparkSessionExtensions')\n",
    "        .set('spark.sql.catalog.nessie', 'org.apache.iceberg.spark.SparkCatalog')\n",
    "        .set('spark.sql.catalog.nessie.uri', nessi_uri)\n",
    "        .set('spark.sql.catalog.nessie.ref', 'main')\n",
    "        .set('spark.sql.catalog.nessie.authentication.type', 'NONE')\n",
    "        .set('spark.sql.catalog.nessie.catalog-impl', 'org.apache.iceberg.nessie.NessieCatalog')\n",
    "        .set('spark.sql.catalog.nessie.s3.endpoint', aws_s3_endpoint)\n",
    "        .set('spark.sql.catalog.nessie.warehouse', nessi_warehouse)\n",
    "        .set('spark.sql.catalog.nessie.io-impl', 'org.apache.iceberg.aws.s3.S3FileIO')\n",
    "        .set('spark.hadoop.fs.s3a.access.key', aws_access_key)\n",
    "        .set('spark.hadoop.fs.s3a.secret.key', aws_secret_key)\n",
    "        .set('spark.hadoop.fs.s3a.endpoint', aws_s3_endpoint)\n",
    "        .set('spark.hadoop.fs.s3a.region', aws_s3_region)\n",
    "        .set('spark.hadoop.fs.s3a.path.style.access', 'true')\n",
    "        .set('spark.hadoop.fs.s3a.impl', 'org.apache.hadoop.fs.s3a.S3AFileSystem')\n",
    "        .set('spark.hadoop.fs.s3a.aws.credentials.provider', 'org.apache.hadoop.fs.s3a.SimpleAWSCredentialsProvider')\n",
    "        .set('spark.hadoop.fs.s3a.connection.ssl.enabled', 'false')\n",
    "        .set('spark.hadoop.fs.s3a.aws.credentials.provider', \n",
    "             'org.apache.hadoop.fs.s3a.SimpleAWSCredentialsProvider,'\n",
    "             'org.apache.hadoop.fs.s3a.EnvironmentVariableCredentialsProvider')\n",
    ")"
   ]
  },
  {
   "cell_type": "code",
   "execution_count": 10,
   "id": "a31afc2a-7245-418e-8b91-a42acab14636",
   "metadata": {
    "id": "a31afc2a-7245-418e-8b91-a42acab14636"
   },
   "outputs": [],
   "source": [
    "conf = (\n",
    "    pyspark.SparkConf()\n",
    "        .setAppName('raw_to_standard_etl')\n",
    "        .set('spark.jars.packages', \n",
    "             'org.apache.iceberg:iceberg-spark-runtime-3.4_2.12:1.5.0,'\n",
    "             'org.projectnessie.nessie-integrations:nessie-spark-extensions-3.4_2.12:0.77.1,'\n",
    "             'software.amazon.awssdk:bundle:2.24.8,'\n",
    "             'org.apache.iceberg:iceberg-nessie:1.4.0,'\n",
    "             'org.apache.hadoop:hadoop-aws:3.3.4,'  \n",
    "             'org.apache.hadoop:hadoop-common:3.3.4,' \n",
    "             'org.apache.iceberg:iceberg-aws-bundle:1.5.2,'\n",
    "             'io.minio:minio:8.5.0,'\n",
    "             'org.apache.spark:spark-hadoop-cloud_2.13:3.2.1,'\n",
    "             'software.amazon.awssdk:url-connection-client:2.24.8,'\n",
    "             'com.amazonaws:aws-java-sdk-bundle:1.12.262')\n",
    "        .set('spark.sql.extensions', 'org.apache.iceberg.spark.extensions.IcebergSparkSessionExtensions,org.projectnessie.spark.extensions.NessieSparkSessionExtensions')\n",
    "        .set('spark.sql.catalog.nessie', 'org.apache.iceberg.spark.SparkCatalog')\n",
    "        .set('spark.sql.catalog.nessie.uri', nessi_uri)\n",
    "        .set('spark.sql.catalog.nessie.ref', 'main')\n",
    "        .set('spark.sql.catalog.nessie.authentication.type', 'NONE')\n",
    "        .set('spark.sql.catalog.nessie.catalog-impl', 'org.apache.iceberg.nessie.NessieCatalog')\n",
    "        .set('spark.sql.catalog.nessie.s3.endpoint', aws_s3_endpoint)\n",
    "        .set('spark.sql.catalog.nessie.warehouse', nessi_warehouse)\n",
    "        .set('spark.sql.catalog.nessie.io-impl', 'org.apache.iceberg.hadoop.HadoopFileIO')\n",
    "        .set('spark.hadoop.fs.s3a.access.key', aws_access_key)\n",
    "        .set('spark.hadoop.fs.s3a.secret.key', aws_secret_key)\n",
    "        .set('spark.hadoop.fs.s3a.endpoint', aws_s3_endpoint)\n",
    "        .set('spark.hadoop.fs.s3a.region', aws_s3_region)\n",
    "        .set('spark.hadoop.fs.s3a.path.style.access', 'true')\n",
    "        .set('spark.hadoop.fs.s3a.impl', 'org.apache.hadoop.fs.s3a.S3AFileSystem')\n",
    "        .set('spark.hadoop.fs.s3a.aws.credentials.provider', 'org.apache.hadoop.fs.s3a.SimpleAWSCredentialsProvider')\n",
    "        .set('spark.hadoop.fs.s3a.connection.ssl.enabled', 'false')\n",
    "        .set('spark.hadoop.fs.s3a.aws.credentials.provider', \n",
    "             'org.apache.hadoop.fs.s3a.SimpleAWSCredentialsProvider,'\n",
    "             'org.apache.hadoop.fs.s3a.EnvironmentVariableCredentialsProvider')\n",
    ")\n"
   ]
  },
  {
   "cell_type": "code",
   "execution_count": 11,
   "id": "fa7b9cbb-14d5-4db9-9707-c256fc648e76",
   "metadata": {
    "id": "fa7b9cbb-14d5-4db9-9707-c256fc648e76",
    "scrolled": true
   },
   "outputs": [],
   "source": [
    "spark = SparkSession.builder.config(conf=conf).getOrCreate()\n",
    "sc = spark.sparkContext\n",
    "sc._jsc.hadoopConfiguration().set(\"fs.s3a.access.key\", aws_access_key)\n",
    "sc._jsc.hadoopConfiguration().set(\"fs.s3a.secret.key\", aws_secret_key)\n",
    "sc._jsc.hadoopConfiguration().set(\"fs.s3a.endpoint\", aws_s3_endpoint)\n",
    "sc._jsc.hadoopConfiguration().set(\"fs.s3a.path.style.access\", \"true\")"
   ]
  },
  {
   "cell_type": "code",
   "execution_count": 12,
   "id": "93b39e73-1628-4716-a022-3c577b8d9a6f",
   "metadata": {
    "id": "93b39e73-1628-4716-a022-3c577b8d9a6f"
   },
   "outputs": [
    {
     "name": "stdout",
     "output_type": "stream",
     "text": [
      "+---------+-------+------------+---------+-------+--------------+------+---------+------+--------------+-----------------------+\n",
      "|ACCOUNTID|BANK_ID|CORE_CUST_ID|   ORGKEY|ORGTYPE|          NAME|GENDER|CUST_TYPE|STATUS|PRIMARY_SOL_ID|RELATIONSHIPOPENINGDATE|\n",
      "+---------+-------+------------+---------+-------+--------------+------+---------+------+--------------+-----------------------+\n",
      "|        1|      1|   113391407|113391407|Account|TRAN T *** HAI|     M|    10001| ACTVE|          1404|             23-02-2018|\n",
      "|        2|      1|   113391457|113391457|Account|TRAN T *** YEN|     F|    10001| ACTVE|          1003|              3/12/2018|\n",
      "|        3|      1|   113391483|113391483|Account|TRAN T *** BAC|     F|    10001| ACTVE|          2201|             15-06-2018|\n",
      "|        4|      1|   105260800|105260800|Account|NGUYEN *** UNG|     M|    10001| ACTVE|          1401|             16-11-2018|\n",
      "|        5|      1|   106573010|106573010|Account|TRAN N *** ANH|     M|    10001| ACTVE|          1600|              7/10/2002|\n",
      "|        6|      1|   106573034|106573034|Account|NGUYEN *** ANH|     F|    10001| ACTVE|          1003|              7/10/2002|\n",
      "|        7|      1|   106573046|106573046|Account|PHAN G ***  TU|     M|    10001| ACTVE|          1003|              7/10/2002|\n",
      "|        8|      1|   106573058|106573058|Account|LE THI *** OAN|     F|    10001| ACTVE|          1003|              7/10/2002|\n",
      "|        9|      1|   106573072|106573072|Account|LE KIM *** OAN|     F|    10001| ACTVE|          1003|              7/10/2002|\n",
      "|       10|      1|   118013294|118013294|Account|CHIU T *** UAN|     F|    10001| ACTVE|          1402|              7/10/2002|\n",
      "|       11|      1|   119967428|119967428|Account|NGUYEN *** UAN|     F|    10001| ACTVE|          1601|             14-01-2019|\n",
      "|       12|      1|   106573084|106573084|Account|NGUYEN *** THU|     F|    10001| ACTVE|          1700|             21-01-2019|\n",
      "|       13|      1|   105279368|105279368|Account|CAO HO *** ONG|     M|    10001| ACTVE|          1502|             20-02-2019|\n",
      "|       14|      1|   105279370|105279370|Account|NGUYEN *** YEN|     M|    10001| ACTVE|          1003|             17-06-2019|\n",
      "|       15|      1|   105279435|105279435|Account|LE ANH ***  TU|     M|    10001| ACTVE|          1003|              10/2/2017|\n",
      "|       16|      1|   105268371|105268371|Account|NGO TH *** ANH|     F|    10001| ACTVE|          1015|             25-08-2017|\n",
      "|       17|      1|   105268383|105268383|Account|HUYNH  *** HUY|     F|    10001| ACTVE|          1401|               7/3/2018|\n",
      "|       18|      1|   105268400|105268400|Account|PHAM T *** ANG|     F|    10001| ACTVE|          2100|             14-03-2018|\n",
      "|       19|      1|   119821325|119821325|Account|NGUYEN *** ANG|     F|    10001| ACTVE|          1602|             16-03-2018|\n",
      "|       20|      1|   119821404|119821404|Account|NGUYEN *** OAI|     F|    10001| ACTVE|          1602|             23-03-2018|\n",
      "|       21|      1|   119821997|119821997|Account|DO VAN *** HUY|     M|    10001| ACTVE|          1603|               6/7/2018|\n",
      "|       22|      1|   119822006|119822006|Account|VO PHU *** ONG|     F|    10001| ACTVE|          2108|             24-07-2018|\n",
      "|       23|      1|   119822032|119822032|Account|HO VAN *** DAT|     M|    10001| ACTVE|          1003|             27-09-2018|\n",
      "|       24|      1|   119822161|119822161|Account|PHAN K *** ANH|     F|    10001| ACTVE|          2109|              7/12/2018|\n",
      "|       25|      1|   119822252|119822252|Account|NGUYEN *** VAN|     M|    10001| ACTVE|          1509|               1/7/2019|\n",
      "|       26|      1|   119808854|119808854|Account|NGUYEN *** ANH|     M|    10001| ACTVE|          1901|             30-09-2019|\n",
      "|       27|      1|   105288852|105288852|Account|TRINH  *** OAN|     F|    10001| ACTVE|          1004|             18-01-2017|\n",
      "|       28|      1|   111034562|111034562|Account|NGUYEN *** UNG|     F|    10001| ACTVE|          1603|             22-02-2017|\n",
      "+---------+-------+------------+---------+-------+--------------+------+---------+------+--------------+-----------------------+\n",
      "\n"
     ]
    }
   ],
   "source": [
    "raw_df = spark.read.csv(raw_csv_path, header=True) \n",
    "raw_df.show(50)"
   ]
  },
  {
   "cell_type": "code",
   "execution_count": 6,
   "id": "75d0e5e0-69c9-4b19-bd58-4dd24220e09c",
   "metadata": {
    "id": "75d0e5e0-69c9-4b19-bd58-4dd24220e09c"
   },
   "outputs": [
    {
     "name": "stdout",
     "output_type": "stream",
     "text": [
      "++\n",
      "||\n",
      "++\n",
      "++\n",
      "\n"
     ]
    }
   ],
   "source": [
    "spark.sql(\"CREATE NAMESPACE nessie.lamtest;\").show()"
   ]
  },
  {
   "cell_type": "code",
   "execution_count": 7,
   "id": "500ab14f-db68-47e0-8d26-a7b10fb84007",
   "metadata": {
    "id": "500ab14f-db68-47e0-8d26-a7b10fb84007"
   },
   "outputs": [
    {
     "data": {
      "text/plain": [
       "DataFrame[]"
      ]
     },
     "execution_count": 7,
     "metadata": {},
     "output_type": "execute_result"
    }
   ],
   "source": [
    "spark.sql(\"\"\"CREATE TABLE nessie.lamtest.customer(\n",
    "            ACCOUNTID STRING,\n",
    "            BANK_ID STRING,\n",
    "            CORE_CUST_ID STRING,\n",
    "            ORGKEY STRING,\n",
    "            ORGTYPE STRING,\n",
    "            NAME STRING,\n",
    "            GENDER STRING,\n",
    "            CUST_TYPE STRING,\n",
    "            STATUS STRING,\n",
    "            PRIMARY_SOL_ID STRING,\n",
    "            RELATIONSHIPOPENINGDATE DATE)\n",
    "        USING ICEBERG \"\"\")"
   ]
  }
 ],
 "metadata": {
  "kernelspec": {
   "display_name": "Python 3.11 with Spark",
   "language": "python3",
   "name": "python311"
  },
  "language_info": {
   "codemirror_mode": {
    "name": "ipython",
    "version": 3
   },
   "file_extension": ".py",
   "mimetype": "text/x-python",
   "name": "python",
   "nbconvert_exporter": "python",
   "pygments_lexer": "ipython3",
   "version": "3.11.9"
  }
 },
 "nbformat": 4,
 "nbformat_minor": 5
}
